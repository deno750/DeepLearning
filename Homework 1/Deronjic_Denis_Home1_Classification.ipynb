{
  "nbformat": 4,
  "nbformat_minor": 0,
  "metadata": {
    "accelerator": "GPU",
    "colab": {
      "name": "Deronjic_Denis_Home1_Classification.ipynb",
      "provenance": [],
      "collapsed_sections": [],
      "toc_visible": true
    },
    "kernelspec": {
      "display_name": "Python 3",
      "name": "python3"
    },
    "widgets": {
      "application/vnd.jupyter.widget-state+json": {
        "d1422b31e0954ba2a0e1257b5dd4babd": {
          "model_module": "@jupyter-widgets/controls",
          "model_name": "HBoxModel",
          "state": {
            "_view_name": "HBoxView",
            "_dom_classes": [],
            "_model_name": "HBoxModel",
            "_view_module": "@jupyter-widgets/controls",
            "_model_module_version": "1.5.0",
            "_view_count": null,
            "_view_module_version": "1.5.0",
            "box_style": "",
            "layout": "IPY_MODEL_41bc7cea508b4c0a9b25ac964cfd75b6",
            "_model_module": "@jupyter-widgets/controls",
            "children": [
              "IPY_MODEL_79906708ce8b4a0391254e7bbf2f0ee5",
              "IPY_MODEL_2aa605d4ed804e2fba2f476d972f36da"
            ]
          }
        },
        "41bc7cea508b4c0a9b25ac964cfd75b6": {
          "model_module": "@jupyter-widgets/base",
          "model_name": "LayoutModel",
          "state": {
            "_view_name": "LayoutView",
            "grid_template_rows": null,
            "right": null,
            "justify_content": null,
            "_view_module": "@jupyter-widgets/base",
            "overflow": null,
            "_model_module_version": "1.2.0",
            "_view_count": null,
            "flex_flow": null,
            "width": null,
            "min_width": null,
            "border": null,
            "align_items": null,
            "bottom": null,
            "_model_module": "@jupyter-widgets/base",
            "top": null,
            "grid_column": null,
            "overflow_y": null,
            "overflow_x": null,
            "grid_auto_flow": null,
            "grid_area": null,
            "grid_template_columns": null,
            "flex": null,
            "_model_name": "LayoutModel",
            "justify_items": null,
            "grid_row": null,
            "max_height": null,
            "align_content": null,
            "visibility": null,
            "align_self": null,
            "height": null,
            "min_height": null,
            "padding": null,
            "grid_auto_rows": null,
            "grid_gap": null,
            "max_width": null,
            "order": null,
            "_view_module_version": "1.2.0",
            "grid_template_areas": null,
            "object_position": null,
            "object_fit": null,
            "grid_auto_columns": null,
            "margin": null,
            "display": null,
            "left": null
          }
        },
        "79906708ce8b4a0391254e7bbf2f0ee5": {
          "model_module": "@jupyter-widgets/controls",
          "model_name": "FloatProgressModel",
          "state": {
            "_view_name": "ProgressView",
            "style": "IPY_MODEL_b1497539abac47fda0f2e5a42e87bca5",
            "_dom_classes": [],
            "description": "",
            "_model_name": "FloatProgressModel",
            "bar_style": "success",
            "max": 1,
            "_view_module": "@jupyter-widgets/controls",
            "_model_module_version": "1.5.0",
            "value": 1,
            "_view_count": null,
            "_view_module_version": "1.5.0",
            "orientation": "horizontal",
            "min": 0,
            "description_tooltip": null,
            "_model_module": "@jupyter-widgets/controls",
            "layout": "IPY_MODEL_dc3159679e0c4eac9b28cfd9d908db9d"
          }
        },
        "2aa605d4ed804e2fba2f476d972f36da": {
          "model_module": "@jupyter-widgets/controls",
          "model_name": "HTMLModel",
          "state": {
            "_view_name": "HTMLView",
            "style": "IPY_MODEL_adfa7310b34d4b0e8235d9a35954bc43",
            "_dom_classes": [],
            "description": "",
            "_model_name": "HTMLModel",
            "placeholder": "​",
            "_view_module": "@jupyter-widgets/controls",
            "_model_module_version": "1.5.0",
            "value": " 9920512/? [00:01&lt;00:00, 5929716.25it/s]",
            "_view_count": null,
            "_view_module_version": "1.5.0",
            "description_tooltip": null,
            "_model_module": "@jupyter-widgets/controls",
            "layout": "IPY_MODEL_65b0b10d76c64420a097e05634550479"
          }
        },
        "b1497539abac47fda0f2e5a42e87bca5": {
          "model_module": "@jupyter-widgets/controls",
          "model_name": "ProgressStyleModel",
          "state": {
            "_view_name": "StyleView",
            "_model_name": "ProgressStyleModel",
            "description_width": "initial",
            "_view_module": "@jupyter-widgets/base",
            "_model_module_version": "1.5.0",
            "_view_count": null,
            "_view_module_version": "1.2.0",
            "bar_color": null,
            "_model_module": "@jupyter-widgets/controls"
          }
        },
        "dc3159679e0c4eac9b28cfd9d908db9d": {
          "model_module": "@jupyter-widgets/base",
          "model_name": "LayoutModel",
          "state": {
            "_view_name": "LayoutView",
            "grid_template_rows": null,
            "right": null,
            "justify_content": null,
            "_view_module": "@jupyter-widgets/base",
            "overflow": null,
            "_model_module_version": "1.2.0",
            "_view_count": null,
            "flex_flow": null,
            "width": null,
            "min_width": null,
            "border": null,
            "align_items": null,
            "bottom": null,
            "_model_module": "@jupyter-widgets/base",
            "top": null,
            "grid_column": null,
            "overflow_y": null,
            "overflow_x": null,
            "grid_auto_flow": null,
            "grid_area": null,
            "grid_template_columns": null,
            "flex": null,
            "_model_name": "LayoutModel",
            "justify_items": null,
            "grid_row": null,
            "max_height": null,
            "align_content": null,
            "visibility": null,
            "align_self": null,
            "height": null,
            "min_height": null,
            "padding": null,
            "grid_auto_rows": null,
            "grid_gap": null,
            "max_width": null,
            "order": null,
            "_view_module_version": "1.2.0",
            "grid_template_areas": null,
            "object_position": null,
            "object_fit": null,
            "grid_auto_columns": null,
            "margin": null,
            "display": null,
            "left": null
          }
        },
        "adfa7310b34d4b0e8235d9a35954bc43": {
          "model_module": "@jupyter-widgets/controls",
          "model_name": "DescriptionStyleModel",
          "state": {
            "_view_name": "StyleView",
            "_model_name": "DescriptionStyleModel",
            "description_width": "",
            "_view_module": "@jupyter-widgets/base",
            "_model_module_version": "1.5.0",
            "_view_count": null,
            "_view_module_version": "1.2.0",
            "_model_module": "@jupyter-widgets/controls"
          }
        },
        "65b0b10d76c64420a097e05634550479": {
          "model_module": "@jupyter-widgets/base",
          "model_name": "LayoutModel",
          "state": {
            "_view_name": "LayoutView",
            "grid_template_rows": null,
            "right": null,
            "justify_content": null,
            "_view_module": "@jupyter-widgets/base",
            "overflow": null,
            "_model_module_version": "1.2.0",
            "_view_count": null,
            "flex_flow": null,
            "width": null,
            "min_width": null,
            "border": null,
            "align_items": null,
            "bottom": null,
            "_model_module": "@jupyter-widgets/base",
            "top": null,
            "grid_column": null,
            "overflow_y": null,
            "overflow_x": null,
            "grid_auto_flow": null,
            "grid_area": null,
            "grid_template_columns": null,
            "flex": null,
            "_model_name": "LayoutModel",
            "justify_items": null,
            "grid_row": null,
            "max_height": null,
            "align_content": null,
            "visibility": null,
            "align_self": null,
            "height": null,
            "min_height": null,
            "padding": null,
            "grid_auto_rows": null,
            "grid_gap": null,
            "max_width": null,
            "order": null,
            "_view_module_version": "1.2.0",
            "grid_template_areas": null,
            "object_position": null,
            "object_fit": null,
            "grid_auto_columns": null,
            "margin": null,
            "display": null,
            "left": null
          }
        },
        "610d993011dc490997bd262ff9085fc6": {
          "model_module": "@jupyter-widgets/controls",
          "model_name": "HBoxModel",
          "state": {
            "_view_name": "HBoxView",
            "_dom_classes": [],
            "_model_name": "HBoxModel",
            "_view_module": "@jupyter-widgets/controls",
            "_model_module_version": "1.5.0",
            "_view_count": null,
            "_view_module_version": "1.5.0",
            "box_style": "",
            "layout": "IPY_MODEL_a53c8ccf54f041288dd8c95c253cb6a3",
            "_model_module": "@jupyter-widgets/controls",
            "children": [
              "IPY_MODEL_f95791d2225348778e1e8772b68dd099",
              "IPY_MODEL_5ccc65e2c57e4d6bab4d42c89bea196f"
            ]
          }
        },
        "a53c8ccf54f041288dd8c95c253cb6a3": {
          "model_module": "@jupyter-widgets/base",
          "model_name": "LayoutModel",
          "state": {
            "_view_name": "LayoutView",
            "grid_template_rows": null,
            "right": null,
            "justify_content": null,
            "_view_module": "@jupyter-widgets/base",
            "overflow": null,
            "_model_module_version": "1.2.0",
            "_view_count": null,
            "flex_flow": null,
            "width": null,
            "min_width": null,
            "border": null,
            "align_items": null,
            "bottom": null,
            "_model_module": "@jupyter-widgets/base",
            "top": null,
            "grid_column": null,
            "overflow_y": null,
            "overflow_x": null,
            "grid_auto_flow": null,
            "grid_area": null,
            "grid_template_columns": null,
            "flex": null,
            "_model_name": "LayoutModel",
            "justify_items": null,
            "grid_row": null,
            "max_height": null,
            "align_content": null,
            "visibility": null,
            "align_self": null,
            "height": null,
            "min_height": null,
            "padding": null,
            "grid_auto_rows": null,
            "grid_gap": null,
            "max_width": null,
            "order": null,
            "_view_module_version": "1.2.0",
            "grid_template_areas": null,
            "object_position": null,
            "object_fit": null,
            "grid_auto_columns": null,
            "margin": null,
            "display": null,
            "left": null
          }
        },
        "f95791d2225348778e1e8772b68dd099": {
          "model_module": "@jupyter-widgets/controls",
          "model_name": "FloatProgressModel",
          "state": {
            "_view_name": "ProgressView",
            "style": "IPY_MODEL_577bb71a35f1497887da70500fafea20",
            "_dom_classes": [],
            "description": "",
            "_model_name": "FloatProgressModel",
            "bar_style": "success",
            "max": 1,
            "_view_module": "@jupyter-widgets/controls",
            "_model_module_version": "1.5.0",
            "value": 1,
            "_view_count": null,
            "_view_module_version": "1.5.0",
            "orientation": "horizontal",
            "min": 0,
            "description_tooltip": null,
            "_model_module": "@jupyter-widgets/controls",
            "layout": "IPY_MODEL_ab3f16997f3947fdaee8e23312deaa4a"
          }
        },
        "5ccc65e2c57e4d6bab4d42c89bea196f": {
          "model_module": "@jupyter-widgets/controls",
          "model_name": "HTMLModel",
          "state": {
            "_view_name": "HTMLView",
            "style": "IPY_MODEL_d18966e910724ffa8cb441ea29fcdf69",
            "_dom_classes": [],
            "description": "",
            "_model_name": "HTMLModel",
            "placeholder": "​",
            "_view_module": "@jupyter-widgets/controls",
            "_model_module_version": "1.5.0",
            "value": " 32768/? [00:00&lt;00:00, 225106.43it/s]",
            "_view_count": null,
            "_view_module_version": "1.5.0",
            "description_tooltip": null,
            "_model_module": "@jupyter-widgets/controls",
            "layout": "IPY_MODEL_33f709b3489f432294d877ed0e3a423a"
          }
        },
        "577bb71a35f1497887da70500fafea20": {
          "model_module": "@jupyter-widgets/controls",
          "model_name": "ProgressStyleModel",
          "state": {
            "_view_name": "StyleView",
            "_model_name": "ProgressStyleModel",
            "description_width": "initial",
            "_view_module": "@jupyter-widgets/base",
            "_model_module_version": "1.5.0",
            "_view_count": null,
            "_view_module_version": "1.2.0",
            "bar_color": null,
            "_model_module": "@jupyter-widgets/controls"
          }
        },
        "ab3f16997f3947fdaee8e23312deaa4a": {
          "model_module": "@jupyter-widgets/base",
          "model_name": "LayoutModel",
          "state": {
            "_view_name": "LayoutView",
            "grid_template_rows": null,
            "right": null,
            "justify_content": null,
            "_view_module": "@jupyter-widgets/base",
            "overflow": null,
            "_model_module_version": "1.2.0",
            "_view_count": null,
            "flex_flow": null,
            "width": null,
            "min_width": null,
            "border": null,
            "align_items": null,
            "bottom": null,
            "_model_module": "@jupyter-widgets/base",
            "top": null,
            "grid_column": null,
            "overflow_y": null,
            "overflow_x": null,
            "grid_auto_flow": null,
            "grid_area": null,
            "grid_template_columns": null,
            "flex": null,
            "_model_name": "LayoutModel",
            "justify_items": null,
            "grid_row": null,
            "max_height": null,
            "align_content": null,
            "visibility": null,
            "align_self": null,
            "height": null,
            "min_height": null,
            "padding": null,
            "grid_auto_rows": null,
            "grid_gap": null,
            "max_width": null,
            "order": null,
            "_view_module_version": "1.2.0",
            "grid_template_areas": null,
            "object_position": null,
            "object_fit": null,
            "grid_auto_columns": null,
            "margin": null,
            "display": null,
            "left": null
          }
        },
        "d18966e910724ffa8cb441ea29fcdf69": {
          "model_module": "@jupyter-widgets/controls",
          "model_name": "DescriptionStyleModel",
          "state": {
            "_view_name": "StyleView",
            "_model_name": "DescriptionStyleModel",
            "description_width": "",
            "_view_module": "@jupyter-widgets/base",
            "_model_module_version": "1.5.0",
            "_view_count": null,
            "_view_module_version": "1.2.0",
            "_model_module": "@jupyter-widgets/controls"
          }
        },
        "33f709b3489f432294d877ed0e3a423a": {
          "model_module": "@jupyter-widgets/base",
          "model_name": "LayoutModel",
          "state": {
            "_view_name": "LayoutView",
            "grid_template_rows": null,
            "right": null,
            "justify_content": null,
            "_view_module": "@jupyter-widgets/base",
            "overflow": null,
            "_model_module_version": "1.2.0",
            "_view_count": null,
            "flex_flow": null,
            "width": null,
            "min_width": null,
            "border": null,
            "align_items": null,
            "bottom": null,
            "_model_module": "@jupyter-widgets/base",
            "top": null,
            "grid_column": null,
            "overflow_y": null,
            "overflow_x": null,
            "grid_auto_flow": null,
            "grid_area": null,
            "grid_template_columns": null,
            "flex": null,
            "_model_name": "LayoutModel",
            "justify_items": null,
            "grid_row": null,
            "max_height": null,
            "align_content": null,
            "visibility": null,
            "align_self": null,
            "height": null,
            "min_height": null,
            "padding": null,
            "grid_auto_rows": null,
            "grid_gap": null,
            "max_width": null,
            "order": null,
            "_view_module_version": "1.2.0",
            "grid_template_areas": null,
            "object_position": null,
            "object_fit": null,
            "grid_auto_columns": null,
            "margin": null,
            "display": null,
            "left": null
          }
        },
        "2ceaee966c164e728eee5f5dba9eb8f2": {
          "model_module": "@jupyter-widgets/controls",
          "model_name": "HBoxModel",
          "state": {
            "_view_name": "HBoxView",
            "_dom_classes": [],
            "_model_name": "HBoxModel",
            "_view_module": "@jupyter-widgets/controls",
            "_model_module_version": "1.5.0",
            "_view_count": null,
            "_view_module_version": "1.5.0",
            "box_style": "",
            "layout": "IPY_MODEL_91873ace7fe7477a906af55263474dd6",
            "_model_module": "@jupyter-widgets/controls",
            "children": [
              "IPY_MODEL_d33ddabfda1d4e8f939fc8ea10bb2b3e",
              "IPY_MODEL_e0741a622e4540778f79f3f42bab93db"
            ]
          }
        },
        "91873ace7fe7477a906af55263474dd6": {
          "model_module": "@jupyter-widgets/base",
          "model_name": "LayoutModel",
          "state": {
            "_view_name": "LayoutView",
            "grid_template_rows": null,
            "right": null,
            "justify_content": null,
            "_view_module": "@jupyter-widgets/base",
            "overflow": null,
            "_model_module_version": "1.2.0",
            "_view_count": null,
            "flex_flow": null,
            "width": null,
            "min_width": null,
            "border": null,
            "align_items": null,
            "bottom": null,
            "_model_module": "@jupyter-widgets/base",
            "top": null,
            "grid_column": null,
            "overflow_y": null,
            "overflow_x": null,
            "grid_auto_flow": null,
            "grid_area": null,
            "grid_template_columns": null,
            "flex": null,
            "_model_name": "LayoutModel",
            "justify_items": null,
            "grid_row": null,
            "max_height": null,
            "align_content": null,
            "visibility": null,
            "align_self": null,
            "height": null,
            "min_height": null,
            "padding": null,
            "grid_auto_rows": null,
            "grid_gap": null,
            "max_width": null,
            "order": null,
            "_view_module_version": "1.2.0",
            "grid_template_areas": null,
            "object_position": null,
            "object_fit": null,
            "grid_auto_columns": null,
            "margin": null,
            "display": null,
            "left": null
          }
        },
        "d33ddabfda1d4e8f939fc8ea10bb2b3e": {
          "model_module": "@jupyter-widgets/controls",
          "model_name": "FloatProgressModel",
          "state": {
            "_view_name": "ProgressView",
            "style": "IPY_MODEL_d989697da24b497986db3a64a59eee71",
            "_dom_classes": [],
            "description": "",
            "_model_name": "FloatProgressModel",
            "bar_style": "success",
            "max": 1,
            "_view_module": "@jupyter-widgets/controls",
            "_model_module_version": "1.5.0",
            "value": 1,
            "_view_count": null,
            "_view_module_version": "1.5.0",
            "orientation": "horizontal",
            "min": 0,
            "description_tooltip": null,
            "_model_module": "@jupyter-widgets/controls",
            "layout": "IPY_MODEL_9b5785bb96a045c08771fedcb113c94f"
          }
        },
        "e0741a622e4540778f79f3f42bab93db": {
          "model_module": "@jupyter-widgets/controls",
          "model_name": "HTMLModel",
          "state": {
            "_view_name": "HTMLView",
            "style": "IPY_MODEL_a3ce49c584fd435dbc89421c6e5230b6",
            "_dom_classes": [],
            "description": "",
            "_model_name": "HTMLModel",
            "placeholder": "​",
            "_view_module": "@jupyter-widgets/controls",
            "_model_module_version": "1.5.0",
            "value": " 1654784/? [00:00&lt;00:00, 2183019.86it/s]",
            "_view_count": null,
            "_view_module_version": "1.5.0",
            "description_tooltip": null,
            "_model_module": "@jupyter-widgets/controls",
            "layout": "IPY_MODEL_28997c72448e4a8e8758a67066eebd98"
          }
        },
        "d989697da24b497986db3a64a59eee71": {
          "model_module": "@jupyter-widgets/controls",
          "model_name": "ProgressStyleModel",
          "state": {
            "_view_name": "StyleView",
            "_model_name": "ProgressStyleModel",
            "description_width": "initial",
            "_view_module": "@jupyter-widgets/base",
            "_model_module_version": "1.5.0",
            "_view_count": null,
            "_view_module_version": "1.2.0",
            "bar_color": null,
            "_model_module": "@jupyter-widgets/controls"
          }
        },
        "9b5785bb96a045c08771fedcb113c94f": {
          "model_module": "@jupyter-widgets/base",
          "model_name": "LayoutModel",
          "state": {
            "_view_name": "LayoutView",
            "grid_template_rows": null,
            "right": null,
            "justify_content": null,
            "_view_module": "@jupyter-widgets/base",
            "overflow": null,
            "_model_module_version": "1.2.0",
            "_view_count": null,
            "flex_flow": null,
            "width": null,
            "min_width": null,
            "border": null,
            "align_items": null,
            "bottom": null,
            "_model_module": "@jupyter-widgets/base",
            "top": null,
            "grid_column": null,
            "overflow_y": null,
            "overflow_x": null,
            "grid_auto_flow": null,
            "grid_area": null,
            "grid_template_columns": null,
            "flex": null,
            "_model_name": "LayoutModel",
            "justify_items": null,
            "grid_row": null,
            "max_height": null,
            "align_content": null,
            "visibility": null,
            "align_self": null,
            "height": null,
            "min_height": null,
            "padding": null,
            "grid_auto_rows": null,
            "grid_gap": null,
            "max_width": null,
            "order": null,
            "_view_module_version": "1.2.0",
            "grid_template_areas": null,
            "object_position": null,
            "object_fit": null,
            "grid_auto_columns": null,
            "margin": null,
            "display": null,
            "left": null
          }
        },
        "a3ce49c584fd435dbc89421c6e5230b6": {
          "model_module": "@jupyter-widgets/controls",
          "model_name": "DescriptionStyleModel",
          "state": {
            "_view_name": "StyleView",
            "_model_name": "DescriptionStyleModel",
            "description_width": "",
            "_view_module": "@jupyter-widgets/base",
            "_model_module_version": "1.5.0",
            "_view_count": null,
            "_view_module_version": "1.2.0",
            "_model_module": "@jupyter-widgets/controls"
          }
        },
        "28997c72448e4a8e8758a67066eebd98": {
          "model_module": "@jupyter-widgets/base",
          "model_name": "LayoutModel",
          "state": {
            "_view_name": "LayoutView",
            "grid_template_rows": null,
            "right": null,
            "justify_content": null,
            "_view_module": "@jupyter-widgets/base",
            "overflow": null,
            "_model_module_version": "1.2.0",
            "_view_count": null,
            "flex_flow": null,
            "width": null,
            "min_width": null,
            "border": null,
            "align_items": null,
            "bottom": null,
            "_model_module": "@jupyter-widgets/base",
            "top": null,
            "grid_column": null,
            "overflow_y": null,
            "overflow_x": null,
            "grid_auto_flow": null,
            "grid_area": null,
            "grid_template_columns": null,
            "flex": null,
            "_model_name": "LayoutModel",
            "justify_items": null,
            "grid_row": null,
            "max_height": null,
            "align_content": null,
            "visibility": null,
            "align_self": null,
            "height": null,
            "min_height": null,
            "padding": null,
            "grid_auto_rows": null,
            "grid_gap": null,
            "max_width": null,
            "order": null,
            "_view_module_version": "1.2.0",
            "grid_template_areas": null,
            "object_position": null,
            "object_fit": null,
            "grid_auto_columns": null,
            "margin": null,
            "display": null,
            "left": null
          }
        },
        "37c02adca70e4868a2614b8e3d88a026": {
          "model_module": "@jupyter-widgets/controls",
          "model_name": "HBoxModel",
          "state": {
            "_view_name": "HBoxView",
            "_dom_classes": [],
            "_model_name": "HBoxModel",
            "_view_module": "@jupyter-widgets/controls",
            "_model_module_version": "1.5.0",
            "_view_count": null,
            "_view_module_version": "1.5.0",
            "box_style": "",
            "layout": "IPY_MODEL_c691d1ef86b64ef18a6d456757a297de",
            "_model_module": "@jupyter-widgets/controls",
            "children": [
              "IPY_MODEL_66473aa8ed2d4cbea316fc5544b53a84",
              "IPY_MODEL_73484a4b06004570985ffc7a02c642ed"
            ]
          }
        },
        "c691d1ef86b64ef18a6d456757a297de": {
          "model_module": "@jupyter-widgets/base",
          "model_name": "LayoutModel",
          "state": {
            "_view_name": "LayoutView",
            "grid_template_rows": null,
            "right": null,
            "justify_content": null,
            "_view_module": "@jupyter-widgets/base",
            "overflow": null,
            "_model_module_version": "1.2.0",
            "_view_count": null,
            "flex_flow": null,
            "width": null,
            "min_width": null,
            "border": null,
            "align_items": null,
            "bottom": null,
            "_model_module": "@jupyter-widgets/base",
            "top": null,
            "grid_column": null,
            "overflow_y": null,
            "overflow_x": null,
            "grid_auto_flow": null,
            "grid_area": null,
            "grid_template_columns": null,
            "flex": null,
            "_model_name": "LayoutModel",
            "justify_items": null,
            "grid_row": null,
            "max_height": null,
            "align_content": null,
            "visibility": null,
            "align_self": null,
            "height": null,
            "min_height": null,
            "padding": null,
            "grid_auto_rows": null,
            "grid_gap": null,
            "max_width": null,
            "order": null,
            "_view_module_version": "1.2.0",
            "grid_template_areas": null,
            "object_position": null,
            "object_fit": null,
            "grid_auto_columns": null,
            "margin": null,
            "display": null,
            "left": null
          }
        },
        "66473aa8ed2d4cbea316fc5544b53a84": {
          "model_module": "@jupyter-widgets/controls",
          "model_name": "FloatProgressModel",
          "state": {
            "_view_name": "ProgressView",
            "style": "IPY_MODEL_0de5dda3dc37447ab9d44a77fc072777",
            "_dom_classes": [],
            "description": "",
            "_model_name": "FloatProgressModel",
            "bar_style": "success",
            "max": 1,
            "_view_module": "@jupyter-widgets/controls",
            "_model_module_version": "1.5.0",
            "value": 1,
            "_view_count": null,
            "_view_module_version": "1.5.0",
            "orientation": "horizontal",
            "min": 0,
            "description_tooltip": null,
            "_model_module": "@jupyter-widgets/controls",
            "layout": "IPY_MODEL_7a12ec9db35946129f67535a3d72c39c"
          }
        },
        "73484a4b06004570985ffc7a02c642ed": {
          "model_module": "@jupyter-widgets/controls",
          "model_name": "HTMLModel",
          "state": {
            "_view_name": "HTMLView",
            "style": "IPY_MODEL_a62599a4bd4b4a1fb11213915182cfb0",
            "_dom_classes": [],
            "description": "",
            "_model_name": "HTMLModel",
            "placeholder": "​",
            "_view_module": "@jupyter-widgets/controls",
            "_model_module_version": "1.5.0",
            "value": " 8192/? [00:00&lt;00:00, 30898.02it/s]",
            "_view_count": null,
            "_view_module_version": "1.5.0",
            "description_tooltip": null,
            "_model_module": "@jupyter-widgets/controls",
            "layout": "IPY_MODEL_7558d911973348f1a00355a75f52642d"
          }
        },
        "0de5dda3dc37447ab9d44a77fc072777": {
          "model_module": "@jupyter-widgets/controls",
          "model_name": "ProgressStyleModel",
          "state": {
            "_view_name": "StyleView",
            "_model_name": "ProgressStyleModel",
            "description_width": "initial",
            "_view_module": "@jupyter-widgets/base",
            "_model_module_version": "1.5.0",
            "_view_count": null,
            "_view_module_version": "1.2.0",
            "bar_color": null,
            "_model_module": "@jupyter-widgets/controls"
          }
        },
        "7a12ec9db35946129f67535a3d72c39c": {
          "model_module": "@jupyter-widgets/base",
          "model_name": "LayoutModel",
          "state": {
            "_view_name": "LayoutView",
            "grid_template_rows": null,
            "right": null,
            "justify_content": null,
            "_view_module": "@jupyter-widgets/base",
            "overflow": null,
            "_model_module_version": "1.2.0",
            "_view_count": null,
            "flex_flow": null,
            "width": null,
            "min_width": null,
            "border": null,
            "align_items": null,
            "bottom": null,
            "_model_module": "@jupyter-widgets/base",
            "top": null,
            "grid_column": null,
            "overflow_y": null,
            "overflow_x": null,
            "grid_auto_flow": null,
            "grid_area": null,
            "grid_template_columns": null,
            "flex": null,
            "_model_name": "LayoutModel",
            "justify_items": null,
            "grid_row": null,
            "max_height": null,
            "align_content": null,
            "visibility": null,
            "align_self": null,
            "height": null,
            "min_height": null,
            "padding": null,
            "grid_auto_rows": null,
            "grid_gap": null,
            "max_width": null,
            "order": null,
            "_view_module_version": "1.2.0",
            "grid_template_areas": null,
            "object_position": null,
            "object_fit": null,
            "grid_auto_columns": null,
            "margin": null,
            "display": null,
            "left": null
          }
        },
        "a62599a4bd4b4a1fb11213915182cfb0": {
          "model_module": "@jupyter-widgets/controls",
          "model_name": "DescriptionStyleModel",
          "state": {
            "_view_name": "StyleView",
            "_model_name": "DescriptionStyleModel",
            "description_width": "",
            "_view_module": "@jupyter-widgets/base",
            "_model_module_version": "1.5.0",
            "_view_count": null,
            "_view_module_version": "1.2.0",
            "_model_module": "@jupyter-widgets/controls"
          }
        },
        "7558d911973348f1a00355a75f52642d": {
          "model_module": "@jupyter-widgets/base",
          "model_name": "LayoutModel",
          "state": {
            "_view_name": "LayoutView",
            "grid_template_rows": null,
            "right": null,
            "justify_content": null,
            "_view_module": "@jupyter-widgets/base",
            "overflow": null,
            "_model_module_version": "1.2.0",
            "_view_count": null,
            "flex_flow": null,
            "width": null,
            "min_width": null,
            "border": null,
            "align_items": null,
            "bottom": null,
            "_model_module": "@jupyter-widgets/base",
            "top": null,
            "grid_column": null,
            "overflow_y": null,
            "overflow_x": null,
            "grid_auto_flow": null,
            "grid_area": null,
            "grid_template_columns": null,
            "flex": null,
            "_model_name": "LayoutModel",
            "justify_items": null,
            "grid_row": null,
            "max_height": null,
            "align_content": null,
            "visibility": null,
            "align_self": null,
            "height": null,
            "min_height": null,
            "padding": null,
            "grid_auto_rows": null,
            "grid_gap": null,
            "max_width": null,
            "order": null,
            "_view_module_version": "1.2.0",
            "grid_template_areas": null,
            "object_position": null,
            "object_fit": null,
            "grid_auto_columns": null,
            "margin": null,
            "display": null,
            "left": null
          }
        }
      }
    }
  },
  "cells": [
    {
      "cell_type": "code",
      "metadata": {
        "id": "cf15TTbI5Q0Q"
      },
      "source": [
        "import torch\n",
        "import torchvision\n",
        "import matplotlib.pyplot as plt\n",
        "import numpy as np"
      ],
      "execution_count": null,
      "outputs": []
    },
    {
      "cell_type": "code",
      "metadata": {
        "id": "jW4MQ7dk5xAY",
        "colab": {
          "base_uri": "https://localhost:8080/",
          "height": 386,
          "referenced_widgets": [
            "d1422b31e0954ba2a0e1257b5dd4babd",
            "41bc7cea508b4c0a9b25ac964cfd75b6",
            "79906708ce8b4a0391254e7bbf2f0ee5",
            "2aa605d4ed804e2fba2f476d972f36da",
            "b1497539abac47fda0f2e5a42e87bca5",
            "dc3159679e0c4eac9b28cfd9d908db9d",
            "adfa7310b34d4b0e8235d9a35954bc43",
            "65b0b10d76c64420a097e05634550479",
            "610d993011dc490997bd262ff9085fc6",
            "a53c8ccf54f041288dd8c95c253cb6a3",
            "f95791d2225348778e1e8772b68dd099",
            "5ccc65e2c57e4d6bab4d42c89bea196f",
            "577bb71a35f1497887da70500fafea20",
            "ab3f16997f3947fdaee8e23312deaa4a",
            "d18966e910724ffa8cb441ea29fcdf69",
            "33f709b3489f432294d877ed0e3a423a",
            "2ceaee966c164e728eee5f5dba9eb8f2",
            "91873ace7fe7477a906af55263474dd6",
            "d33ddabfda1d4e8f939fc8ea10bb2b3e",
            "e0741a622e4540778f79f3f42bab93db",
            "d989697da24b497986db3a64a59eee71",
            "9b5785bb96a045c08771fedcb113c94f",
            "a3ce49c584fd435dbc89421c6e5230b6",
            "28997c72448e4a8e8758a67066eebd98",
            "37c02adca70e4868a2614b8e3d88a026",
            "c691d1ef86b64ef18a6d456757a297de",
            "66473aa8ed2d4cbea316fc5544b53a84",
            "73484a4b06004570985ffc7a02c642ed",
            "0de5dda3dc37447ab9d44a77fc072777",
            "7a12ec9db35946129f67535a3d72c39c",
            "a62599a4bd4b4a1fb11213915182cfb0",
            "7558d911973348f1a00355a75f52642d"
          ]
        },
        "outputId": "691ec091-73e1-4a21-d16f-425fc26cc5f4"
      },
      "source": [
        "train_data = torchvision.datasets.MNIST('classifier_data', train=True, download=True)\n",
        "test_data  = torchvision.datasets.MNIST('classifier_data', train=False, download=True)"
      ],
      "execution_count": null,
      "outputs": [
        {
          "output_type": "stream",
          "text": [
            "Downloading http://yann.lecun.com/exdb/mnist/train-images-idx3-ubyte.gz to classifier_data/MNIST/raw/train-images-idx3-ubyte.gz\n"
          ],
          "name": "stdout"
        },
        {
          "output_type": "display_data",
          "data": {
            "application/vnd.jupyter.widget-view+json": {
              "model_id": "d1422b31e0954ba2a0e1257b5dd4babd",
              "version_minor": 0,
              "version_major": 2
            },
            "text/plain": [
              "HBox(children=(FloatProgress(value=1.0, bar_style='info', max=1.0), HTML(value='')))"
            ]
          },
          "metadata": {
            "tags": []
          }
        },
        {
          "output_type": "stream",
          "text": [
            "Extracting classifier_data/MNIST/raw/train-images-idx3-ubyte.gz to classifier_data/MNIST/raw\n",
            "Downloading http://yann.lecun.com/exdb/mnist/train-labels-idx1-ubyte.gz to classifier_data/MNIST/raw/train-labels-idx1-ubyte.gz\n"
          ],
          "name": "stdout"
        },
        {
          "output_type": "display_data",
          "data": {
            "application/vnd.jupyter.widget-view+json": {
              "model_id": "610d993011dc490997bd262ff9085fc6",
              "version_minor": 0,
              "version_major": 2
            },
            "text/plain": [
              "HBox(children=(FloatProgress(value=1.0, bar_style='info', max=1.0), HTML(value='')))"
            ]
          },
          "metadata": {
            "tags": []
          }
        },
        {
          "output_type": "stream",
          "text": [
            "Extracting classifier_data/MNIST/raw/train-labels-idx1-ubyte.gz to classifier_data/MNIST/raw\n",
            "Downloading http://yann.lecun.com/exdb/mnist/t10k-images-idx3-ubyte.gz to classifier_data/MNIST/raw/t10k-images-idx3-ubyte.gz\n",
            "\n"
          ],
          "name": "stdout"
        },
        {
          "output_type": "display_data",
          "data": {
            "application/vnd.jupyter.widget-view+json": {
              "model_id": "2ceaee966c164e728eee5f5dba9eb8f2",
              "version_minor": 0,
              "version_major": 2
            },
            "text/plain": [
              "HBox(children=(FloatProgress(value=1.0, bar_style='info', max=1.0), HTML(value='')))"
            ]
          },
          "metadata": {
            "tags": []
          }
        },
        {
          "output_type": "stream",
          "text": [
            "Extracting classifier_data/MNIST/raw/t10k-images-idx3-ubyte.gz to classifier_data/MNIST/raw\n",
            "Downloading http://yann.lecun.com/exdb/mnist/t10k-labels-idx1-ubyte.gz to classifier_data/MNIST/raw/t10k-labels-idx1-ubyte.gz\n"
          ],
          "name": "stdout"
        },
        {
          "output_type": "display_data",
          "data": {
            "application/vnd.jupyter.widget-view+json": {
              "model_id": "37c02adca70e4868a2614b8e3d88a026",
              "version_minor": 0,
              "version_major": 2
            },
            "text/plain": [
              "HBox(children=(FloatProgress(value=1.0, bar_style='info', max=1.0), HTML(value='')))"
            ]
          },
          "metadata": {
            "tags": []
          }
        },
        {
          "output_type": "stream",
          "text": [
            "Extracting classifier_data/MNIST/raw/t10k-labels-idx1-ubyte.gz to classifier_data/MNIST/raw\n",
            "Processing...\n",
            "Done!\n"
          ],
          "name": "stdout"
        },
        {
          "output_type": "stream",
          "text": [
            "/usr/local/lib/python3.6/dist-packages/torchvision/datasets/mnist.py:480: UserWarning: The given NumPy array is not writeable, and PyTorch does not support non-writeable tensors. This means you can write to the underlying (supposedly non-writeable) NumPy array using the tensor. You may want to copy the array to protect its data or make it writeable before converting it to a tensor. This type of warning will be suppressed for the rest of this program. (Triggered internally at  /pytorch/torch/csrc/utils/tensor_numpy.cpp:141.)\n",
            "  return torch.from_numpy(parsed.astype(m[2], copy=False)).view(*s)\n"
          ],
          "name": "stderr"
        }
      ]
    },
    {
      "cell_type": "code",
      "metadata": {
        "colab": {
          "base_uri": "https://localhost:8080/",
          "height": 568
        },
        "id": "XbZMhA2r51ZN",
        "outputId": "c62ac4ef-b977-41de-8848-1c4adf07743a"
      },
      "source": [
        "sample_index = 0\n",
        "image = train_data[sample_index][0]\n",
        "label = train_data[sample_index][1]\n",
        "\n",
        "fig = plt.figure(figsize=(8,8))\n",
        "plt.imshow(image, cmap='Greys')\n",
        "print(f\"SAMPLE AT INDEX {sample_index}\")\n",
        "print(f\"LABEL: {label}\")"
      ],
      "execution_count": null,
      "outputs": [
        {
          "output_type": "stream",
          "text": [
            "\n",
            "SAMPLE AT INDEX 0\n",
            "LABEL: 5\n"
          ],
          "name": "stdout"
        },
        {
          "output_type": "display_data",
          "data": {
            "image/png": "[encoded data removed]",
            "text/plain": [
              "<Figure size 576x576 with 1 Axes>"
            ]
          },
          "metadata": {
            "tags": [],
            "needs_background": "light"
          }
        },
        {
          "output_type": "stream",
          "text": [
            "\n",
            "\n"
          ],
          "name": "stdout"
        }
      ]
    },
    {
      "cell_type": "code",
      "metadata": {
        "id": "Ghf2DbDN55Gm"
      },
      "source": [
        "import torch.nn as nn\n",
        "import torch.optim as optim\n",
        "from torch.utils.data import Dataset, DataLoader\n",
        "from torchvision import transforms\n",
        "from sklearn.model_selection import train_test_split"
      ],
      "execution_count": null,
      "outputs": []
    },
    {
      "cell_type": "markdown",
      "metadata": {
        "id": "mMB7EhthlORB"
      },
      "source": [
        "**Useful functions definition**"
      ]
    },
    {
      "cell_type": "code",
      "metadata": {
        "id": "xJXfnaUclZQK"
      },
      "source": [
        "def calculate_accuracy(predictions, labels, sample_size):\n",
        "  return (predictions == labels).int().sum().item() / sample_size"
      ],
      "execution_count": null,
      "outputs": []
    },
    {
      "cell_type": "code",
      "metadata": {
        "id": "MfrBXnYFlaDL"
      },
      "source": [
        "def get_prediction(output):\n",
        "  sig = nn.Sigmoid()\n",
        "  prediction = torch.argmax(sig(output), dim=1)\n",
        "  return prediction"
      ],
      "execution_count": null,
      "outputs": []
    },
    {
      "cell_type": "code",
      "metadata": {
        "id": "QoPeqP3mlNHp"
      },
      "source": [
        "def train_model(net, loss_function, optimizer, num_epochs, train_dataloader, val_dataloader, verbose=True):\n",
        "  print(net)\n",
        "  train_accuracy_log = []\n",
        "  val_accuracy_log = []\n",
        "  train_loss_log = []\n",
        "  val_loss_log = []\n",
        "  for epoch_num in range(num_epochs):\n",
        "    if verbose:\n",
        "      print('#################')\n",
        "      print(f'# EPOCH {epoch_num}')\n",
        "      print('#################')\n",
        "\n",
        "    ### TRAIN\n",
        "    train_pred = []\n",
        "    train_loss = []\n",
        "    \n",
        "    net.train() # Training mode (e.g. enable dropout)\n",
        "    for sample_batched in train_dataloader:\n",
        "      # Move data to device\n",
        "      x_train = sample_batched[0].to(device)\n",
        "      labels_train = sample_batched[1].to(device)\n",
        "      #print(x_train.shape)\n",
        "      # Forward pass\n",
        "      out = net(x_train)\n",
        "      # Compute loss\n",
        "      loss = loss_function(out, labels_train)\n",
        "\n",
        "      # Backpropagation\n",
        "      net.zero_grad()\n",
        "      loss.backward()\n",
        "\n",
        "      # Update the weights\n",
        "      optimizer.step()\n",
        "\n",
        "      #Compute predictions\n",
        "      predictions = get_prediction(out)\n",
        "      train_predicted = calculate_accuracy(predictions, labels_train, x_train.shape[0])\n",
        "\n",
        "      # Save train loss for this batch\n",
        "      train_pred.append(train_predicted)\n",
        "      loss_batch = loss.detach().cpu().numpy()\n",
        "      train_loss.append(loss_batch)\n",
        "\n",
        "    # Save average train loss\n",
        "    train_pred = np.mean(train_pred)\n",
        "    train_loss = np.mean(train_loss)\n",
        "    if verbose:\n",
        "      print(f\"AVERAGE TRAIN ACCURACY: {train_pred * 100}%\")\n",
        "      print(f\"AVERAGE TRAIN LOSS: {train_loss}\")\n",
        "    train_accuracy_log.append(train_pred)\n",
        "    train_loss_log.append(train_loss)\n",
        "\n",
        "    ### VALIDATION\n",
        "    val_pred = []\n",
        "    val_loss = []\n",
        "    net.eval() # Evaluation mode (e.g. disable dropout)\n",
        "    with torch.no_grad(): # Disable gradient tracking\n",
        "      for sample_batched in val_dataloader: #should be validation dataloader\n",
        "        # Move data to device\n",
        "        x_val = sample_batched[0].to(device)\n",
        "        labels_val = sample_batched[1].to(device)\n",
        "\n",
        "        # Forward pass\n",
        "        output = net(x_val)\n",
        "\n",
        "        loss = loss_function(output, labels_val)\n",
        "        \n",
        "        #Compute predictions\n",
        "        prediction = get_prediction(output)\n",
        "        val_predicted = calculate_accuracy(prediction, labels_val, x_val.shape[0])\n",
        "\n",
        "        # Save val loss for this batch\n",
        "        val_pred.append(val_predicted)\n",
        "        loss_batch = loss.detach().cpu().numpy()\n",
        "        val_loss.append(loss_batch)\n",
        "\n",
        "\n",
        "      # Save average validation loss\n",
        "      val_pred = np.mean(val_pred)\n",
        "      val_loss = np.mean(val_loss)\n",
        "      if verbose:\n",
        "        print(f\"AVERAGE VAL ACCURACY: {val_pred * 100}%\")\n",
        "        print(f\"AVERAGE VAL LOSS: {val_loss}\")\n",
        "      val_accuracy_log.append(val_pred)\n",
        "      val_loss_log.append(val_loss)\n",
        "  print(f\"Model's validation accuracy: {val_accuracy_log[-1]}\")\n",
        "  print(f\"Model's validation loss: {val_loss_log[-1]}\")\n",
        "  return train_accuracy_log, val_accuracy_log, train_loss_log, val_loss_log"
      ],
      "execution_count": null,
      "outputs": []
    },
    {
      "cell_type": "code",
      "metadata": {
        "id": "aPuZRo8nzdoW"
      },
      "source": [
        "def train_model(net, loss_function, optimizer, num_epochs, train_dataloader, verbose=True):\n",
        "  print(net)\n",
        "  train_accuracy_log = []\n",
        "  val_accuracy_log = []\n",
        "  train_loss_log = []\n",
        "  val_loss_log = []\n",
        "  for epoch_num in range(num_epochs):\n",
        "    if verbose:\n",
        "      print('#################')\n",
        "      print(f'# EPOCH {epoch_num}')\n",
        "      print('#################')\n",
        "\n",
        "    ### TRAIN\n",
        "    train_pred = []\n",
        "    train_loss = []\n",
        "    \n",
        "    net.train() # Training mode (e.g. enable dropout)\n",
        "    for sample_batched in train_dataloader:\n",
        "      # Move data to device\n",
        "      x_train = sample_batched[0].to(device)\n",
        "      labels_train = sample_batched[1].to(device)\n",
        "      #print(x_train.shape)\n",
        "      # Forward pass\n",
        "      out = net(x_train)\n",
        "      # Compute loss\n",
        "      loss = loss_function(out, labels_train)\n",
        "\n",
        "      # Backpropagation\n",
        "      net.zero_grad()\n",
        "      loss.backward()\n",
        "\n",
        "      # Update the weights\n",
        "      optimizer.step()\n",
        "\n",
        "      #Compute predictions\n",
        "      predictions = get_prediction(out)\n",
        "      train_predicted = calculate_accuracy(predictions, labels_train, x_train.shape[0])\n",
        "\n",
        "      # Save train loss for this batch\n",
        "      train_pred.append(train_predicted)\n",
        "      loss_batch = loss.detach().cpu().numpy()\n",
        "      train_loss.append(loss_batch)\n",
        "\n",
        "    # Save average train loss\n",
        "    train_pred = np.mean(train_pred)\n",
        "    train_loss = np.mean(train_loss)\n",
        "    if verbose:\n",
        "      print(f\"AVERAGE TRAIN ACCURACY: {train_pred * 100}%\")\n",
        "      print(f\"AVERAGE TRAIN LOSS: {train_loss}\")\n",
        "    train_accuracy_log.append(train_pred)\n",
        "    train_loss_log.append(train_loss)\n",
        "\n",
        "    ### VALIDATION\n",
        "    val_pred = []\n",
        "    val_loss = []\n",
        "    net.eval() # Evaluation mode (e.g. disable dropout)\n",
        "    with torch.no_grad(): # Disable gradient tracking\n",
        "      for sample_batched in val_dataloader: #should be validation dataloader\n",
        "        # Move data to device\n",
        "        x_val = sample_batched[0].to(device)\n",
        "        labels_val = sample_batched[1].to(device)\n",
        "\n",
        "        # Forward pass\n",
        "        output = net(x_val)\n",
        "\n",
        "        loss = loss_function(output, labels_val)\n",
        "        \n",
        "        #Compute predictions\n",
        "        prediction = get_prediction(output)\n",
        "        val_predicted = calculate_accuracy(prediction, labels_val, x_val.shape[0])\n",
        "\n",
        "        # Save val loss for this batch\n",
        "        val_pred.append(val_predicted)\n",
        "        loss_batch = loss.detach().cpu().numpy()\n",
        "        val_loss.append(loss_batch)\n",
        "\n",
        "\n",
        "      # Save average validation loss\n",
        "      val_pred = np.mean(val_pred)\n",
        "      val_loss = np.mean(val_loss)\n",
        "      if verbose:\n",
        "        print(f\"AVERAGE VAL ACCURACY: {val_pred * 100}%\")\n",
        "        print(f\"AVERAGE VAL LOSS: {val_loss}\")\n",
        "      val_accuracy_log.append(val_pred)\n",
        "      val_loss_log.append(val_loss)\n",
        "  print(f\"Model's validation accuracy: {val_accuracy_log[-1]}\")\n",
        "  print(f\"Model's validation loss: {val_loss_log[-1]}\")\n",
        "  return train_accuracy_log, val_accuracy_log, train_loss_log, val_loss_log"
      ],
      "execution_count": null,
      "outputs": []
    },
    {
      "cell_type": "code",
      "metadata": {
        "id": "tUOFxD6jmgqq"
      },
      "source": [
        "def plot_confusion_matrix(predictions, labels, target_names, normalize=False):\n",
        "\n",
        "  '''\n",
        "  ============================\n",
        "  Internal function definition\n",
        "  ============================\n",
        "  '''\n",
        "  def _confusion_matrix(cm,\n",
        "                            target_names,\n",
        "                            title='Confusion matrix',\n",
        "                            cmap=None,\n",
        "                            normalize=False):\n",
        "      import itertools\n",
        "\n",
        "      accuracy = np.trace(cm) / float(np.sum(cm))\n",
        "      misclass = 1 - accuracy\n",
        "\n",
        "      if cmap is None:\n",
        "          cmap = plt.get_cmap('Blues')\n",
        "\n",
        "      plt.figure(figsize=(8, 6))\n",
        "      plt.imshow(cm, interpolation='nearest', cmap=cmap)\n",
        "      plt.title(title)\n",
        "      plt.colorbar()\n",
        "\n",
        "      if target_names is not None:\n",
        "          tick_marks = np.arange(len(target_names))\n",
        "          plt.xticks(tick_marks, target_names, rotation=45)\n",
        "          plt.yticks(tick_marks, target_names)\n",
        "\n",
        "      if normalize:\n",
        "          cm = cm.astype('float') / cm.sum(axis=1)[:, np.newaxis]\n",
        "\n",
        "\n",
        "      thresh = cm.max() / 1.5 if normalize else cm.max() / 2\n",
        "      for i, j in itertools.product(range(cm.shape[0]), range(cm.shape[1])):\n",
        "          if normalize:\n",
        "              plt.text(j, i, \"{:0.4f}\".format(cm[i, j]),\n",
        "                      horizontalalignment=\"center\",\n",
        "                      color=\"white\" if cm[i, j] > thresh else \"black\")\n",
        "          else:\n",
        "              plt.text(j, i, \"{:,}\".format(cm[i, j]),\n",
        "                      horizontalalignment=\"center\",\n",
        "                      color=\"white\" if cm[i, j] > thresh else \"black\")\n",
        "\n",
        "\n",
        "      plt.tight_layout()\n",
        "      plt.ylabel('True label')\n",
        "      plt.xlabel('Predicted label\\naccuracy={:0.4f}; misclass={:0.4f}'.format(accuracy, misclass))\n",
        "      plt.show()\n",
        "  '''\n",
        "  ===================================\n",
        "  End of internal function definition\n",
        "  ===================================\n",
        "  '''\n",
        "\n",
        "  from sklearn.metrics import confusion_matrix\n",
        "\n",
        "  conf_mat = confusion_matrix(predictions, labels)\n",
        "  _confusion_matrix(conf_mat, target_names=target_names, normalize=normalize)"
      ],
      "execution_count": null,
      "outputs": []
    },
    {
      "cell_type": "markdown",
      "metadata": {
        "id": "gzXpHLrIlTk5"
      },
      "source": [
        "**Image dataset defintion**"
      ]
    },
    {
      "cell_type": "code",
      "metadata": {
        "id": "yY4VVc7t6FW2"
      },
      "source": [
        "class ImageDataset(Dataset):\n",
        "\n",
        "  def __init__(self, dataset, transform=None):\n",
        "    \"\"\"\n",
        "    Args:\n",
        "        csv_file (string): Path to the csv file.\n",
        "        transform (callable, optional): Optional transform to be applied\n",
        "            on a sample.\n",
        "    \"\"\"\n",
        "    self.transform = transform\n",
        "\n",
        "    # Get x and y values from each line and append to self.data\n",
        "\n",
        "    self.data = []\n",
        "    to_tensor = torchvision.transforms.ToTensor()\n",
        "    for d in dataset:\n",
        "      image = d[0]\n",
        "      label = d[1]\n",
        "      image = to_tensor(image)\n",
        "      label = torch.tensor(label).long()\n",
        "      self.data.append((image, label))\n",
        "\n",
        "    # Now self.data contains all our dataset.\n",
        "    # Each element of the list self.data is a tuple: (input, output)\n",
        "\n",
        "  def __len__(self):\n",
        "    return len(self.data)\n",
        "\n",
        "  def __getitem__(self, idx):\n",
        "    \n",
        "    sample = self.data[idx]\n",
        "    if self.transform:\n",
        "      sample = self.transform(sample)\n",
        "    return sample"
      ],
      "execution_count": null,
      "outputs": []
    },
    {
      "cell_type": "code",
      "metadata": {
        "id": "miJUzNH_j5xa"
      },
      "source": [
        "class ImageToVector():\n",
        "\n",
        "  def __call__(self, sample):\n",
        "    image = sample[0]\n",
        "    image = torch.reshape(image, (-1,))\n",
        "    return (image, sample[1])"
      ],
      "execution_count": null,
      "outputs": []
    },
    {
      "cell_type": "markdown",
      "metadata": {
        "id": "DbfKP1JrppbK"
      },
      "source": [
        "**Device Initialization**"
      ]
    },
    {
      "cell_type": "code",
      "metadata": {
        "colab": {
          "base_uri": "https://localhost:8080/"
        },
        "id": "Yb8JyivYppFz",
        "outputId": "a6d1ded5-cd7c-4fb3-8f7b-4a7293eeff40"
      },
      "source": [
        "device = torch.device(\"cuda\") if torch.cuda.is_available() else torch.device(\"cpu\")\n",
        "print(f\"Training device: {device}\")"
      ],
      "execution_count": null,
      "outputs": [
        {
          "output_type": "stream",
          "text": [
            "Training device: cuda\n"
          ],
          "name": "stdout"
        }
      ]
    },
    {
      "cell_type": "markdown",
      "metadata": {
        "id": "Gdb-OW2xklgb"
      },
      "source": [
        "# **Feed Forward Network**"
      ]
    },
    {
      "cell_type": "markdown",
      "metadata": {
        "id": "8OwyZVt1ksTK"
      },
      "source": [
        "**Forward net data definition**"
      ]
    },
    {
      "cell_type": "code",
      "metadata": {
        "id": "JdiLOhL5jy_L"
      },
      "source": [
        "torch.manual_seed(0)\n",
        "composed_transform = transforms.Compose([ImageToVector()])\n",
        "\n",
        "from sklearn.model_selection import StratifiedShuffleSplit\n",
        "\n",
        "split = StratifiedShuffleSplit(n_splits=1, test_size=0.2, random_state=0)\n",
        "\n",
        "train_size = int(len(train_data) * 0.8) #Train-validation 80-20 \n",
        "\n",
        "train_idxs = range(0, train_size)\n",
        "val_idxs = range(train_size, len(train_data))\n",
        "\n",
        "full_dataset = ImageDataset(train_data, transform=composed_transform) #Dataset withouth validation set extracted\n",
        "train_dataset = torch.utils.data.Subset(full_dataset, train_idxs) #Train dataset\n",
        "validation_dataset = torch.utils.data.Subset(full_dataset, val_idxs) #Validation Dataset\n",
        "test_dataset = ImageDataset(test_data, transform=composed_transform) #Test Dataset"
      ],
      "execution_count": null,
      "outputs": []
    },
    {
      "cell_type": "code",
      "metadata": {
        "id": "YxhVxwJNj2Va"
      },
      "source": [
        "batch_size = 100\n",
        "test_batch = len(test_dataset)\n",
        "train_dataloader = DataLoader(train_dataset, batch_size=batch_size, shuffle=True, num_workers=0)\n",
        "val_dataloader = DataLoader(validation_dataset, batch_size=len(validation_dataset), shuffle=True, num_workers=0)\n",
        "test_dataloader = DataLoader(test_dataset, batch_size=test_batch, shuffle=False, num_workers=0)"
      ],
      "execution_count": null,
      "outputs": []
    },
    {
      "cell_type": "markdown",
      "metadata": {
        "id": "iLKUlx5iopBa"
      },
      "source": [
        "**MODEL DEFINITION**\n"
      ]
    },
    {
      "cell_type": "code",
      "metadata": {
        "id": "nc_dX1-ropbh"
      },
      "source": [
        "class ForwardNet(nn.Module):\n",
        "  def __init__(self, drop = 0.5):\n",
        "    super().__init__()\n",
        "    \n",
        "    self.fc1 = nn.Linear(784, 1024)\n",
        "    self.fc2 = nn.Linear(1024, 512)\n",
        "    self.fc3 = nn.Linear(512, 256)\n",
        "    self.out = nn.Linear(256, 10)\n",
        "\n",
        "    self.act = nn.ReLU()\n",
        "    self.drop = nn.Dropout(p = drop)\n",
        "    \n",
        "    print('Network Initialized')\n",
        "\n",
        "  def forward(self, x):\n",
        "    x = self.act(self.fc1(x))\n",
        "    x = self.drop(x)\n",
        "    x = self.act(self.fc2(x))\n",
        "    x = self.drop(x)\n",
        "    x = self.act(self.fc3(x))\n",
        "    x = self.drop(x)\n",
        "    x = self.act(self.out(x))\n",
        "    return x"
      ],
      "execution_count": null,
      "outputs": []
    },
    {
      "cell_type": "markdown",
      "metadata": {
        "id": "nPfT9lkKowh7"
      },
      "source": [
        "**Model initialization**"
      ]
    },
    {
      "cell_type": "code",
      "metadata": {
        "colab": {
          "base_uri": "https://localhost:8080/"
        },
        "id": "5ybHhlsvowGp",
        "outputId": "49f93bef-129c-4afd-dbe6-f76d380967ae"
      },
      "source": [
        "torch.manual_seed(0)\n",
        "net = ForwardNet()\n",
        "net = net.to(device)"
      ],
      "execution_count": null,
      "outputs": [
        {
          "output_type": "stream",
          "text": [
            "Network Initialized\n"
          ],
          "name": "stdout"
        }
      ]
    },
    {
      "cell_type": "markdown",
      "metadata": {
        "id": "JpwApGEjo2U0"
      },
      "source": [
        "**Loss definition**"
      ]
    },
    {
      "cell_type": "code",
      "metadata": {
        "id": "nVgD3RDTo1la"
      },
      "source": [
        "loss_function = nn.CrossEntropyLoss()"
      ],
      "execution_count": null,
      "outputs": []
    },
    {
      "cell_type": "markdown",
      "metadata": {
        "id": "NzHIDuHio8vK"
      },
      "source": [
        "**Optimizer definition**"
      ]
    },
    {
      "cell_type": "code",
      "metadata": {
        "id": "rUcJim-Oo_NC"
      },
      "source": [
        "optimizer = optim.Adam(net.parameters(), lr=0.001)"
      ],
      "execution_count": null,
      "outputs": []
    },
    {
      "cell_type": "markdown",
      "metadata": {
        "id": "xTH0dPsEpDaj"
      },
      "source": [
        "**Training Loop**"
      ]
    },
    {
      "cell_type": "code",
      "metadata": {
        "colab": {
          "base_uri": "https://localhost:8080/"
        },
        "id": "VLr84Wu_pGZi",
        "outputId": "82566a7f-333f-4b69-fd5c-3a2daf277521"
      },
      "source": [
        "epochs = 30\n",
        "train_accuracy_log, val_accuracy_log, train_loss_log, val_loss_log = train_model(net, loss_function, optimizer, epochs, train_dataloader, val_dataloader, True)"
      ],
      "execution_count": null,
      "outputs": [
        {
          "output_type": "stream",
          "text": [
            "ForwardNet(\n",
            "  (fc1): Linear(in_features=784, out_features=1024, bias=True)\n",
            "  (fc2): Linear(in_features=1024, out_features=512, bias=True)\n",
            "  (fc3): Linear(in_features=512, out_features=256, bias=True)\n",
            "  (out): Linear(in_features=256, out_features=10, bias=True)\n",
            "  (act): ReLU()\n",
            "  (drop): Dropout(p=0.5, inplace=False)\n",
            ")\n",
            "#################\n",
            "# EPOCH 0\n",
            "#################\n",
            "AVERAGE TRAIN ACCURACY: 78.07291666666667%\n",
            "AVERAGE TRAIN LOSS: 0.6408856511116028\n",
            "AVERAGE VAL ACCURACY: 86.05833333333334%\n",
            "AVERAGE VAL LOSS: 0.37433141469955444\n",
            "#################\n",
            "# EPOCH 1\n",
            "#################\n",
            "AVERAGE TRAIN ACCURACY: 86.79583333333333%\n",
            "AVERAGE TRAIN LOSS: 0.3727361857891083\n",
            "AVERAGE VAL ACCURACY: 96.475%\n",
            "AVERAGE VAL LOSS: 0.12215571105480194\n",
            "#################\n",
            "# EPOCH 2\n",
            "#################\n",
            "AVERAGE TRAIN ACCURACY: 95.63125%\n",
            "AVERAGE TRAIN LOSS: 0.14821849763393402\n",
            "AVERAGE VAL ACCURACY: 97.20833333333333%\n",
            "AVERAGE VAL LOSS: 0.096206434071064\n",
            "#################\n",
            "# EPOCH 3\n",
            "#################\n",
            "AVERAGE TRAIN ACCURACY: 96.18541666666668%\n",
            "AVERAGE TRAIN LOSS: 0.12310393899679184\n",
            "AVERAGE VAL ACCURACY: 97.225%\n",
            "AVERAGE VAL LOSS: 0.09708786010742188\n",
            "#################\n",
            "# EPOCH 4\n",
            "#################\n",
            "AVERAGE TRAIN ACCURACY: 96.51666666666667%\n",
            "AVERAGE TRAIN LOSS: 0.10791783034801483\n",
            "AVERAGE VAL ACCURACY: 97.08333333333333%\n",
            "AVERAGE VAL LOSS: 0.09689603745937347\n",
            "#################\n",
            "# EPOCH 5\n",
            "#################\n",
            "AVERAGE TRAIN ACCURACY: 96.11458333333334%\n",
            "AVERAGE TRAIN LOSS: 0.09490836411714554\n",
            "AVERAGE VAL ACCURACY: 97.64166666666667%\n",
            "AVERAGE VAL LOSS: 0.08550059795379639\n",
            "#################\n",
            "# EPOCH 6\n",
            "#################\n",
            "AVERAGE TRAIN ACCURACY: 95.63333333333333%\n",
            "AVERAGE TRAIN LOSS: 0.09400525689125061\n",
            "AVERAGE VAL ACCURACY: 97.25833333333334%\n",
            "AVERAGE VAL LOSS: 0.08185814321041107\n",
            "#################\n",
            "# EPOCH 7\n",
            "#################\n",
            "AVERAGE TRAIN ACCURACY: 95.39791666666666%\n",
            "AVERAGE TRAIN LOSS: 0.07862138748168945\n",
            "AVERAGE VAL ACCURACY: 97.125%\n",
            "AVERAGE VAL LOSS: 0.08327262103557587\n",
            "#################\n",
            "# EPOCH 8\n",
            "#################\n",
            "AVERAGE TRAIN ACCURACY: 95.33541666666667%\n",
            "AVERAGE TRAIN LOSS: 0.07957811653614044\n",
            "AVERAGE VAL ACCURACY: 97.60833333333333%\n",
            "AVERAGE VAL LOSS: 0.0891200453042984\n",
            "#################\n",
            "# EPOCH 9\n",
            "#################\n",
            "AVERAGE TRAIN ACCURACY: 95.23124999999999%\n",
            "AVERAGE TRAIN LOSS: 0.07139348983764648\n",
            "AVERAGE VAL ACCURACY: 97.875%\n",
            "AVERAGE VAL LOSS: 0.0811399295926094\n",
            "#################\n",
            "# EPOCH 10\n",
            "#################\n",
            "AVERAGE TRAIN ACCURACY: 95.08749999999999%\n",
            "AVERAGE TRAIN LOSS: 0.06650501489639282\n",
            "AVERAGE VAL ACCURACY: 97.05833333333334%\n",
            "AVERAGE VAL LOSS: 0.08054206520318985\n",
            "#################\n",
            "# EPOCH 11\n",
            "#################\n",
            "AVERAGE TRAIN ACCURACY: 93.50624999999998%\n",
            "AVERAGE TRAIN LOSS: 0.0669567883014679\n",
            "AVERAGE VAL ACCURACY: 97.0%\n",
            "AVERAGE VAL LOSS: 0.08616746217012405\n",
            "#################\n",
            "# EPOCH 12\n",
            "#################\n",
            "AVERAGE TRAIN ACCURACY: 92.90625%\n",
            "AVERAGE TRAIN LOSS: 0.06396029889583588\n",
            "AVERAGE VAL ACCURACY: 97.40833333333333%\n",
            "AVERAGE VAL LOSS: 0.07652561366558075\n",
            "#################\n",
            "# EPOCH 13\n",
            "#################\n",
            "AVERAGE TRAIN ACCURACY: 91.28958333333334%\n",
            "AVERAGE TRAIN LOSS: 0.06010232865810394\n",
            "AVERAGE VAL ACCURACY: 96.22500000000001%\n",
            "AVERAGE VAL LOSS: 0.07636138051748276\n",
            "#################\n",
            "# EPOCH 14\n",
            "#################\n",
            "AVERAGE TRAIN ACCURACY: 91.21666666666665%\n",
            "AVERAGE TRAIN LOSS: 0.06130169704556465\n",
            "AVERAGE VAL ACCURACY: 97.45%\n",
            "AVERAGE VAL LOSS: 0.08640480786561966\n",
            "#################\n",
            "# EPOCH 15\n",
            "#################\n",
            "AVERAGE TRAIN ACCURACY: 91.39791666666667%\n",
            "AVERAGE TRAIN LOSS: 0.05739038065075874\n",
            "AVERAGE VAL ACCURACY: 96.875%\n",
            "AVERAGE VAL LOSS: 0.08379882574081421\n",
            "#################\n",
            "# EPOCH 16\n",
            "#################\n",
            "AVERAGE TRAIN ACCURACY: 90.51458333333335%\n",
            "AVERAGE TRAIN LOSS: 0.05284538120031357\n",
            "AVERAGE VAL ACCURACY: 97.65%\n",
            "AVERAGE VAL LOSS: 0.08226604759693146\n",
            "#################\n",
            "# EPOCH 17\n",
            "#################\n",
            "AVERAGE TRAIN ACCURACY: 90.29583333333335%\n",
            "AVERAGE TRAIN LOSS: 0.0544256791472435\n",
            "AVERAGE VAL ACCURACY: 97.55833333333334%\n",
            "AVERAGE VAL LOSS: 0.08439241349697113\n",
            "#################\n",
            "# EPOCH 18\n",
            "#################\n",
            "AVERAGE TRAIN ACCURACY: 88.97083333333333%\n",
            "AVERAGE TRAIN LOSS: 0.04983912408351898\n",
            "AVERAGE VAL ACCURACY: 97.55%\n",
            "AVERAGE VAL LOSS: 0.07275979965925217\n",
            "#################\n",
            "# EPOCH 19\n",
            "#################\n",
            "AVERAGE TRAIN ACCURACY: 88.8375%\n",
            "AVERAGE TRAIN LOSS: 0.04685591161251068\n",
            "AVERAGE VAL ACCURACY: 95.96666666666667%\n",
            "AVERAGE VAL LOSS: 0.0852188691496849\n",
            "#################\n",
            "# EPOCH 20\n",
            "#################\n",
            "AVERAGE TRAIN ACCURACY: 89.88541666666666%\n",
            "AVERAGE TRAIN LOSS: 0.047141656279563904\n",
            "AVERAGE VAL ACCURACY: 97.00833333333333%\n",
            "AVERAGE VAL LOSS: 0.08251037448644638\n",
            "#################\n",
            "# EPOCH 21\n",
            "#################\n",
            "AVERAGE TRAIN ACCURACY: 89.67291666666667%\n",
            "AVERAGE TRAIN LOSS: 0.04702296108007431\n",
            "AVERAGE VAL ACCURACY: 97.80833333333334%\n",
            "AVERAGE VAL LOSS: 0.07719045877456665\n",
            "#################\n",
            "# EPOCH 22\n",
            "#################\n",
            "AVERAGE TRAIN ACCURACY: 87.5375%\n",
            "AVERAGE TRAIN LOSS: 0.04921972006559372\n",
            "AVERAGE VAL ACCURACY: 95.85000000000001%\n",
            "AVERAGE VAL LOSS: 0.08658315986394882\n",
            "#################\n",
            "# EPOCH 23\n",
            "#################\n",
            "AVERAGE TRAIN ACCURACY: 87.8875%\n",
            "AVERAGE TRAIN LOSS: 0.043296538293361664\n",
            "AVERAGE VAL ACCURACY: 97.48333333333333%\n",
            "AVERAGE VAL LOSS: 0.0789748877286911\n",
            "#################\n",
            "# EPOCH 24\n",
            "#################\n",
            "AVERAGE TRAIN ACCURACY: 88.10833333333332%\n",
            "AVERAGE TRAIN LOSS: 0.042979057878255844\n",
            "AVERAGE VAL ACCURACY: 97.83333333333334%\n",
            "AVERAGE VAL LOSS: 0.07995101064443588\n",
            "#################\n",
            "# EPOCH 25\n",
            "#################\n",
            "AVERAGE TRAIN ACCURACY: 89.35833333333333%\n",
            "AVERAGE TRAIN LOSS: 0.04317677766084671\n",
            "AVERAGE VAL ACCURACY: 97.32499999999999%\n",
            "AVERAGE VAL LOSS: 0.08023429661989212\n",
            "#################\n",
            "# EPOCH 26\n",
            "#################\n",
            "AVERAGE TRAIN ACCURACY: 87.7875%\n",
            "AVERAGE TRAIN LOSS: 0.04348524287343025\n",
            "AVERAGE VAL ACCURACY: 96.375%\n",
            "AVERAGE VAL LOSS: 0.0881558433175087\n",
            "#################\n",
            "# EPOCH 27\n",
            "#################\n",
            "AVERAGE TRAIN ACCURACY: 88.03958333333334%\n",
            "AVERAGE TRAIN LOSS: 0.03920861706137657\n",
            "AVERAGE VAL ACCURACY: 97.41666666666666%\n",
            "AVERAGE VAL LOSS: 0.09116294234991074\n",
            "#################\n",
            "# EPOCH 28\n",
            "#################\n",
            "AVERAGE TRAIN ACCURACY: 84.60625%\n",
            "AVERAGE TRAIN LOSS: 0.041441354900598526\n",
            "AVERAGE VAL ACCURACY: 97.425%\n",
            "AVERAGE VAL LOSS: 0.0856960266828537\n",
            "#################\n",
            "# EPOCH 29\n",
            "#################\n",
            "AVERAGE TRAIN ACCURACY: 86.11458333333334%\n",
            "AVERAGE TRAIN LOSS: 0.04325786605477333\n",
            "AVERAGE VAL ACCURACY: 97.20833333333333%\n",
            "AVERAGE VAL LOSS: 0.08773528039455414\n",
            "Model's validation accuracy: 0.9720833333333333\n",
            "Model's validation loss: 0.08773528039455414\n"
          ],
          "name": "stdout"
        }
      ]
    },
    {
      "cell_type": "markdown",
      "metadata": {
        "id": "sJ5OdMk7pOea"
      },
      "source": [
        "**ACCURACY PLOT**"
      ]
    },
    {
      "cell_type": "code",
      "metadata": {
        "colab": {
          "base_uri": "https://localhost:8080/",
          "height": 497
        },
        "id": "tv16gBYVpQFq",
        "outputId": "2410b791-2255-44e7-ae75-98110b4c360b"
      },
      "source": [
        "plt.figure(figsize=(12,8))\n",
        "plt.semilogy(train_accuracy_log, label='Train accuracy')\n",
        "plt.semilogy(val_accuracy_log, label='Validation accuracy')\n",
        "plt.xlabel('Epoch')\n",
        "plt.ylabel('Accuracy')\n",
        "plt.grid()\n",
        "plt.legend()\n",
        "plt.show()"
      ],
      "execution_count": null,
      "outputs": [
        {
          "output_type": "display_data",
          "data": {
            "image/png": "[encoded data removed]",
            "text/plain": [
              "<Figure size 864x576 with 1 Axes>"
            ]
          },
          "metadata": {
            "tags": [],
            "needs_background": "light"
          }
        }
      ]
    },
    {
      "cell_type": "markdown",
      "metadata": {
        "id": "TMYBSC1NpSP6"
      },
      "source": [
        "**LOSS PLOT**"
      ]
    },
    {
      "cell_type": "code",
      "metadata": {
        "colab": {
          "base_uri": "https://localhost:8080/",
          "height": 497
        },
        "id": "Uzd291TzpTmC",
        "outputId": "a6c5afdf-a1bc-4136-9922-63897d80bf79"
      },
      "source": [
        "plt.figure(figsize=(12,8))\n",
        "plt.semilogy(train_loss_log, label='Train loss')\n",
        "plt.semilogy(val_loss_log, label='Validation loss')\n",
        "plt.xlabel('Epoch')\n",
        "plt.ylabel('Loss')\n",
        "plt.grid()\n",
        "plt.legend()\n",
        "plt.show()"
      ],
      "execution_count": null,
      "outputs": [
        {
          "output_type": "display_data",
          "data": {
            "image/png": "[encoded data removed]",
            "text/plain": [
              "<Figure size 864x576 with 1 Axes>"
            ]
          },
          "metadata": {
            "tags": [],
            "needs_background": "light"
          }
        }
      ]
    },
    {
      "cell_type": "markdown",
      "metadata": {
        "id": "ICiP1faapZ-i"
      },
      "source": [
        "**Generalization error estimation**"
      ]
    },
    {
      "cell_type": "code",
      "metadata": {
        "colab": {
          "base_uri": "https://localhost:8080/"
        },
        "id": "Kh8SAZWwpcpL",
        "outputId": "72fbbfe5-01b6-4e5e-a752-1bb7a9f7f73b"
      },
      "source": [
        "test_predictions = []\n",
        "sig = nn.Sigmoid()\n",
        "net.eval()\n",
        "with torch.no_grad(): # Disable gradient tracking\n",
        "    for sample_batched in test_dataloader: \n",
        "      # Move data to device\n",
        "      x_test = sample_batched[0].to(device)\n",
        "     \n",
        "      #print(total_images)\n",
        "      labels_test = sample_batched[1].to(device)\n",
        "      \n",
        "      # Forward pass\n",
        "      output = net(x_test)\n",
        "    \n",
        "      # Compute prediction\n",
        "      prediction = get_prediction(output)\n",
        "      correct_predictions = calculate_accuracy(prediction, labels_test, x_test.shape[0])\n",
        "      \n",
        "      # Save val prediction for this batch\n",
        "      test_predictions.append(correct_predictions)\n",
        "      \n",
        "      \n",
        "    # Save average validation loss\n",
        "    test_predictions = np.mean(test_predictions)\n",
        "    print(f\"AVERAGE ACCURACY: {test_predictions * 100}%\")"
      ],
      "execution_count": null,
      "outputs": [
        {
          "output_type": "stream",
          "text": [
            "AVERAGE ACCURACY: 97.36%\n"
          ],
          "name": "stdout"
        }
      ]
    },
    {
      "cell_type": "markdown",
      "metadata": {
        "id": "u1l1ubFA-EWL"
      },
      "source": [
        "**CONFUSION MATRIX**"
      ]
    },
    {
      "cell_type": "code",
      "metadata": {
        "colab": {
          "base_uri": "https://localhost:8080/",
          "height": 467
        },
        "id": "FiqZQvrfqiyD",
        "outputId": "5b714966-a762-40bf-b97c-74d71b4304ee"
      },
      "source": [
        "plot_confusion_matrix(prediction.cpu().numpy(), labels_test.cpu().numpy(), target_names=range(10), normalize=False)"
      ],
      "execution_count": null,
      "outputs": [
        {
          "output_type": "display_data",
          "data": {
            "image/png": "[encoded data removed]",
            "text/plain": [
              "<Figure size 576x432 with 2 Axes>"
            ]
          },
          "metadata": {
            "tags": [],
            "needs_background": "light"
          }
        }
      ]
    },
    {
      "cell_type": "code",
      "metadata": {
        "colab": {
          "base_uri": "https://localhost:8080/"
        },
        "id": "-q1DbWwrbf4V",
        "outputId": "cc142cd9-c8d7-4751-c440-ace29e7540a4"
      },
      "source": [
        "fc1 = net.fc1.weight.data.cpu().numpy()\n",
        "fc2 = net.fc2.weight.data.cpu().numpy()\n",
        "fc3 = net.fc3.weight.data.cpu().numpy()\n",
        "out = net.out.weight.data.cpu().numpy()\n",
        "print(fc1.shape)\n",
        "print(fc2.shape)\n",
        "print(fc3.shape)\n",
        "print(out.shape)"
      ],
      "execution_count": null,
      "outputs": [
        {
          "output_type": "stream",
          "text": [
            "(1024, 784)\n",
            "(512, 1024)\n",
            "(256, 512)\n",
            "(10, 256)\n"
          ],
          "name": "stdout"
        }
      ]
    },
    {
      "cell_type": "code",
      "metadata": {
        "id": "9Unw5n18r1IT"
      },
      "source": [
        "# Weights histogram\n",
        "#fig, axs = plt.subplots(4, 1, figsize=(12,8))\n",
        "#axs[0].hist(fc1, 50)\n",
        "#axs[0].set_title('First hidden layer weights')\n",
        "#axs[1].hist(fc2, 50)\n",
        "#axs[1].set_title('Second hidden layer weights')\n",
        "#axs[2].hist(fc3, 50)\n",
        "#axs[2].set_title('Third layer weights')\n",
        "#axs[3].hist(out, 50)\n",
        "#axs[3].set_title('Output layer weights')\n",
        "#[ax.grid() for ax in axs]\n",
        "#plt.tight_layout()\n",
        "#plt.show()"
      ],
      "execution_count": null,
      "outputs": []
    },
    {
      "cell_type": "code",
      "metadata": {
        "colab": {
          "base_uri": "https://localhost:8080/",
          "height": 441
        },
        "id": "Ea5uoNJ6qoer",
        "outputId": "525ac8a4-8352-41e1-d593-28689a94385f"
      },
      "source": [
        "def get_activation(layer, input, output):\n",
        "    global activation\n",
        "    activation = torch.relu(output)\n",
        "    \n",
        "\n",
        "### Register hook  \n",
        "#We want to inspect the neurons values of the second layer given a specific input in order to show which neuron will fire\n",
        "hook_handle = net.fc1.register_forward_hook(get_activation) #It's called whenever a forward step is done. \n",
        "#When forward phase is completed, hook is called, the activation function used is called and is stored in order to\n",
        "#vizualize the activated neurons of a specific layer\n",
        "\n",
        "### Analyze activations\n",
        "little_dataloader = DataLoader(test_dataset, batch_size=3, shuffle=True, num_workers=0)\n",
        "for batch in little_dataloader:\n",
        "  images = batch[0]\n",
        "  labels = batch[1]\n",
        "  x1 = images[0]\n",
        "  label1 = labels[0]\n",
        "  x1 = x1.unsqueeze(0).to(device)\n",
        "  x2 = images[1]\n",
        "  label2 = labels[1]\n",
        "  x2 = x2.unsqueeze(0).to(device)\n",
        "  x3 = images[2]\n",
        "  label3 = labels[2]\n",
        "  x3 = x3.unsqueeze(0).to(device)\n",
        "  break\n",
        "net = net.to(device)\n",
        "net.eval()\n",
        "with torch.no_grad():\n",
        "    \n",
        "    y1 = net(x1)\n",
        "    z1 = activation \n",
        "    \n",
        "    y2 = net(x2)\n",
        "    z2 = activation\n",
        "    \n",
        "    y3 = net(x3)\n",
        "    z3 = activation\n",
        "\n",
        "### Remove hook\n",
        "hook_handle.remove()\n",
        "\n",
        "### Plot activations\n",
        "fig, axs = plt.subplots(3, 1, figsize=(12,6))\n",
        "\n",
        "axs[0].stem(z1.cpu().numpy()[0], use_line_collection=True)\n",
        "axs[0].set_title('Layer activations for input x=%.2f' % label1)\n",
        "axs[1].stem(z2.cpu().numpy()[0], use_line_collection=True)\n",
        "axs[1].set_title('Layer activations for input x=%.2f' % label2)\n",
        "axs[2].stem(z3.cpu().numpy()[0], use_line_collection=True)\n",
        "axs[2].set_title('Layer activations for input x=%.2f' % label3)\n",
        "plt.tight_layout()\n",
        "plt.show()"
      ],
      "execution_count": null,
      "outputs": [
        {
          "output_type": "display_data",
          "data": {
            "image/png": "[encoded data removed]",
            "text/plain": [
              "<Figure size 864x432 with 3 Axes>"
            ]
          },
          "metadata": {
            "tags": [],
            "needs_background": "light"
          }
        }
      ]
    },
    {
      "cell_type": "code",
      "metadata": {
        "id": "s638s64nn_1E"
      },
      "source": [
        "def relu(x):\n",
        "  return np.maximum(0, x)"
      ],
      "execution_count": null,
      "outputs": []
    },
    {
      "cell_type": "code",
      "metadata": {
        "colab": {
          "base_uri": "https://localhost:8080/",
          "height": 282
        },
        "id": "HvuJzlvDfdgs",
        "outputId": "680eb0c8-906f-466b-b03e-c06e1d71fb41"
      },
      "source": [
        "rec_field1 = fc1\n",
        "#rec_field1 = relu(rec_field1)\n",
        "image = rec_field1[0].reshape(28, 28)\n",
        "plt.imshow(image)"
      ],
      "execution_count": null,
      "outputs": [
        {
          "output_type": "execute_result",
          "data": {
            "text/plain": [
              "<matplotlib.image.AxesImage at 0x7fc5d560a710>"
            ]
          },
          "metadata": {
            "tags": []
          },
          "execution_count": 29
        },
        {
          "output_type": "display_data",
          "data": {
            "image/png": "[encoded data removed]",
            "text/plain": [
              "<Figure size 432x288 with 1 Axes>"
            ]
          },
          "metadata": {
            "tags": [],
            "needs_background": "light"
          }
        }
      ]
    },
    {
      "cell_type": "code",
      "metadata": {
        "colab": {
          "base_uri": "https://localhost:8080/",
          "height": 299
        },
        "id": "Dz7Beio1hT6N",
        "outputId": "ff80257f-10fc-46b7-94c4-afca14729296"
      },
      "source": [
        "rec_field2 = np.matmul(fc2, rec_field1)\n",
        "#rec_field2 = relu(rec_field2)\n",
        "print(rec_field2.shape)\n",
        "image = rec_field2[72].reshape(28, 28)\n",
        "plt.imshow(image)"
      ],
      "execution_count": null,
      "outputs": [
        {
          "output_type": "stream",
          "text": [
            "(512, 784)\n"
          ],
          "name": "stdout"
        },
        {
          "output_type": "execute_result",
          "data": {
            "text/plain": [
              "<matplotlib.image.AxesImage at 0x7fc5d55ed9b0>"
            ]
          },
          "metadata": {
            "tags": []
          },
          "execution_count": 30
        },
        {
          "output_type": "display_data",
          "data": {
            "image/png": "[encoded data removed]",
            "text/plain": [
              "<Figure size 432x288 with 1 Axes>"
            ]
          },
          "metadata": {
            "tags": [],
            "needs_background": "light"
          }
        }
      ]
    },
    {
      "cell_type": "code",
      "metadata": {
        "colab": {
          "base_uri": "https://localhost:8080/",
          "height": 299
        },
        "id": "Lxz_T_oIh4r-",
        "outputId": "ca1dc629-d4ab-42a3-aee5-c7286a373080"
      },
      "source": [
        "rec_field3 = np.matmul(fc3, rec_field2)\n",
        "#rec_field3 = relu(rec_field3)\n",
        "print(rec_field3.shape)\n",
        "image = rec_field3[25].reshape(28, 28)\n",
        "plt.imshow(image)"
      ],
      "execution_count": null,
      "outputs": [
        {
          "output_type": "stream",
          "text": [
            "(256, 784)\n"
          ],
          "name": "stdout"
        },
        {
          "output_type": "execute_result",
          "data": {
            "text/plain": [
              "<matplotlib.image.AxesImage at 0x7fc5d554aa58>"
            ]
          },
          "metadata": {
            "tags": []
          },
          "execution_count": 31
        },
        {
          "output_type": "display_data",
          "data": {
            "image/png": "[encoded data removed]",
            "text/plain": [
              "<Figure size 432x288 with 1 Axes>"
            ]
          },
          "metadata": {
            "tags": [],
            "needs_background": "light"
          }
        }
      ]
    },
    {
      "cell_type": "code",
      "metadata": {
        "colab": {
          "base_uri": "https://localhost:8080/",
          "height": 357
        },
        "id": "JCirkb3eiqg0",
        "outputId": "9acf44f2-2cde-4940-a223-04f86adfb599"
      },
      "source": [
        "rec_field_out = np.matmul(out, rec_field3)\n",
        "#rec_field_out = relu(rec_field_out)\n",
        "fig, axs = plt.subplots(2, 5, figsize=(12,6))\n",
        "for i in range(5):\n",
        "  image = rec_field_out[i].reshape(28, 28)\n",
        "  axs[0][i].imshow(image)\n",
        "  axs[0][i].set_title(\"Label: \"+str(i))\n",
        "\n",
        "for i in range(5, 10):\n",
        "  image = rec_field_out[i].reshape(28, 28)\n",
        "  axs[1][i - 5].imshow(image)\n",
        "  axs[1][i - 5].set_title(\"Label: \"+str(i))\n",
        "#print(rec_field_out.shape)\n",
        "#for i in range(10):\n",
        "#  image = rec_field_out[i].reshape(28, 28)\n",
        "#  print(\"Label \" , i)\n",
        "#  plt.imshow(image)\n",
        "#  plt.show()"
      ],
      "execution_count": null,
      "outputs": [
        {
          "output_type": "display_data",
          "data": {
            "image/png": "[encoded data removed]",
            "text/plain": [
              "<Figure size 864x432 with 10 Axes>"
            ]
          },
          "metadata": {
            "tags": [],
            "needs_background": "light"
          }
        }
      ]
    },
    {
      "cell_type": "markdown",
      "metadata": {
        "id": "RDeX1CmlQVWR"
      },
      "source": [
        "# Convolutional Network"
      ]
    },
    {
      "cell_type": "markdown",
      "metadata": {
        "id": "tIlJzDKyoSix"
      },
      "source": [
        "**Dataset Definition**"
      ]
    },
    {
      "cell_type": "code",
      "metadata": {
        "id": "MyBiJlskl2xC"
      },
      "source": [
        "torch.manual_seed(0)\n",
        "composed_transform = None#transforms.Compose([])\n",
        "\n",
        "train_size = int(len(train_data) * 0.8) #Train-validation 80-20 \n",
        "\n",
        "train_idxs = range(0, train_size)\n",
        "val_idxs = range(train_size, len(train_data))\n",
        "\n",
        "full_dataset = ImageDataset(train_data, transform=composed_transform) #Dataset withouth validation set extracted\n",
        "train_dataset = torch.utils.data.Subset(full_dataset, train_idxs) #Train dataset\n",
        "validation_dataset = torch.utils.data.Subset(full_dataset, val_idxs) #Validation Dataset\n",
        "test_dataset = ImageDataset(test_data, transform=composed_transform) #Test Dataset"
      ],
      "execution_count": null,
      "outputs": []
    },
    {
      "cell_type": "code",
      "metadata": {
        "id": "O--sr8iBl4fh"
      },
      "source": [
        "batch_size = 100\n",
        "test_batch = len(test_dataset)\n",
        "train_dataloader = DataLoader(train_dataset, batch_size=batch_size, shuffle=True, num_workers=0)\n",
        "val_dataloader = DataLoader(validation_dataset, batch_size=len(validation_dataset), shuffle=True, num_workers=0)\n",
        "test_dataloader = DataLoader(test_dataset, batch_size=test_batch, shuffle=False, num_workers=0)"
      ],
      "execution_count": null,
      "outputs": []
    },
    {
      "cell_type": "markdown",
      "metadata": {
        "id": "qNgtOfUcl5RP"
      },
      "source": [
        "**MODEL DEFINITION**\n",
        "\n",
        "Implemented LeNet5 a state of the art network for digit classification with addition of dropout layers\n",
        "\n"
      ]
    },
    {
      "cell_type": "code",
      "metadata": {
        "id": "iBxiB_lK6mmO"
      },
      "source": [
        "class DigitNet(nn.Module):\n",
        "    \n",
        "    def __init__(self, drop1 = 0.25, drop2 = 0.25, drop3 = 0.7):\n",
        "        super().__init__()\n",
        "        \n",
        "        self.c1 = nn.Conv2d(1, 6, kernel_size=(5, 5), stride=1, padding=2)\n",
        "        torch.nn.init.kaiming_uniform_(self.c1.weight, nonlinearity='relu')\n",
        "        self.s2 = nn.AvgPool2d(kernel_size=(2,2), stride = 2)\n",
        "        self.c3 = nn.Conv2d(6, 16, kernel_size=(5, 5), stride=1)\n",
        "        torch.nn.init.kaiming_uniform_(self.c3.weight, nonlinearity='relu')\n",
        "        self.s4 = nn.AvgPool2d(kernel_size=(2,2), stride = 2)\n",
        "        self.c5 = nn.Conv2d(16, 120, kernel_size=(5, 5), stride=1)\n",
        "        torch.nn.init.kaiming_uniform_(self.c5.weight, nonlinearity='relu')\n",
        "        self.f6 = nn.Linear(120, 84)\n",
        "        torch.nn.init.kaiming_uniform_(self.f6.weight, nonlinearity='relu')\n",
        "        self.out = nn.Linear(84, 10)\n",
        "        self.act = nn.ReLU()\n",
        "       \n",
        "        self.drop1 = nn.Dropout(p = drop1)\n",
        "        self.drop2 = nn.Dropout(p = drop2)\n",
        "        self.drop3 = nn.Dropout(p = drop3)\n",
        "        print('Network initialized')\n",
        "        \n",
        "    def forward(self, x):\n",
        "        x = self.act(self.c1(x)) #conv layer\n",
        "        x = self.drop1(x) #dropout\n",
        "        x = self.s2(x) #pooling\n",
        "        x = self.act(self.c3(x)) #conv\n",
        "        x = self.drop2(x) #dropout\n",
        "        x = self.s4(x) #pooling\n",
        "        x = self.act(self.c5(x)) #conv\n",
        "        x = x.reshape(x.shape[0], -1)\n",
        "        x = self.act(self.f6(x)) #flatten\n",
        "        x = self.drop3(x)\n",
        "        x = self.out(x) #output\n",
        "        return x"
      ],
      "execution_count": null,
      "outputs": []
    },
    {
      "cell_type": "code",
      "metadata": {
        "colab": {
          "base_uri": "https://localhost:8080/",
          "height": 817
        },
        "id": "iECaHeQWxiGf",
        "outputId": "4e6db08e-9a55-491b-9f23-9df613093ffc"
      },
      "source": [
        "loss_function = nn.CrossEntropyLoss()\n",
        "hyperparameters = {'lr': [0.001, 0.02], 'weight_decay': [0.0001], 'epochs': [30, 40]}\n",
        "grid_search(loss_function, device, 100, 3, full_dataset, hyperparameters)"
      ],
      "execution_count": null,
      "outputs": [
        {
          "output_type": "stream",
          "text": [
            "\n",
            "\n",
            "TOTAL ITERATIONS: 4\n",
            "\n",
            "\n",
            "Network initialized\n",
            "\n",
            "\n",
            "TRAINING NEW MODEL\n",
            "\n",
            "\n",
            "Epoch 0/30\n",
            "\n",
            "\n",
            "DigitNet(\n",
            "  (c1): Conv2d(1, 6, kernel_size=(5, 5), stride=(1, 1), padding=(2, 2))\n",
            "  (s2): AvgPool2d(kernel_size=(2, 2), stride=2, padding=0)\n",
            "  (c3): Conv2d(6, 16, kernel_size=(5, 5), stride=(1, 1))\n",
            "  (s4): AvgPool2d(kernel_size=(2, 2), stride=2, padding=0)\n",
            "  (c5): Conv2d(16, 120, kernel_size=(5, 5), stride=(1, 1))\n",
            "  (f6): Linear(in_features=120, out_features=84, bias=True)\n",
            "  (out): Linear(in_features=84, out_features=10, bias=True)\n",
            "  (act): ReLU()\n",
            "  (drop1): Dropout(p=0.25, inplace=False)\n",
            "  (drop2): Dropout(p=0.25, inplace=False)\n",
            "  (drop3): Dropout(p=0.7, inplace=False)\n",
            ")\n"
          ],
          "name": "stdout"
        },
        {
          "output_type": "error",
          "ename": "TypeError",
          "evalue": "ignored",
          "traceback": [
            "\u001b[0;31m---------------------------------------------------------------------------\u001b[0m",
            "\u001b[0;31mTypeError\u001b[0m                                 Traceback (most recent call last)",
            "\u001b[0;32m<ipython-input-55-6154798604c1>\u001b[0m in \u001b[0;36m<module>\u001b[0;34m()\u001b[0m\n\u001b[1;32m      1\u001b[0m \u001b[0mloss_function\u001b[0m \u001b[0;34m=\u001b[0m \u001b[0mnn\u001b[0m\u001b[0;34m.\u001b[0m\u001b[0mCrossEntropyLoss\u001b[0m\u001b[0;34m(\u001b[0m\u001b[0;34m)\u001b[0m\u001b[0;34m\u001b[0m\u001b[0;34m\u001b[0m\u001b[0m\n\u001b[1;32m      2\u001b[0m \u001b[0mhyperparameters\u001b[0m \u001b[0;34m=\u001b[0m \u001b[0;34m{\u001b[0m\u001b[0;34m'lr'\u001b[0m\u001b[0;34m:\u001b[0m \u001b[0;34m[\u001b[0m\u001b[0;36m0.001\u001b[0m\u001b[0;34m,\u001b[0m \u001b[0;36m0.02\u001b[0m\u001b[0;34m]\u001b[0m\u001b[0;34m,\u001b[0m \u001b[0;34m'weight_decay'\u001b[0m\u001b[0;34m:\u001b[0m \u001b[0;34m[\u001b[0m\u001b[0;36m0.0001\u001b[0m\u001b[0;34m]\u001b[0m\u001b[0;34m,\u001b[0m \u001b[0;34m'epochs'\u001b[0m\u001b[0;34m:\u001b[0m \u001b[0;34m[\u001b[0m\u001b[0;36m30\u001b[0m\u001b[0;34m,\u001b[0m \u001b[0;36m40\u001b[0m\u001b[0;34m]\u001b[0m\u001b[0;34m}\u001b[0m\u001b[0;34m\u001b[0m\u001b[0;34m\u001b[0m\u001b[0m\n\u001b[0;32m----> 3\u001b[0;31m \u001b[0mgrid_search\u001b[0m\u001b[0;34m(\u001b[0m\u001b[0mloss_function\u001b[0m\u001b[0;34m,\u001b[0m \u001b[0mdevice\u001b[0m\u001b[0;34m,\u001b[0m \u001b[0;36m100\u001b[0m\u001b[0;34m,\u001b[0m \u001b[0;36m3\u001b[0m\u001b[0;34m,\u001b[0m \u001b[0mfull_dataset\u001b[0m\u001b[0;34m,\u001b[0m \u001b[0mhyperparameters\u001b[0m\u001b[0;34m)\u001b[0m\u001b[0;34m\u001b[0m\u001b[0;34m\u001b[0m\u001b[0m\n\u001b[0m",
            "\u001b[0;32m<ipython-input-54-2443894b2472>\u001b[0m in \u001b[0;36mgrid_search\u001b[0;34m(loss_fn, device, batch_size, cv, dataset, hyperparameters, verbose)\u001b[0m\n\u001b[1;32m     22\u001b[0m           \u001b[0;32mif\u001b[0m \u001b[0mverbose\u001b[0m\u001b[0;34m:\u001b[0m\u001b[0;34m\u001b[0m\u001b[0;34m\u001b[0m\u001b[0m\n\u001b[1;32m     23\u001b[0m             \u001b[0mprint\u001b[0m\u001b[0;34m(\u001b[0m\u001b[0;34m\"Epoch %d/%d\\n\\n\"\u001b[0m \u001b[0;34m%\u001b[0m \u001b[0;34m(\u001b[0m\u001b[0mep\u001b[0m\u001b[0;34m,\u001b[0m \u001b[0mepochs\u001b[0m\u001b[0;34m)\u001b[0m\u001b[0;34m)\u001b[0m\u001b[0;34m\u001b[0m\u001b[0;34m\u001b[0m\u001b[0m\n\u001b[0;32m---> 24\u001b[0;31m           \u001b[0mtrain_loss_epoch\u001b[0m\u001b[0;34m,\u001b[0m \u001b[0mval_loss_epoch\u001b[0m \u001b[0;34m=\u001b[0m \u001b[0mcross_validation\u001b[0m\u001b[0;34m(\u001b[0m\u001b[0mnet\u001b[0m\u001b[0;34m,\u001b[0m \u001b[0mdevice\u001b[0m\u001b[0;34m,\u001b[0m \u001b[0mloss_fn\u001b[0m\u001b[0;34m,\u001b[0m \u001b[0moptim\u001b[0m\u001b[0;34m,\u001b[0m \u001b[0mdataset\u001b[0m\u001b[0;34m,\u001b[0m \u001b[0mbatch_size\u001b[0m\u001b[0;34m,\u001b[0m \u001b[0mcv\u001b[0m\u001b[0;34m,\u001b[0m \u001b[0mverbose\u001b[0m\u001b[0;34m)\u001b[0m\u001b[0;34m\u001b[0m\u001b[0;34m\u001b[0m\u001b[0m\n\u001b[0m\u001b[1;32m     25\u001b[0m           \u001b[0mtrain_loss\u001b[0m\u001b[0;34m.\u001b[0m\u001b[0mappend\u001b[0m\u001b[0;34m(\u001b[0m\u001b[0mtrain_loss_epoch\u001b[0m\u001b[0;34m)\u001b[0m\u001b[0;34m\u001b[0m\u001b[0;34m\u001b[0m\u001b[0m\n\u001b[1;32m     26\u001b[0m           \u001b[0mval_loss\u001b[0m\u001b[0;34m.\u001b[0m\u001b[0mappend\u001b[0m\u001b[0;34m(\u001b[0m\u001b[0mval_loss_epoch\u001b[0m\u001b[0;34m)\u001b[0m\u001b[0;34m\u001b[0m\u001b[0;34m\u001b[0m\u001b[0m\n",
            "\u001b[0;32m<ipython-input-52-32425e726344>\u001b[0m in \u001b[0;36mcross_validation\u001b[0;34m(net, device, loss_fn, optimizer, full_dataset, batch_size, cv, verbose)\u001b[0m\n\u001b[1;32m     14\u001b[0m     \u001b[0mval_dataloader\u001b[0m \u001b[0;34m=\u001b[0m \u001b[0mDataLoader\u001b[0m\u001b[0;34m(\u001b[0m\u001b[0mvalidation_dataset\u001b[0m\u001b[0;34m,\u001b[0m \u001b[0mbatch_size\u001b[0m\u001b[0;34m=\u001b[0m\u001b[0mlen\u001b[0m\u001b[0;34m(\u001b[0m\u001b[0mvalidation_dataset\u001b[0m\u001b[0;34m)\u001b[0m\u001b[0;34m,\u001b[0m \u001b[0mshuffle\u001b[0m\u001b[0;34m=\u001b[0m\u001b[0;32mTrue\u001b[0m\u001b[0;34m,\u001b[0m \u001b[0mnum_workers\u001b[0m\u001b[0;34m=\u001b[0m\u001b[0;36m0\u001b[0m\u001b[0;34m)\u001b[0m\u001b[0;34m\u001b[0m\u001b[0;34m\u001b[0m\u001b[0m\n\u001b[1;32m     15\u001b[0m \u001b[0;34m\u001b[0m\u001b[0m\n\u001b[0;32m---> 16\u001b[0;31m     \u001b[0m_\u001b[0m\u001b[0;34m,\u001b[0m \u001b[0m_\u001b[0m\u001b[0;34m,\u001b[0m \u001b[0mtrain_loss\u001b[0m\u001b[0;34m,\u001b[0m \u001b[0mval_loss\u001b[0m \u001b[0;34m=\u001b[0m \u001b[0mtrain_model\u001b[0m\u001b[0;34m(\u001b[0m\u001b[0mnet\u001b[0m\u001b[0;34m,\u001b[0m \u001b[0mdevice\u001b[0m\u001b[0;34m,\u001b[0m \u001b[0mtrain_dataloader\u001b[0m\u001b[0;34m,\u001b[0m \u001b[0mval_dataloader\u001b[0m\u001b[0;34m,\u001b[0m \u001b[0mloss_fn\u001b[0m\u001b[0;34m,\u001b[0m \u001b[0moptimizer\u001b[0m\u001b[0;34m,\u001b[0m \u001b[0mverbose\u001b[0m\u001b[0;34m=\u001b[0m\u001b[0;32mFalse\u001b[0m\u001b[0;34m)\u001b[0m\u001b[0;34m\u001b[0m\u001b[0;34m\u001b[0m\u001b[0m\n\u001b[0m\u001b[1;32m     17\u001b[0m \u001b[0;34m\u001b[0m\u001b[0m\n\u001b[1;32m     18\u001b[0m     \u001b[0;31m#val_loss = test_model(net, device, val_dataloader, loss_fn)\u001b[0m\u001b[0;34m\u001b[0m\u001b[0;34m\u001b[0m\u001b[0;34m\u001b[0m\u001b[0m\n",
            "\u001b[0;32m<ipython-input-7-bc49c414aabc>\u001b[0m in \u001b[0;36mtrain_model\u001b[0;34m(net, loss_function, optimizer, num_epochs, train_dataloader, val_dataloader, verbose)\u001b[0m\n\u001b[1;32m      5\u001b[0m   \u001b[0mtrain_loss_log\u001b[0m \u001b[0;34m=\u001b[0m \u001b[0;34m[\u001b[0m\u001b[0;34m]\u001b[0m\u001b[0;34m\u001b[0m\u001b[0;34m\u001b[0m\u001b[0m\n\u001b[1;32m      6\u001b[0m   \u001b[0mval_loss_log\u001b[0m \u001b[0;34m=\u001b[0m \u001b[0;34m[\u001b[0m\u001b[0;34m]\u001b[0m\u001b[0;34m\u001b[0m\u001b[0;34m\u001b[0m\u001b[0m\n\u001b[0;32m----> 7\u001b[0;31m   \u001b[0;32mfor\u001b[0m \u001b[0mepoch_num\u001b[0m \u001b[0;32min\u001b[0m \u001b[0mrange\u001b[0m\u001b[0;34m(\u001b[0m\u001b[0mnum_epochs\u001b[0m\u001b[0;34m)\u001b[0m\u001b[0;34m:\u001b[0m\u001b[0;34m\u001b[0m\u001b[0;34m\u001b[0m\u001b[0m\n\u001b[0m\u001b[1;32m      8\u001b[0m     \u001b[0;32mif\u001b[0m \u001b[0mverbose\u001b[0m\u001b[0;34m:\u001b[0m\u001b[0;34m\u001b[0m\u001b[0;34m\u001b[0m\u001b[0m\n\u001b[1;32m      9\u001b[0m       \u001b[0mprint\u001b[0m\u001b[0;34m(\u001b[0m\u001b[0;34m'#################'\u001b[0m\u001b[0;34m)\u001b[0m\u001b[0;34m\u001b[0m\u001b[0;34m\u001b[0m\u001b[0m\n",
            "\u001b[0;31mTypeError\u001b[0m: 'DataLoader' object cannot be interpreted as an integer"
          ]
        }
      ]
    },
    {
      "cell_type": "markdown",
      "metadata": {
        "id": "0ZNrAURiQssI"
      },
      "source": [
        "**Model initialization**"
      ]
    },
    {
      "cell_type": "code",
      "metadata": {
        "colab": {
          "base_uri": "https://localhost:8080/"
        },
        "id": "TCF7kOkg6tE_",
        "outputId": "e6195dea-3988-4d2d-d28d-09889dd427ba"
      },
      "source": [
        "torch.manual_seed(0)\n",
        "net = DigitNet()\n",
        "net = net.to(device)"
      ],
      "execution_count": null,
      "outputs": [
        {
          "output_type": "stream",
          "text": [
            "Network initialized\n"
          ],
          "name": "stdout"
        }
      ]
    },
    {
      "cell_type": "markdown",
      "metadata": {
        "id": "qEOziMZxQwoY"
      },
      "source": [
        "**Loss Definition**"
      ]
    },
    {
      "cell_type": "code",
      "metadata": {
        "id": "8rfqKVmo6xWG"
      },
      "source": [
        "loss_function = nn.CrossEntropyLoss()"
      ],
      "execution_count": null,
      "outputs": []
    },
    {
      "cell_type": "markdown",
      "metadata": {
        "id": "OvYySRB0QzN_"
      },
      "source": [
        "**Optimizer Definition**"
      ]
    },
    {
      "cell_type": "code",
      "metadata": {
        "id": "28knohlm6zhO"
      },
      "source": [
        "optimizer = optim.Adam(net.parameters(), lr=0.001)"
      ],
      "execution_count": null,
      "outputs": []
    },
    {
      "cell_type": "markdown",
      "metadata": {
        "id": "ORkQPa7KQ2qn"
      },
      "source": [
        "**Training Loop**"
      ]
    },
    {
      "cell_type": "code",
      "metadata": {
        "id": "PkYP9VC562YG"
      },
      "source": [
        "train_accuracy_log, val_accuracy_log, train_loss_log, val_loss_log = train_model(net, loss_function, optimizer, 30, train_dataloader, val_dataloader, True)"
      ],
      "execution_count": null,
      "outputs": []
    },
    {
      "cell_type": "markdown",
      "metadata": {
        "id": "dmg-nXTcOsKd"
      },
      "source": [
        "**ACCURACY PLOT**"
      ]
    },
    {
      "cell_type": "code",
      "metadata": {
        "id": "dOQtMqS465_O"
      },
      "source": [
        "plt.figure(figsize=(12,8))\n",
        "plt.semilogy(train_accuracy_log, label='Train accuracy')\n",
        "plt.semilogy(val_accuracy_log, label='Validation accuracy')\n",
        "plt.xlabel('Epoch')\n",
        "plt.ylabel('Loss')\n",
        "plt.grid()\n",
        "plt.legend()\n",
        "plt.show()"
      ],
      "execution_count": null,
      "outputs": []
    },
    {
      "cell_type": "markdown",
      "metadata": {
        "id": "SbL4fqKqOurU"
      },
      "source": [
        "**LOSS PLOT**"
      ]
    },
    {
      "cell_type": "code",
      "metadata": {
        "id": "hJsxfEgrOxdE"
      },
      "source": [
        "plt.figure(figsize=(12,8))\n",
        "plt.semilogy(train_loss_log, label='Train loss')\n",
        "plt.semilogy(val_loss_log, label='Validation loss')\n",
        "plt.xlabel('Epoch')\n",
        "plt.ylabel('Loss')\n",
        "plt.grid()\n",
        "plt.legend()\n",
        "plt.show()"
      ],
      "execution_count": null,
      "outputs": []
    },
    {
      "cell_type": "markdown",
      "metadata": {
        "id": "nNrQbIfdQ_oP"
      },
      "source": [
        "**Generalization error estimation**"
      ]
    },
    {
      "cell_type": "code",
      "metadata": {
        "id": "r20RhM567Au9"
      },
      "source": [
        "test_predictions = []\n",
        "sig = nn.Sigmoid()\n",
        "net.eval()\n",
        "with torch.no_grad(): # Disable gradient tracking\n",
        "    for sample_batched in test_dataloader: \n",
        "      # Move data to device\n",
        "      x_test = sample_batched[0].to(device)\n",
        "     \n",
        "      #print(total_images)\n",
        "      labels_test = sample_batched[1].to(device)\n",
        "      \n",
        "      # Forward pass\n",
        "      output = net(x_test)\n",
        "    \n",
        "      # Compute prediction\n",
        "      prediction = get_prediction(output)\n",
        "      correct_predictions = calculate_accuracy(prediction, labels_test, x_test.shape[0])\n",
        "      \n",
        "      # Save val prediction for this batch\n",
        "      test_predictions.append(correct_predictions)\n",
        "      \n",
        "      \n",
        "    # Save average validation loss\n",
        "    test_predictions = np.mean(test_predictions)\n",
        "    print(f\"AVERAGE ACCURACY: {test_predictions * 100}%\")"
      ],
      "execution_count": null,
      "outputs": []
    },
    {
      "cell_type": "markdown",
      "metadata": {
        "id": "bs8wDMYFoD1C"
      },
      "source": [
        "**CONFUSION MATRIX**"
      ]
    },
    {
      "cell_type": "code",
      "metadata": {
        "id": "IJ5NUXP47D7V"
      },
      "source": [
        "plot_confusion_matrix(prediction.cpu().numpy(), labels_test.cpu().numpy(), target_names=range(10), normalize=False)"
      ],
      "execution_count": null,
      "outputs": []
    },
    {
      "cell_type": "markdown",
      "metadata": {
        "id": "UzL8vJx9oH1a"
      },
      "source": [
        "**WEIGHTS ANALYSIS**"
      ]
    },
    {
      "cell_type": "code",
      "metadata": {
        "id": "K1Fbm1HlVRfm"
      },
      "source": [
        "# First hidden layer\n",
        "c1_w = net.c1.weight.data.cpu().numpy()\n",
        "c1_b = net.c1.bias.data.cpu().numpy()\n",
        "print(c1_w.shape)\n",
        "# Second hidden layer\n",
        "c3_w = net.c3.weight.data.cpu().numpy()\n",
        "c3_b = net.c3.bias.data.cpu().numpy()\n",
        "print(c3_w.shape)\n",
        "\n",
        "c5_w = net.c5.weight.data.cpu().numpy()\n",
        "c5_b = net.c5.bias.data.cpu().numpy()\n",
        "print(c5_w.shape)\n",
        "\n",
        "f6_w = net.f6.weight.data.cpu().numpy()\n",
        "f6_b = net.f6.bias.data.cpu().numpy()\n",
        "print(f6_w.shape)\n",
        "\n",
        "# Output layer\n",
        "out_w = net.out.weight.data.cpu().numpy()\n",
        "out_b = net.out.bias.data.cpu().numpy()\n",
        "print(out_w.shape)"
      ],
      "execution_count": null,
      "outputs": []
    },
    {
      "cell_type": "code",
      "metadata": {
        "id": "dVdQjIn4VKHQ"
      },
      "source": [
        "# Weights histogram\n",
        "fig, axs = plt.subplots(5, 1, figsize=(12,8))\n",
        "axs[0].hist(c1_w.flatten(), 50)\n",
        "axs[0].set_title('First hidden layer weights')\n",
        "axs[1].hist(c3_w.flatten(), 50)\n",
        "axs[1].set_title('Second hidden layer weights')\n",
        "axs[2].hist(c5_w.flatten(), 50)\n",
        "axs[2].set_title('Third layer weights')\n",
        "axs[3].hist(f6_w.flatten(), 50)\n",
        "axs[3].set_title('Forth layer weights')\n",
        "axs[4].hist(out_w.flatten(), 50)\n",
        "axs[4].set_title('Output layer weights')\n",
        "[ax.grid() for ax in axs]\n",
        "plt.tight_layout()\n",
        "plt.show()"
      ],
      "execution_count": null,
      "outputs": []
    },
    {
      "cell_type": "code",
      "metadata": {
        "id": "VpGCP8IH7Gb2"
      },
      "source": [
        "net_state_dict = net.state_dict()\n",
        "# Save the state dict to a file\n",
        "#the best model is saved in net_parameters.torch\n",
        "torch.save(net_state_dict, 'net_parameters_test.torch')"
      ],
      "execution_count": null,
      "outputs": []
    },
    {
      "cell_type": "code",
      "metadata": {
        "id": "4EDfPVHw7J49"
      },
      "source": [
        "def get_activation(layer, input, output):\n",
        "    global activation\n",
        "    activation = torch.relu(output)\n",
        "    \n",
        "\n",
        "### Register hook  \n",
        "#We want to inspect the neurons values of the second layer given a specific input in order to show which neuron will fire\n",
        "hook_handle = net.f6.register_forward_hook(get_activation) #It's called whenever a forward step is done. \n",
        "#When forward phase is completed, hook is called, the activation function used is called and is stored in order to\n",
        "#vizualize the activated neurons of a specific layer\n",
        "\n",
        "### Analyze activations\n",
        "little_dataloader = DataLoader(test_dataset, batch_size=3, shuffle=True, num_workers=0)\n",
        "for batch in little_dataloader:\n",
        "  images = batch[0]\n",
        "  \n",
        "  labels = batch[1]\n",
        "  x1 = images[0]\n",
        "  label1 = labels[0]\n",
        "  x1 = x1.unsqueeze(0).to(device)\n",
        "  x2 = images[1]\n",
        "  label2 = labels[1]\n",
        "  x2 = x2.unsqueeze(0).to(device)\n",
        "  x3 = images[2]\n",
        "  label3 = labels[2]\n",
        "  x3 = x3.unsqueeze(0).to(device)\n",
        "  break\n",
        "net = net.to(device)\n",
        "net.eval()\n",
        "with torch.no_grad():\n",
        "    \n",
        "    y1 = net(x1)\n",
        "    z1 = activation \n",
        "    \n",
        "    y2 = net(x2)\n",
        "    z2 = activation\n",
        "    \n",
        "    y3 = net(x3)\n",
        "    z3 = activation\n",
        "\n",
        "### Remove hook\n",
        "hook_handle.remove()\n",
        "### Plot activations\n",
        "fig, axs = plt.subplots(3, 1, figsize=(12,6))\n",
        "\n",
        "axs[0].stem(z1.cpu().numpy()[0], use_line_collection=True)\n",
        "axs[0].set_title('Layer activations for input x=%.2f' % label1)\n",
        "axs[1].stem(z2.cpu().numpy()[0], use_line_collection=True)\n",
        "axs[1].set_title('Layer activations for input x=%.2f' % label2)\n",
        "axs[2].stem(z3.cpu().numpy()[0], use_line_collection=True)\n",
        "axs[2].set_title('Layer activations for input x=%.2f' % label3)\n",
        "plt.tight_layout()\n",
        "plt.show()"
      ],
      "execution_count": null,
      "outputs": []
    },
    {
      "cell_type": "markdown",
      "metadata": {
        "id": "XkbZz-O6774Q"
      },
      "source": [
        "**Kernels**"
      ]
    },
    {
      "cell_type": "code",
      "metadata": {
        "id": "XsQpLnOW7eBT"
      },
      "source": [
        "\n",
        "\n",
        "def visTensor(tensor, ch=0, allkernels=False, nrow=8, padding=1): \n",
        "        n,c,w,h = tensor.shape\n",
        "        #tensor *= 255\n",
        "        if allkernels: tensor = tensor.view(n*c, -1, w, h)\n",
        "        elif c != 3: tensor = tensor[:,ch,:,:].unsqueeze(dim=1)\n",
        "\n",
        "        rows = np.min((tensor.shape[0] // nrow + 1, 64))    \n",
        "        grid = torchvision.utils.make_grid(tensor, nrow=nrow, normalize=True, padding=padding)\n",
        "        plt.figure( figsize=(nrow,rows) )\n",
        "        plt.imshow(grid.numpy().transpose((1, 2, 0)))\n",
        "        plt.axis('off')\n",
        "        plt.ioff()\n",
        "        plt.show()\n",
        "\n",
        "\n",
        "#filter_img = torchvision.utils.make_grid(kernels)\n",
        "#print(filter_img.shape)\n",
        "\n",
        "#plt.imshow(filter_img.permute(1, 2, 0))\n",
        "\n",
        "visTensor(net.c1.weight.detach().cpu(), ch=0, allkernels=False)\n",
        "\n",
        "visTensor(net.c3.weight.detach().cpu(), ch=0, allkernels=False)\n",
        "\n",
        "visTensor(net.c5.weight.detach().cpu(), ch=0, allkernels=False)\n"
      ],
      "execution_count": null,
      "outputs": []
    },
    {
      "cell_type": "markdown",
      "metadata": {
        "id": "yf9o1qrq72tA"
      },
      "source": [
        "**Feature maps**"
      ]
    },
    {
      "cell_type": "code",
      "metadata": {
        "id": "Tglwmz6CC7Ux"
      },
      "source": [
        "act = nn.ReLU()\n",
        "c1 = net.c1.to(device)\n",
        "images1 = c1(x1)\n",
        "images1 = act(images1)\n",
        "images1cpu = images1.detach().cpu()\n",
        "visTensor(images1cpu, ch=0, allkernels=True)\n",
        "\n",
        "s2 = net.s2.to(device)\n",
        "c3 = net.c3.to(device)\n",
        "images2 = s2(images1)\n",
        "images2 = c3(images2)\n",
        "images2 = act(images2)\n",
        "images2cpu = images2.detach().cpu()\n",
        "\n",
        "visTensor(images2cpu, ch=0, allkernels=True)\n",
        "\n",
        "\n",
        "s4 = net.s4.to(device)\n",
        "c5 = net.c5.to(device)\n",
        "images3 = c5(s4(images2))\n",
        "images3cpu = images3.detach().cpu()\n",
        "visTensor(images3cpu, ch=0, allkernels=True)\n",
        "print(images3.shape)\n",
        "\n"
      ],
      "execution_count": null,
      "outputs": []
    },
    {
      "cell_type": "code",
      "metadata": {
        "id": "yAKWLq9lVAQf"
      },
      "source": [
        "def visualize_receptive_field(image):\n",
        "  input = torch.ones_like(image, requires_grad=True)\n",
        "  out = net(input)\n",
        "  sig = nn.Sigmoid()\n",
        "    \n",
        "  prediction = torch.argmax(sig(net(image)), dim=1) #prediction of the true image\n",
        "  #print(sig(out))\n",
        "\n",
        "  grad = torch.zeros_like(out, requires_grad=True)\n",
        "  grad[0][prediction] = 1\n",
        "  #print(grad)\n",
        "\n",
        "  out.backward(gradient=grad)\n",
        "  gradient_of_input = input.grad[0, 0].data.cpu().numpy()\n",
        "  gradient_of_input = gradient_of_input / np.amax(gradient_of_input)\n",
        "\n",
        "  def normalize(activations):\n",
        "      # transform activations so that all the values be in range [0, 1]\n",
        "      activations = activations - np.min(activations[:])\n",
        "      activations = activations / np.max(activations[:])\n",
        "      return activations\n",
        "\n",
        "\n",
        "  def visualize_activations(image, activations):\n",
        "      activations = normalize(activations)\n",
        "\n",
        "      # replicate the activations to go from 1 channel to 3\n",
        "      # as we have colorful input image\n",
        "      # we could use cvtColor with GRAY2BGR flag here, but it is not\n",
        "      # safe - our values are floats, but cvtColor expects 8-bit or\n",
        "      # 16-bit inttegers\n",
        "      masked_image = (image * activations)\n",
        "        \n",
        "      return masked_image\n",
        "\n",
        "\n",
        "  receptive_field_mask = visualize_activations(image.cpu().numpy(), gradient_of_input)\n",
        "  return receptive_field_mask[0][0]\n",
        "  #plt.imshow(receptive_field_mask[0][0], cmap='Greys')\n",
        "  #plt.show()\n",
        "    \n"
      ],
      "execution_count": null,
      "outputs": []
    },
    {
      "cell_type": "code",
      "metadata": {
        "id": "owUIVB3mjE2u"
      },
      "source": [
        "rec1 = visualize_receptive_field(x1)\n",
        "plt.imshow(rec1, cmap='Greys')\n",
        "plt.show()\n",
        "\n",
        "rec2 = visualize_receptive_field(x2)\n",
        "plt.imshow(rec2, cmap='Greys')\n",
        "plt.show()\n",
        "\n",
        "rec3 = visualize_receptive_field(x3)\n",
        "plt.imshow(rec3, cmap='Greys')\n",
        "plt.show()"
      ],
      "execution_count": null,
      "outputs": []
    }
  ]
}