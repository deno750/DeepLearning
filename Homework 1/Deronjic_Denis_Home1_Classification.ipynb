{
  "nbformat": 4,
  "nbformat_minor": 0,
  "metadata": {
    "accelerator": "GPU",
    "colab": {
      "name": "Deronjic_Denis_Home1_Classification.ipynb",
      "provenance": [],
      "collapsed_sections": [],
      "toc_visible": true
    },
    "kernelspec": {
      "display_name": "Python 3",
      "name": "python3"
    },
    "widgets": {
      "application/vnd.jupyter.widget-state+json": {
        "9d269e1cf73b4a5cbe4c79547bec5cee": {
          "model_module": "@jupyter-widgets/controls",
          "model_name": "HBoxModel",
          "state": {
            "_view_name": "HBoxView",
            "_dom_classes": [],
            "_model_name": "HBoxModel",
            "_view_module": "@jupyter-widgets/controls",
            "_model_module_version": "1.5.0",
            "_view_count": null,
            "_view_module_version": "1.5.0",
            "box_style": "",
            "layout": "IPY_MODEL_aebc3d6182944a229b6bd479f51eaa09",
            "_model_module": "@jupyter-widgets/controls",
            "children": [
              "IPY_MODEL_1d356cfa52904416bff99e9e7f13d9b3",
              "IPY_MODEL_9a8244a83694487dae8b14d822e9470f"
            ]
          }
        },
        "aebc3d6182944a229b6bd479f51eaa09": {
          "model_module": "@jupyter-widgets/base",
          "model_name": "LayoutModel",
          "state": {
            "_view_name": "LayoutView",
            "grid_template_rows": null,
            "right": null,
            "justify_content": null,
            "_view_module": "@jupyter-widgets/base",
            "overflow": null,
            "_model_module_version": "1.2.0",
            "_view_count": null,
            "flex_flow": null,
            "width": null,
            "min_width": null,
            "border": null,
            "align_items": null,
            "bottom": null,
            "_model_module": "@jupyter-widgets/base",
            "top": null,
            "grid_column": null,
            "overflow_y": null,
            "overflow_x": null,
            "grid_auto_flow": null,
            "grid_area": null,
            "grid_template_columns": null,
            "flex": null,
            "_model_name": "LayoutModel",
            "justify_items": null,
            "grid_row": null,
            "max_height": null,
            "align_content": null,
            "visibility": null,
            "align_self": null,
            "height": null,
            "min_height": null,
            "padding": null,
            "grid_auto_rows": null,
            "grid_gap": null,
            "max_width": null,
            "order": null,
            "_view_module_version": "1.2.0",
            "grid_template_areas": null,
            "object_position": null,
            "object_fit": null,
            "grid_auto_columns": null,
            "margin": null,
            "display": null,
            "left": null
          }
        },
        "1d356cfa52904416bff99e9e7f13d9b3": {
          "model_module": "@jupyter-widgets/controls",
          "model_name": "FloatProgressModel",
          "state": {
            "_view_name": "ProgressView",
            "style": "IPY_MODEL_79b3928bd86847ab99c8650707df6cb5",
            "_dom_classes": [],
            "description": "",
            "_model_name": "FloatProgressModel",
            "bar_style": "success",
            "max": 1,
            "_view_module": "@jupyter-widgets/controls",
            "_model_module_version": "1.5.0",
            "value": 1,
            "_view_count": null,
            "_view_module_version": "1.5.0",
            "orientation": "horizontal",
            "min": 0,
            "description_tooltip": null,
            "_model_module": "@jupyter-widgets/controls",
            "layout": "IPY_MODEL_49c1efdb97a84cd6aa023f4abdbb29dc"
          }
        },
        "9a8244a83694487dae8b14d822e9470f": {
          "model_module": "@jupyter-widgets/controls",
          "model_name": "HTMLModel",
          "state": {
            "_view_name": "HTMLView",
            "style": "IPY_MODEL_82d27409c42c4f8ca730c19b9d28d452",
            "_dom_classes": [],
            "description": "",
            "_model_name": "HTMLModel",
            "placeholder": "​",
            "_view_module": "@jupyter-widgets/controls",
            "_model_module_version": "1.5.0",
            "value": " 9920512/? [00:03&lt;00:00, 3040745.47it/s]",
            "_view_count": null,
            "_view_module_version": "1.5.0",
            "description_tooltip": null,
            "_model_module": "@jupyter-widgets/controls",
            "layout": "IPY_MODEL_af625f93979b43d9ab9c3177e977556e"
          }
        },
        "79b3928bd86847ab99c8650707df6cb5": {
          "model_module": "@jupyter-widgets/controls",
          "model_name": "ProgressStyleModel",
          "state": {
            "_view_name": "StyleView",
            "_model_name": "ProgressStyleModel",
            "description_width": "initial",
            "_view_module": "@jupyter-widgets/base",
            "_model_module_version": "1.5.0",
            "_view_count": null,
            "_view_module_version": "1.2.0",
            "bar_color": null,
            "_model_module": "@jupyter-widgets/controls"
          }
        },
        "49c1efdb97a84cd6aa023f4abdbb29dc": {
          "model_module": "@jupyter-widgets/base",
          "model_name": "LayoutModel",
          "state": {
            "_view_name": "LayoutView",
            "grid_template_rows": null,
            "right": null,
            "justify_content": null,
            "_view_module": "@jupyter-widgets/base",
            "overflow": null,
            "_model_module_version": "1.2.0",
            "_view_count": null,
            "flex_flow": null,
            "width": null,
            "min_width": null,
            "border": null,
            "align_items": null,
            "bottom": null,
            "_model_module": "@jupyter-widgets/base",
            "top": null,
            "grid_column": null,
            "overflow_y": null,
            "overflow_x": null,
            "grid_auto_flow": null,
            "grid_area": null,
            "grid_template_columns": null,
            "flex": null,
            "_model_name": "LayoutModel",
            "justify_items": null,
            "grid_row": null,
            "max_height": null,
            "align_content": null,
            "visibility": null,
            "align_self": null,
            "height": null,
            "min_height": null,
            "padding": null,
            "grid_auto_rows": null,
            "grid_gap": null,
            "max_width": null,
            "order": null,
            "_view_module_version": "1.2.0",
            "grid_template_areas": null,
            "object_position": null,
            "object_fit": null,
            "grid_auto_columns": null,
            "margin": null,
            "display": null,
            "left": null
          }
        },
        "82d27409c42c4f8ca730c19b9d28d452": {
          "model_module": "@jupyter-widgets/controls",
          "model_name": "DescriptionStyleModel",
          "state": {
            "_view_name": "StyleView",
            "_model_name": "DescriptionStyleModel",
            "description_width": "",
            "_view_module": "@jupyter-widgets/base",
            "_model_module_version": "1.5.0",
            "_view_count": null,
            "_view_module_version": "1.2.0",
            "_model_module": "@jupyter-widgets/controls"
          }
        },
        "af625f93979b43d9ab9c3177e977556e": {
          "model_module": "@jupyter-widgets/base",
          "model_name": "LayoutModel",
          "state": {
            "_view_name": "LayoutView",
            "grid_template_rows": null,
            "right": null,
            "justify_content": null,
            "_view_module": "@jupyter-widgets/base",
            "overflow": null,
            "_model_module_version": "1.2.0",
            "_view_count": null,
            "flex_flow": null,
            "width": null,
            "min_width": null,
            "border": null,
            "align_items": null,
            "bottom": null,
            "_model_module": "@jupyter-widgets/base",
            "top": null,
            "grid_column": null,
            "overflow_y": null,
            "overflow_x": null,
            "grid_auto_flow": null,
            "grid_area": null,
            "grid_template_columns": null,
            "flex": null,
            "_model_name": "LayoutModel",
            "justify_items": null,
            "grid_row": null,
            "max_height": null,
            "align_content": null,
            "visibility": null,
            "align_self": null,
            "height": null,
            "min_height": null,
            "padding": null,
            "grid_auto_rows": null,
            "grid_gap": null,
            "max_width": null,
            "order": null,
            "_view_module_version": "1.2.0",
            "grid_template_areas": null,
            "object_position": null,
            "object_fit": null,
            "grid_auto_columns": null,
            "margin": null,
            "display": null,
            "left": null
          }
        },
        "692d44072baa43e48655aa28f51940c9": {
          "model_module": "@jupyter-widgets/controls",
          "model_name": "HBoxModel",
          "state": {
            "_view_name": "HBoxView",
            "_dom_classes": [],
            "_model_name": "HBoxModel",
            "_view_module": "@jupyter-widgets/controls",
            "_model_module_version": "1.5.0",
            "_view_count": null,
            "_view_module_version": "1.5.0",
            "box_style": "",
            "layout": "IPY_MODEL_e398281253e849578ec69d1323f78c31",
            "_model_module": "@jupyter-widgets/controls",
            "children": [
              "IPY_MODEL_3953c12da4d74d1a9fc1be941b4de0a1",
              "IPY_MODEL_b2d4049202c94f57bf96ee58d488c06b"
            ]
          }
        },
        "e398281253e849578ec69d1323f78c31": {
          "model_module": "@jupyter-widgets/base",
          "model_name": "LayoutModel",
          "state": {
            "_view_name": "LayoutView",
            "grid_template_rows": null,
            "right": null,
            "justify_content": null,
            "_view_module": "@jupyter-widgets/base",
            "overflow": null,
            "_model_module_version": "1.2.0",
            "_view_count": null,
            "flex_flow": null,
            "width": null,
            "min_width": null,
            "border": null,
            "align_items": null,
            "bottom": null,
            "_model_module": "@jupyter-widgets/base",
            "top": null,
            "grid_column": null,
            "overflow_y": null,
            "overflow_x": null,
            "grid_auto_flow": null,
            "grid_area": null,
            "grid_template_columns": null,
            "flex": null,
            "_model_name": "LayoutModel",
            "justify_items": null,
            "grid_row": null,
            "max_height": null,
            "align_content": null,
            "visibility": null,
            "align_self": null,
            "height": null,
            "min_height": null,
            "padding": null,
            "grid_auto_rows": null,
            "grid_gap": null,
            "max_width": null,
            "order": null,
            "_view_module_version": "1.2.0",
            "grid_template_areas": null,
            "object_position": null,
            "object_fit": null,
            "grid_auto_columns": null,
            "margin": null,
            "display": null,
            "left": null
          }
        },
        "3953c12da4d74d1a9fc1be941b4de0a1": {
          "model_module": "@jupyter-widgets/controls",
          "model_name": "FloatProgressModel",
          "state": {
            "_view_name": "ProgressView",
            "style": "IPY_MODEL_ae1c2140c30641e48f2ae97d1f8901a7",
            "_dom_classes": [],
            "description": "",
            "_model_name": "FloatProgressModel",
            "bar_style": "success",
            "max": 1,
            "_view_module": "@jupyter-widgets/controls",
            "_model_module_version": "1.5.0",
            "value": 1,
            "_view_count": null,
            "_view_module_version": "1.5.0",
            "orientation": "horizontal",
            "min": 0,
            "description_tooltip": null,
            "_model_module": "@jupyter-widgets/controls",
            "layout": "IPY_MODEL_f8b9ba114ea84306b6413ecf26bf52d9"
          }
        },
        "b2d4049202c94f57bf96ee58d488c06b": {
          "model_module": "@jupyter-widgets/controls",
          "model_name": "HTMLModel",
          "state": {
            "_view_name": "HTMLView",
            "style": "IPY_MODEL_8ea18ae139084c0e91e3c1deb953eaa7",
            "_dom_classes": [],
            "description": "",
            "_model_name": "HTMLModel",
            "placeholder": "​",
            "_view_module": "@jupyter-widgets/controls",
            "_model_module_version": "1.5.0",
            "value": " 32768/? [00:00&lt;00:00, 115607.13it/s]",
            "_view_count": null,
            "_view_module_version": "1.5.0",
            "description_tooltip": null,
            "_model_module": "@jupyter-widgets/controls",
            "layout": "IPY_MODEL_b8a686b86f564a82a6191777c7b9fa33"
          }
        },
        "ae1c2140c30641e48f2ae97d1f8901a7": {
          "model_module": "@jupyter-widgets/controls",
          "model_name": "ProgressStyleModel",
          "state": {
            "_view_name": "StyleView",
            "_model_name": "ProgressStyleModel",
            "description_width": "initial",
            "_view_module": "@jupyter-widgets/base",
            "_model_module_version": "1.5.0",
            "_view_count": null,
            "_view_module_version": "1.2.0",
            "bar_color": null,
            "_model_module": "@jupyter-widgets/controls"
          }
        },
        "f8b9ba114ea84306b6413ecf26bf52d9": {
          "model_module": "@jupyter-widgets/base",
          "model_name": "LayoutModel",
          "state": {
            "_view_name": "LayoutView",
            "grid_template_rows": null,
            "right": null,
            "justify_content": null,
            "_view_module": "@jupyter-widgets/base",
            "overflow": null,
            "_model_module_version": "1.2.0",
            "_view_count": null,
            "flex_flow": null,
            "width": null,
            "min_width": null,
            "border": null,
            "align_items": null,
            "bottom": null,
            "_model_module": "@jupyter-widgets/base",
            "top": null,
            "grid_column": null,
            "overflow_y": null,
            "overflow_x": null,
            "grid_auto_flow": null,
            "grid_area": null,
            "grid_template_columns": null,
            "flex": null,
            "_model_name": "LayoutModel",
            "justify_items": null,
            "grid_row": null,
            "max_height": null,
            "align_content": null,
            "visibility": null,
            "align_self": null,
            "height": null,
            "min_height": null,
            "padding": null,
            "grid_auto_rows": null,
            "grid_gap": null,
            "max_width": null,
            "order": null,
            "_view_module_version": "1.2.0",
            "grid_template_areas": null,
            "object_position": null,
            "object_fit": null,
            "grid_auto_columns": null,
            "margin": null,
            "display": null,
            "left": null
          }
        },
        "8ea18ae139084c0e91e3c1deb953eaa7": {
          "model_module": "@jupyter-widgets/controls",
          "model_name": "DescriptionStyleModel",
          "state": {
            "_view_name": "StyleView",
            "_model_name": "DescriptionStyleModel",
            "description_width": "",
            "_view_module": "@jupyter-widgets/base",
            "_model_module_version": "1.5.0",
            "_view_count": null,
            "_view_module_version": "1.2.0",
            "_model_module": "@jupyter-widgets/controls"
          }
        },
        "b8a686b86f564a82a6191777c7b9fa33": {
          "model_module": "@jupyter-widgets/base",
          "model_name": "LayoutModel",
          "state": {
            "_view_name": "LayoutView",
            "grid_template_rows": null,
            "right": null,
            "justify_content": null,
            "_view_module": "@jupyter-widgets/base",
            "overflow": null,
            "_model_module_version": "1.2.0",
            "_view_count": null,
            "flex_flow": null,
            "width": null,
            "min_width": null,
            "border": null,
            "align_items": null,
            "bottom": null,
            "_model_module": "@jupyter-widgets/base",
            "top": null,
            "grid_column": null,
            "overflow_y": null,
            "overflow_x": null,
            "grid_auto_flow": null,
            "grid_area": null,
            "grid_template_columns": null,
            "flex": null,
            "_model_name": "LayoutModel",
            "justify_items": null,
            "grid_row": null,
            "max_height": null,
            "align_content": null,
            "visibility": null,
            "align_self": null,
            "height": null,
            "min_height": null,
            "padding": null,
            "grid_auto_rows": null,
            "grid_gap": null,
            "max_width": null,
            "order": null,
            "_view_module_version": "1.2.0",
            "grid_template_areas": null,
            "object_position": null,
            "object_fit": null,
            "grid_auto_columns": null,
            "margin": null,
            "display": null,
            "left": null
          }
        },
        "4c2329eec8154cce8f8ec87fa36ea64f": {
          "model_module": "@jupyter-widgets/controls",
          "model_name": "HBoxModel",
          "state": {
            "_view_name": "HBoxView",
            "_dom_classes": [],
            "_model_name": "HBoxModel",
            "_view_module": "@jupyter-widgets/controls",
            "_model_module_version": "1.5.0",
            "_view_count": null,
            "_view_module_version": "1.5.0",
            "box_style": "",
            "layout": "IPY_MODEL_474bba1b53164717af99bc53911c3825",
            "_model_module": "@jupyter-widgets/controls",
            "children": [
              "IPY_MODEL_cdcecf4671d640c9a610ec7412cf7a48",
              "IPY_MODEL_7dbf62c20e1145808733d02b3368673d"
            ]
          }
        },
        "474bba1b53164717af99bc53911c3825": {
          "model_module": "@jupyter-widgets/base",
          "model_name": "LayoutModel",
          "state": {
            "_view_name": "LayoutView",
            "grid_template_rows": null,
            "right": null,
            "justify_content": null,
            "_view_module": "@jupyter-widgets/base",
            "overflow": null,
            "_model_module_version": "1.2.0",
            "_view_count": null,
            "flex_flow": null,
            "width": null,
            "min_width": null,
            "border": null,
            "align_items": null,
            "bottom": null,
            "_model_module": "@jupyter-widgets/base",
            "top": null,
            "grid_column": null,
            "overflow_y": null,
            "overflow_x": null,
            "grid_auto_flow": null,
            "grid_area": null,
            "grid_template_columns": null,
            "flex": null,
            "_model_name": "LayoutModel",
            "justify_items": null,
            "grid_row": null,
            "max_height": null,
            "align_content": null,
            "visibility": null,
            "align_self": null,
            "height": null,
            "min_height": null,
            "padding": null,
            "grid_auto_rows": null,
            "grid_gap": null,
            "max_width": null,
            "order": null,
            "_view_module_version": "1.2.0",
            "grid_template_areas": null,
            "object_position": null,
            "object_fit": null,
            "grid_auto_columns": null,
            "margin": null,
            "display": null,
            "left": null
          }
        },
        "cdcecf4671d640c9a610ec7412cf7a48": {
          "model_module": "@jupyter-widgets/controls",
          "model_name": "FloatProgressModel",
          "state": {
            "_view_name": "ProgressView",
            "style": "IPY_MODEL_eb1b098df68745f2895321a0f1ef2770",
            "_dom_classes": [],
            "description": "",
            "_model_name": "FloatProgressModel",
            "bar_style": "success",
            "max": 1,
            "_view_module": "@jupyter-widgets/controls",
            "_model_module_version": "1.5.0",
            "value": 1,
            "_view_count": null,
            "_view_module_version": "1.5.0",
            "orientation": "horizontal",
            "min": 0,
            "description_tooltip": null,
            "_model_module": "@jupyter-widgets/controls",
            "layout": "IPY_MODEL_c89fcc917dd64452a4941607de9a041b"
          }
        },
        "7dbf62c20e1145808733d02b3368673d": {
          "model_module": "@jupyter-widgets/controls",
          "model_name": "HTMLModel",
          "state": {
            "_view_name": "HTMLView",
            "style": "IPY_MODEL_370f0c0a8ad24a838155ac1d6a141da4",
            "_dom_classes": [],
            "description": "",
            "_model_name": "HTMLModel",
            "placeholder": "​",
            "_view_module": "@jupyter-widgets/controls",
            "_model_module_version": "1.5.0",
            "value": " 1654784/? [00:01&lt;00:00, 1077751.71it/s]",
            "_view_count": null,
            "_view_module_version": "1.5.0",
            "description_tooltip": null,
            "_model_module": "@jupyter-widgets/controls",
            "layout": "IPY_MODEL_5327dcd917144f7499509e4517a81cdc"
          }
        },
        "eb1b098df68745f2895321a0f1ef2770": {
          "model_module": "@jupyter-widgets/controls",
          "model_name": "ProgressStyleModel",
          "state": {
            "_view_name": "StyleView",
            "_model_name": "ProgressStyleModel",
            "description_width": "initial",
            "_view_module": "@jupyter-widgets/base",
            "_model_module_version": "1.5.0",
            "_view_count": null,
            "_view_module_version": "1.2.0",
            "bar_color": null,
            "_model_module": "@jupyter-widgets/controls"
          }
        },
        "c89fcc917dd64452a4941607de9a041b": {
          "model_module": "@jupyter-widgets/base",
          "model_name": "LayoutModel",
          "state": {
            "_view_name": "LayoutView",
            "grid_template_rows": null,
            "right": null,
            "justify_content": null,
            "_view_module": "@jupyter-widgets/base",
            "overflow": null,
            "_model_module_version": "1.2.0",
            "_view_count": null,
            "flex_flow": null,
            "width": null,
            "min_width": null,
            "border": null,
            "align_items": null,
            "bottom": null,
            "_model_module": "@jupyter-widgets/base",
            "top": null,
            "grid_column": null,
            "overflow_y": null,
            "overflow_x": null,
            "grid_auto_flow": null,
            "grid_area": null,
            "grid_template_columns": null,
            "flex": null,
            "_model_name": "LayoutModel",
            "justify_items": null,
            "grid_row": null,
            "max_height": null,
            "align_content": null,
            "visibility": null,
            "align_self": null,
            "height": null,
            "min_height": null,
            "padding": null,
            "grid_auto_rows": null,
            "grid_gap": null,
            "max_width": null,
            "order": null,
            "_view_module_version": "1.2.0",
            "grid_template_areas": null,
            "object_position": null,
            "object_fit": null,
            "grid_auto_columns": null,
            "margin": null,
            "display": null,
            "left": null
          }
        },
        "370f0c0a8ad24a838155ac1d6a141da4": {
          "model_module": "@jupyter-widgets/controls",
          "model_name": "DescriptionStyleModel",
          "state": {
            "_view_name": "StyleView",
            "_model_name": "DescriptionStyleModel",
            "description_width": "",
            "_view_module": "@jupyter-widgets/base",
            "_model_module_version": "1.5.0",
            "_view_count": null,
            "_view_module_version": "1.2.0",
            "_model_module": "@jupyter-widgets/controls"
          }
        },
        "5327dcd917144f7499509e4517a81cdc": {
          "model_module": "@jupyter-widgets/base",
          "model_name": "LayoutModel",
          "state": {
            "_view_name": "LayoutView",
            "grid_template_rows": null,
            "right": null,
            "justify_content": null,
            "_view_module": "@jupyter-widgets/base",
            "overflow": null,
            "_model_module_version": "1.2.0",
            "_view_count": null,
            "flex_flow": null,
            "width": null,
            "min_width": null,
            "border": null,
            "align_items": null,
            "bottom": null,
            "_model_module": "@jupyter-widgets/base",
            "top": null,
            "grid_column": null,
            "overflow_y": null,
            "overflow_x": null,
            "grid_auto_flow": null,
            "grid_area": null,
            "grid_template_columns": null,
            "flex": null,
            "_model_name": "LayoutModel",
            "justify_items": null,
            "grid_row": null,
            "max_height": null,
            "align_content": null,
            "visibility": null,
            "align_self": null,
            "height": null,
            "min_height": null,
            "padding": null,
            "grid_auto_rows": null,
            "grid_gap": null,
            "max_width": null,
            "order": null,
            "_view_module_version": "1.2.0",
            "grid_template_areas": null,
            "object_position": null,
            "object_fit": null,
            "grid_auto_columns": null,
            "margin": null,
            "display": null,
            "left": null
          }
        },
        "d9d956694cc046178ab10dbde6a2d918": {
          "model_module": "@jupyter-widgets/controls",
          "model_name": "HBoxModel",
          "state": {
            "_view_name": "HBoxView",
            "_dom_classes": [],
            "_model_name": "HBoxModel",
            "_view_module": "@jupyter-widgets/controls",
            "_model_module_version": "1.5.0",
            "_view_count": null,
            "_view_module_version": "1.5.0",
            "box_style": "",
            "layout": "IPY_MODEL_9648ac6b0979481a8cb7aba717d6f04b",
            "_model_module": "@jupyter-widgets/controls",
            "children": [
              "IPY_MODEL_1d65a19f97f742099caa95485cbec183",
              "IPY_MODEL_173adfe19cdb41949bba9745075caf07"
            ]
          }
        },
        "9648ac6b0979481a8cb7aba717d6f04b": {
          "model_module": "@jupyter-widgets/base",
          "model_name": "LayoutModel",
          "state": {
            "_view_name": "LayoutView",
            "grid_template_rows": null,
            "right": null,
            "justify_content": null,
            "_view_module": "@jupyter-widgets/base",
            "overflow": null,
            "_model_module_version": "1.2.0",
            "_view_count": null,
            "flex_flow": null,
            "width": null,
            "min_width": null,
            "border": null,
            "align_items": null,
            "bottom": null,
            "_model_module": "@jupyter-widgets/base",
            "top": null,
            "grid_column": null,
            "overflow_y": null,
            "overflow_x": null,
            "grid_auto_flow": null,
            "grid_area": null,
            "grid_template_columns": null,
            "flex": null,
            "_model_name": "LayoutModel",
            "justify_items": null,
            "grid_row": null,
            "max_height": null,
            "align_content": null,
            "visibility": null,
            "align_self": null,
            "height": null,
            "min_height": null,
            "padding": null,
            "grid_auto_rows": null,
            "grid_gap": null,
            "max_width": null,
            "order": null,
            "_view_module_version": "1.2.0",
            "grid_template_areas": null,
            "object_position": null,
            "object_fit": null,
            "grid_auto_columns": null,
            "margin": null,
            "display": null,
            "left": null
          }
        },
        "1d65a19f97f742099caa95485cbec183": {
          "model_module": "@jupyter-widgets/controls",
          "model_name": "FloatProgressModel",
          "state": {
            "_view_name": "ProgressView",
            "style": "IPY_MODEL_ec2dfc00d6f64561b6ab662ec20642ad",
            "_dom_classes": [],
            "description": "",
            "_model_name": "FloatProgressModel",
            "bar_style": "success",
            "max": 1,
            "_view_module": "@jupyter-widgets/controls",
            "_model_module_version": "1.5.0",
            "value": 1,
            "_view_count": null,
            "_view_module_version": "1.5.0",
            "orientation": "horizontal",
            "min": 0,
            "description_tooltip": null,
            "_model_module": "@jupyter-widgets/controls",
            "layout": "IPY_MODEL_3b657b06a16847769d616a76083cb584"
          }
        },
        "173adfe19cdb41949bba9745075caf07": {
          "model_module": "@jupyter-widgets/controls",
          "model_name": "HTMLModel",
          "state": {
            "_view_name": "HTMLView",
            "style": "IPY_MODEL_5a72867d471d4c628a3a6cca556d9f0a",
            "_dom_classes": [],
            "description": "",
            "_model_name": "HTMLModel",
            "placeholder": "​",
            "_view_module": "@jupyter-widgets/controls",
            "_model_module_version": "1.5.0",
            "value": " 8192/? [00:00&lt;00:00, 15991.59it/s]",
            "_view_count": null,
            "_view_module_version": "1.5.0",
            "description_tooltip": null,
            "_model_module": "@jupyter-widgets/controls",
            "layout": "IPY_MODEL_fa3ef967d680450d90d7e161bcfb24fb"
          }
        },
        "ec2dfc00d6f64561b6ab662ec20642ad": {
          "model_module": "@jupyter-widgets/controls",
          "model_name": "ProgressStyleModel",
          "state": {
            "_view_name": "StyleView",
            "_model_name": "ProgressStyleModel",
            "description_width": "initial",
            "_view_module": "@jupyter-widgets/base",
            "_model_module_version": "1.5.0",
            "_view_count": null,
            "_view_module_version": "1.2.0",
            "bar_color": null,
            "_model_module": "@jupyter-widgets/controls"
          }
        },
        "3b657b06a16847769d616a76083cb584": {
          "model_module": "@jupyter-widgets/base",
          "model_name": "LayoutModel",
          "state": {
            "_view_name": "LayoutView",
            "grid_template_rows": null,
            "right": null,
            "justify_content": null,
            "_view_module": "@jupyter-widgets/base",
            "overflow": null,
            "_model_module_version": "1.2.0",
            "_view_count": null,
            "flex_flow": null,
            "width": null,
            "min_width": null,
            "border": null,
            "align_items": null,
            "bottom": null,
            "_model_module": "@jupyter-widgets/base",
            "top": null,
            "grid_column": null,
            "overflow_y": null,
            "overflow_x": null,
            "grid_auto_flow": null,
            "grid_area": null,
            "grid_template_columns": null,
            "flex": null,
            "_model_name": "LayoutModel",
            "justify_items": null,
            "grid_row": null,
            "max_height": null,
            "align_content": null,
            "visibility": null,
            "align_self": null,
            "height": null,
            "min_height": null,
            "padding": null,
            "grid_auto_rows": null,
            "grid_gap": null,
            "max_width": null,
            "order": null,
            "_view_module_version": "1.2.0",
            "grid_template_areas": null,
            "object_position": null,
            "object_fit": null,
            "grid_auto_columns": null,
            "margin": null,
            "display": null,
            "left": null
          }
        },
        "5a72867d471d4c628a3a6cca556d9f0a": {
          "model_module": "@jupyter-widgets/controls",
          "model_name": "DescriptionStyleModel",
          "state": {
            "_view_name": "StyleView",
            "_model_name": "DescriptionStyleModel",
            "description_width": "",
            "_view_module": "@jupyter-widgets/base",
            "_model_module_version": "1.5.0",
            "_view_count": null,
            "_view_module_version": "1.2.0",
            "_model_module": "@jupyter-widgets/controls"
          }
        },
        "fa3ef967d680450d90d7e161bcfb24fb": {
          "model_module": "@jupyter-widgets/base",
          "model_name": "LayoutModel",
          "state": {
            "_view_name": "LayoutView",
            "grid_template_rows": null,
            "right": null,
            "justify_content": null,
            "_view_module": "@jupyter-widgets/base",
            "overflow": null,
            "_model_module_version": "1.2.0",
            "_view_count": null,
            "flex_flow": null,
            "width": null,
            "min_width": null,
            "border": null,
            "align_items": null,
            "bottom": null,
            "_model_module": "@jupyter-widgets/base",
            "top": null,
            "grid_column": null,
            "overflow_y": null,
            "overflow_x": null,
            "grid_auto_flow": null,
            "grid_area": null,
            "grid_template_columns": null,
            "flex": null,
            "_model_name": "LayoutModel",
            "justify_items": null,
            "grid_row": null,
            "max_height": null,
            "align_content": null,
            "visibility": null,
            "align_self": null,
            "height": null,
            "min_height": null,
            "padding": null,
            "grid_auto_rows": null,
            "grid_gap": null,
            "max_width": null,
            "order": null,
            "_view_module_version": "1.2.0",
            "grid_template_areas": null,
            "object_position": null,
            "object_fit": null,
            "grid_auto_columns": null,
            "margin": null,
            "display": null,
            "left": null
          }
        }
      }
    }
  },
  "cells": [
    {
      "cell_type": "code",
      "metadata": {
        "id": "cf15TTbI5Q0Q"
      },
      "source": [
        "import torch\n",
        "import torchvision\n",
        "import matplotlib.pyplot as plt\n",
        "import numpy as np"
      ],
      "execution_count": 1,
      "outputs": []
    },
    {
      "cell_type": "code",
      "metadata": {
        "id": "jW4MQ7dk5xAY",
        "colab": {
          "base_uri": "https://localhost:8080/",
          "height": 386,
          "referenced_widgets": [
            "9d269e1cf73b4a5cbe4c79547bec5cee",
            "aebc3d6182944a229b6bd479f51eaa09",
            "1d356cfa52904416bff99e9e7f13d9b3",
            "9a8244a83694487dae8b14d822e9470f",
            "79b3928bd86847ab99c8650707df6cb5",
            "49c1efdb97a84cd6aa023f4abdbb29dc",
            "82d27409c42c4f8ca730c19b9d28d452",
            "af625f93979b43d9ab9c3177e977556e",
            "692d44072baa43e48655aa28f51940c9",
            "e398281253e849578ec69d1323f78c31",
            "3953c12da4d74d1a9fc1be941b4de0a1",
            "b2d4049202c94f57bf96ee58d488c06b",
            "ae1c2140c30641e48f2ae97d1f8901a7",
            "f8b9ba114ea84306b6413ecf26bf52d9",
            "8ea18ae139084c0e91e3c1deb953eaa7",
            "b8a686b86f564a82a6191777c7b9fa33",
            "4c2329eec8154cce8f8ec87fa36ea64f",
            "474bba1b53164717af99bc53911c3825",
            "cdcecf4671d640c9a610ec7412cf7a48",
            "7dbf62c20e1145808733d02b3368673d",
            "eb1b098df68745f2895321a0f1ef2770",
            "c89fcc917dd64452a4941607de9a041b",
            "370f0c0a8ad24a838155ac1d6a141da4",
            "5327dcd917144f7499509e4517a81cdc",
            "d9d956694cc046178ab10dbde6a2d918",
            "9648ac6b0979481a8cb7aba717d6f04b",
            "1d65a19f97f742099caa95485cbec183",
            "173adfe19cdb41949bba9745075caf07",
            "ec2dfc00d6f64561b6ab662ec20642ad",
            "3b657b06a16847769d616a76083cb584",
            "5a72867d471d4c628a3a6cca556d9f0a",
            "fa3ef967d680450d90d7e161bcfb24fb"
          ]
        },
        "outputId": "92858b11-a6f4-4ca2-ed95-8f77ae3061e2"
      },
      "source": [
        "train_data = torchvision.datasets.MNIST('classifier_data', train=True, download=True)\n",
        "test_data  = torchvision.datasets.MNIST('classifier_data', train=False, download=True)"
      ],
      "execution_count": 2,
      "outputs": [
        {
          "output_type": "stream",
          "text": [
            "Downloading http://yann.lecun.com/exdb/mnist/train-images-idx3-ubyte.gz to classifier_data/MNIST/raw/train-images-idx3-ubyte.gz\n"
          ],
          "name": "stdout"
        },
        {
          "output_type": "display_data",
          "data": {
            "application/vnd.jupyter.widget-view+json": {
              "model_id": "9d269e1cf73b4a5cbe4c79547bec5cee",
              "version_minor": 0,
              "version_major": 2
            },
            "text/plain": [
              "HBox(children=(FloatProgress(value=1.0, bar_style='info', max=1.0), HTML(value='')))"
            ]
          },
          "metadata": {
            "tags": []
          }
        },
        {
          "output_type": "stream",
          "text": [
            "Extracting classifier_data/MNIST/raw/train-images-idx3-ubyte.gz to classifier_data/MNIST/raw\n",
            "Downloading http://yann.lecun.com/exdb/mnist/train-labels-idx1-ubyte.gz to classifier_data/MNIST/raw/train-labels-idx1-ubyte.gz\n"
          ],
          "name": "stdout"
        },
        {
          "output_type": "display_data",
          "data": {
            "application/vnd.jupyter.widget-view+json": {
              "model_id": "692d44072baa43e48655aa28f51940c9",
              "version_minor": 0,
              "version_major": 2
            },
            "text/plain": [
              "HBox(children=(FloatProgress(value=1.0, bar_style='info', max=1.0), HTML(value='')))"
            ]
          },
          "metadata": {
            "tags": []
          }
        },
        {
          "output_type": "stream",
          "text": [
            "Extracting classifier_data/MNIST/raw/train-labels-idx1-ubyte.gz to classifier_data/MNIST/raw\n",
            "Downloading http://yann.lecun.com/exdb/mnist/t10k-images-idx3-ubyte.gz to classifier_data/MNIST/raw/t10k-images-idx3-ubyte.gz\n",
            "\n"
          ],
          "name": "stdout"
        },
        {
          "output_type": "display_data",
          "data": {
            "application/vnd.jupyter.widget-view+json": {
              "model_id": "4c2329eec8154cce8f8ec87fa36ea64f",
              "version_minor": 0,
              "version_major": 2
            },
            "text/plain": [
              "HBox(children=(FloatProgress(value=1.0, bar_style='info', max=1.0), HTML(value='')))"
            ]
          },
          "metadata": {
            "tags": []
          }
        },
        {
          "output_type": "stream",
          "text": [
            "Extracting classifier_data/MNIST/raw/t10k-images-idx3-ubyte.gz to classifier_data/MNIST/raw\n",
            "Downloading http://yann.lecun.com/exdb/mnist/t10k-labels-idx1-ubyte.gz to classifier_data/MNIST/raw/t10k-labels-idx1-ubyte.gz\n"
          ],
          "name": "stdout"
        },
        {
          "output_type": "display_data",
          "data": {
            "application/vnd.jupyter.widget-view+json": {
              "model_id": "d9d956694cc046178ab10dbde6a2d918",
              "version_minor": 0,
              "version_major": 2
            },
            "text/plain": [
              "HBox(children=(FloatProgress(value=1.0, bar_style='info', max=1.0), HTML(value='')))"
            ]
          },
          "metadata": {
            "tags": []
          }
        },
        {
          "output_type": "stream",
          "text": [
            "Extracting classifier_data/MNIST/raw/t10k-labels-idx1-ubyte.gz to classifier_data/MNIST/raw\n",
            "Processing...\n",
            "Done!\n"
          ],
          "name": "stdout"
        },
        {
          "output_type": "stream",
          "text": [
            "/usr/local/lib/python3.6/dist-packages/torchvision/datasets/mnist.py:480: UserWarning: The given NumPy array is not writeable, and PyTorch does not support non-writeable tensors. This means you can write to the underlying (supposedly non-writeable) NumPy array using the tensor. You may want to copy the array to protect its data or make it writeable before converting it to a tensor. This type of warning will be suppressed for the rest of this program. (Triggered internally at  /pytorch/torch/csrc/utils/tensor_numpy.cpp:141.)\n",
            "  return torch.from_numpy(parsed.astype(m[2], copy=False)).view(*s)\n"
          ],
          "name": "stderr"
        }
      ]
    },
    {
      "cell_type": "code",
      "metadata": {
        "colab": {
          "base_uri": "https://localhost:8080/",
          "height": 568
        },
        "id": "XbZMhA2r51ZN",
        "outputId": "03d27833-a2e2-4459-fac4-28c1452df1b5"
      },
      "source": [
        "sample_index = 0\n",
        "image = train_data[sample_index][0]\n",
        "label = train_data[sample_index][1]\n",
        "\n",
        "fig = plt.figure(figsize=(8,8))\n",
        "plt.imshow(image, cmap='Greys')\n",
        "print(f\"SAMPLE AT INDEX {sample_index}\")\n",
        "print(f\"LABEL: {label}\")"
      ],
      "execution_count": 3,
      "outputs": [
        {
          "output_type": "stream",
          "text": [
            "\n",
            "SAMPLE AT INDEX 0\n",
            "LABEL: 5\n"
          ],
          "name": "stdout"
        },
        {
          "output_type": "display_data",
          "data": {
            "image/png": "[encoded data removed]",
            "text/plain": [
              "<Figure size 576x576 with 1 Axes>"
            ]
          },
          "metadata": {
            "tags": [],
            "needs_background": "light"
          }
        },
        {
          "output_type": "stream",
          "text": [
            "\n",
            "\n"
          ],
          "name": "stdout"
        }
      ]
    },
    {
      "cell_type": "code",
      "metadata": {
        "id": "Ghf2DbDN55Gm"
      },
      "source": [
        "import torch.nn as nn\n",
        "import torch.optim as optim\n",
        "from torch.utils.data import Dataset, DataLoader\n",
        "from torchvision import transforms\n",
        "from sklearn.model_selection import train_test_split"
      ],
      "execution_count": 4,
      "outputs": []
    },
    {
      "cell_type": "markdown",
      "metadata": {
        "id": "mMB7EhthlORB"
      },
      "source": [
        "**Useful functions definition**"
      ]
    },
    {
      "cell_type": "code",
      "metadata": {
        "id": "xJXfnaUclZQK"
      },
      "source": [
        "def calculate_accuracy(predictions, labels, sample_size):\n",
        "  return (predictions == labels).int().sum().item() / sample_size"
      ],
      "execution_count": 5,
      "outputs": []
    },
    {
      "cell_type": "code",
      "metadata": {
        "id": "MfrBXnYFlaDL"
      },
      "source": [
        "def get_prediction(output):\n",
        "  sig = nn.Sigmoid()\n",
        "  prediction = torch.argmax(sig(output), dim=1)\n",
        "  return prediction"
      ],
      "execution_count": 6,
      "outputs": []
    },
    {
      "cell_type": "code",
      "metadata": {
        "id": "QoPeqP3mlNHp"
      },
      "source": [
        "def train_model(net, loss_function, optimizer, num_epochs, train_dataloader, val_dataloader, verbose=True):\n",
        "  print(net)\n",
        "  train_accuracy_log = []\n",
        "  val_accuracy_log = []\n",
        "  train_loss_log = []\n",
        "  val_loss_log = []\n",
        "  for epoch_num in range(num_epochs):\n",
        "    if verbose:\n",
        "      print('#################')\n",
        "      print(f'# EPOCH {epoch_num}')\n",
        "      print('#################')\n",
        "\n",
        "    ### TRAIN\n",
        "    train_pred = []\n",
        "    train_loss = []\n",
        "    \n",
        "    net.train() # Training mode (e.g. enable dropout)\n",
        "    for sample_batched in train_dataloader:\n",
        "      # Move data to device\n",
        "      x_train = sample_batched[0].to(device)\n",
        "      labels_train = sample_batched[1].to(device)\n",
        "      #print(x_train.shape)\n",
        "      # Forward pass\n",
        "      out = net(x_train)\n",
        "      # Compute loss\n",
        "      loss = loss_function(out, labels_train)\n",
        "\n",
        "      # Backpropagation\n",
        "      net.zero_grad()\n",
        "      loss.backward()\n",
        "\n",
        "      # Update the weights\n",
        "      optimizer.step()\n",
        "\n",
        "      #Compute predictions\n",
        "      predictions = get_prediction(out)\n",
        "      train_predicted = calculate_accuracy(predictions, labels_train, x_train.shape[0])\n",
        "\n",
        "      # Save train loss for this batch\n",
        "      train_pred.append(train_predicted)\n",
        "      loss_batch = loss.detach().cpu().numpy()\n",
        "      train_loss.append(loss_batch)\n",
        "\n",
        "    # Save average train loss\n",
        "    train_pred = np.mean(train_pred)\n",
        "    train_loss = np.mean(train_loss)\n",
        "    if verbose:\n",
        "      print(f\"AVERAGE TRAIN ACCURACY: {train_pred * 100}%\")\n",
        "      print(f\"AVERAGE TRAIN LOSS: {train_loss}\")\n",
        "    train_accuracy_log.append(train_pred)\n",
        "    train_loss_log.append(train_loss)\n",
        "\n",
        "    if val_dataloader != None:\n",
        "      ### VALIDATION\n",
        "      val_pred = []\n",
        "      val_loss = []\n",
        "      net.eval() # Evaluation mode (e.g. disable dropout)\n",
        "      with torch.no_grad(): # Disable gradient tracking\n",
        "        for sample_batched in val_dataloader: #should be validation dataloader\n",
        "          # Move data to device\n",
        "          x_val = sample_batched[0].to(device)\n",
        "          labels_val = sample_batched[1].to(device)\n",
        "\n",
        "          # Forward pass\n",
        "          output = net(x_val)\n",
        "\n",
        "          loss = loss_function(output, labels_val)\n",
        "          \n",
        "          #Compute predictions\n",
        "          prediction = get_prediction(output)\n",
        "          val_predicted = calculate_accuracy(prediction, labels_val, x_val.shape[0])\n",
        "\n",
        "          # Save val loss for this batch\n",
        "          val_pred.append(val_predicted)\n",
        "          loss_batch = loss.detach().cpu().numpy()\n",
        "          val_loss.append(loss_batch)\n",
        "\n",
        "\n",
        "        # Save average validation loss\n",
        "        val_pred = np.mean(val_pred)\n",
        "        val_loss = np.mean(val_loss)\n",
        "        if verbose:\n",
        "          print(f\"AVERAGE VAL ACCURACY: {val_pred * 100}%\")\n",
        "          print(f\"AVERAGE VAL LOSS: {val_loss}\")\n",
        "        val_accuracy_log.append(val_pred)\n",
        "        val_loss_log.append(val_loss)\n",
        "  if val_dataloader != None:\n",
        "    print(f\"Model's validation accuracy: {val_accuracy_log[-1]}\")\n",
        "    print(f\"Model's validation loss: {val_loss_log[-1]}\")\n",
        "  return train_accuracy_log, val_accuracy_log, train_loss_log, val_loss_log"
      ],
      "execution_count": 7,
      "outputs": []
    },
    {
      "cell_type": "code",
      "metadata": {
        "id": "tUOFxD6jmgqq"
      },
      "source": [
        "def plot_confusion_matrix(predictions, labels, target_names, normalize=False):\n",
        "\n",
        "  '''\n",
        "  ============================\n",
        "  Internal function definition\n",
        "  ============================\n",
        "  '''\n",
        "  def _confusion_matrix(cm,\n",
        "                            target_names,\n",
        "                            title='Confusion matrix',\n",
        "                            cmap=None,\n",
        "                            normalize=False):\n",
        "      import itertools\n",
        "\n",
        "      accuracy = np.trace(cm) / float(np.sum(cm))\n",
        "      misclass = 1 - accuracy\n",
        "\n",
        "      if cmap is None:\n",
        "          cmap = plt.get_cmap('Blues')\n",
        "\n",
        "      plt.figure(figsize=(8, 6))\n",
        "      plt.imshow(cm, interpolation='nearest', cmap=cmap)\n",
        "      plt.title(title)\n",
        "      plt.colorbar()\n",
        "\n",
        "      if target_names is not None:\n",
        "          tick_marks = np.arange(len(target_names))\n",
        "          plt.xticks(tick_marks, target_names, rotation=45)\n",
        "          plt.yticks(tick_marks, target_names)\n",
        "\n",
        "      if normalize:\n",
        "          cm = cm.astype('float') / cm.sum(axis=1)[:, np.newaxis]\n",
        "\n",
        "\n",
        "      thresh = cm.max() / 1.5 if normalize else cm.max() / 2\n",
        "      for i, j in itertools.product(range(cm.shape[0]), range(cm.shape[1])):\n",
        "          if normalize:\n",
        "              plt.text(j, i, \"{:0.4f}\".format(cm[i, j]),\n",
        "                      horizontalalignment=\"center\",\n",
        "                      color=\"white\" if cm[i, j] > thresh else \"black\")\n",
        "          else:\n",
        "              plt.text(j, i, \"{:,}\".format(cm[i, j]),\n",
        "                      horizontalalignment=\"center\",\n",
        "                      color=\"white\" if cm[i, j] > thresh else \"black\")\n",
        "\n",
        "\n",
        "      plt.tight_layout()\n",
        "      plt.ylabel('True label')\n",
        "      plt.xlabel('Predicted label\\naccuracy={:0.4f}; misclass={:0.4f}'.format(accuracy, misclass))\n",
        "      plt.show()\n",
        "  '''\n",
        "  ===================================\n",
        "  End of internal function definition\n",
        "  ===================================\n",
        "  '''\n",
        "\n",
        "  from sklearn.metrics import confusion_matrix\n",
        "\n",
        "  conf_mat = confusion_matrix(predictions, labels)\n",
        "  _confusion_matrix(conf_mat, target_names=target_names, normalize=normalize)"
      ],
      "execution_count": 8,
      "outputs": []
    },
    {
      "cell_type": "markdown",
      "metadata": {
        "id": "gzXpHLrIlTk5"
      },
      "source": [
        "**Image dataset defintion**"
      ]
    },
    {
      "cell_type": "code",
      "metadata": {
        "id": "yY4VVc7t6FW2"
      },
      "source": [
        "class ImageDataset(Dataset):\n",
        "\n",
        "  def __init__(self, dataset, transform=None):\n",
        "    \"\"\"\n",
        "    Args:\n",
        "        csv_file (string): Path to the csv file.\n",
        "        transform (callable, optional): Optional transform to be applied\n",
        "            on a sample.\n",
        "    \"\"\"\n",
        "    self.transform = transform\n",
        "\n",
        "    # Get x and y values from each line and append to self.data\n",
        "\n",
        "    self.data = []\n",
        "    to_tensor = torchvision.transforms.ToTensor()\n",
        "    for d in dataset:\n",
        "      image = d[0]\n",
        "      label = d[1]\n",
        "      image = to_tensor(image)\n",
        "      label = torch.tensor(label).long()\n",
        "      self.data.append((image, label))\n",
        "\n",
        "    # Now self.data contains all our dataset.\n",
        "    # Each element of the list self.data is a tuple: (input, output)\n",
        "\n",
        "  def __len__(self):\n",
        "    return len(self.data)\n",
        "\n",
        "  def __getitem__(self, idx):\n",
        "    \n",
        "    sample = self.data[idx]\n",
        "    if self.transform:\n",
        "      sample = self.transform(sample)\n",
        "    return sample"
      ],
      "execution_count": 9,
      "outputs": []
    },
    {
      "cell_type": "code",
      "metadata": {
        "id": "miJUzNH_j5xa"
      },
      "source": [
        "class ImageToVector():\n",
        "\n",
        "  def __call__(self, sample):\n",
        "    image = sample[0]\n",
        "    image = torch.reshape(image, (-1,))\n",
        "    return (image, sample[1])"
      ],
      "execution_count": 10,
      "outputs": []
    },
    {
      "cell_type": "markdown",
      "metadata": {
        "id": "DbfKP1JrppbK"
      },
      "source": [
        "**Device Initialization**"
      ]
    },
    {
      "cell_type": "code",
      "metadata": {
        "colab": {
          "base_uri": "https://localhost:8080/"
        },
        "id": "Yb8JyivYppFz",
        "outputId": "837a0811-2db8-48a9-b649-bbd26f11c57f"
      },
      "source": [
        "device = torch.device(\"cuda\") if torch.cuda.is_available() else torch.device(\"cpu\")\n",
        "print(f\"Training device: {device}\")"
      ],
      "execution_count": 11,
      "outputs": [
        {
          "output_type": "stream",
          "text": [
            "Training device: cuda\n"
          ],
          "name": "stdout"
        }
      ]
    },
    {
      "cell_type": "markdown",
      "metadata": {
        "id": "Gdb-OW2xklgb"
      },
      "source": [
        "# **Feed Forward Network**"
      ]
    },
    {
      "cell_type": "markdown",
      "metadata": {
        "id": "8OwyZVt1ksTK"
      },
      "source": [
        "**Forward net data definition**"
      ]
    },
    {
      "cell_type": "code",
      "metadata": {
        "id": "JdiLOhL5jy_L"
      },
      "source": [
        "torch.manual_seed(0)\n",
        "composed_transform = transforms.Compose([ImageToVector()])\n",
        "\n",
        "from sklearn.model_selection import StratifiedShuffleSplit\n",
        "\n",
        "split = StratifiedShuffleSplit(n_splits=1, test_size=0.2, random_state=0)\n",
        "\n",
        "train_size = int(len(train_data) * 0.8) #Train-validation 80-20 \n",
        "\n",
        "train_idxs = range(0, train_size)\n",
        "val_idxs = range(train_size, len(train_data))\n",
        "\n",
        "full_dataset = ImageDataset(train_data, transform=composed_transform) #Dataset withouth validation set extracted\n",
        "train_dataset = torch.utils.data.Subset(full_dataset, train_idxs) #Train dataset\n",
        "validation_dataset = torch.utils.data.Subset(full_dataset, val_idxs) #Validation Dataset\n",
        "test_dataset = ImageDataset(test_data, transform=composed_transform) #Test Dataset"
      ],
      "execution_count": 12,
      "outputs": []
    },
    {
      "cell_type": "code",
      "metadata": {
        "id": "YxhVxwJNj2Va"
      },
      "source": [
        "batch_size = 100\n",
        "test_batch = len(test_dataset)\n",
        "full_dataloader = DataLoader(full_dataset, batch_size=batch_size, shuffle=True, num_workers=0)\n",
        "train_dataloader = DataLoader(train_dataset, batch_size=batch_size, shuffle=True, num_workers=0)\n",
        "val_dataloader = DataLoader(validation_dataset, batch_size=len(validation_dataset), shuffle=True, num_workers=0)\n",
        "test_dataloader = DataLoader(test_dataset, batch_size=test_batch, shuffle=False, num_workers=0)"
      ],
      "execution_count": 13,
      "outputs": []
    },
    {
      "cell_type": "markdown",
      "metadata": {
        "id": "iLKUlx5iopBa"
      },
      "source": [
        "**MODEL DEFINITION**\n"
      ]
    },
    {
      "cell_type": "code",
      "metadata": {
        "id": "nc_dX1-ropbh"
      },
      "source": [
        "class ForwardNet(nn.Module):\n",
        "  def __init__(self, drop = 0.5):\n",
        "    super().__init__()\n",
        "    \n",
        "    self.fc1 = nn.Linear(784, 256)\n",
        "    self.fc2 = nn.Linear(256, 512)\n",
        "    self.fc3 = nn.Linear(512, 256)\n",
        "    self.out = nn.Linear(256, 10)\n",
        "\n",
        "    self.act = nn.ReLU()\n",
        "    self.drop = nn.Dropout(p = drop)\n",
        "    \n",
        "    print('Network Initialized')\n",
        "\n",
        "  def forward(self, x):\n",
        "    x = self.act(self.fc1(x))\n",
        "    x = self.drop(x)\n",
        "    x = self.act(self.fc2(x))\n",
        "    x = self.drop(x)\n",
        "    x = self.act(self.fc3(x))\n",
        "    x = self.drop(x)\n",
        "    x = self.act(self.out(x))\n",
        "    return x"
      ],
      "execution_count": 14,
      "outputs": []
    },
    {
      "cell_type": "code",
      "metadata": {
        "colab": {
          "base_uri": "https://localhost:8080/"
        },
        "id": "nUm4AckoxWpC",
        "outputId": "41610ae5-af56-4a17-c248-c9df9c7bd449"
      },
      "source": [
        "torch.manual_seed(0)"
      ],
      "execution_count": 15,
      "outputs": [
        {
          "output_type": "execute_result",
          "data": {
            "text/plain": [
              "<torch._C.Generator at 0x7f67094bcb58>"
            ]
          },
          "metadata": {
            "tags": []
          },
          "execution_count": 15
        }
      ]
    },
    {
      "cell_type": "code",
      "metadata": {
        "id": "aVVycgeDrt5w"
      },
      "source": [
        "def gridSearch(lrs, epochs, dropouts, train_dataloader, val_dataloader, chooseByAccuracy = False, verbose = True):\n",
        "  bestRes = None\n",
        "  bestEp = None\n",
        "  bestLr = None\n",
        "  bestDrop = None\n",
        "  totIter = len(lrs) * len(epochs) * len(dropouts)\n",
        "  print(\"\\n\\nTOTAL ITERATIONS: %d\\n\\n\" %(totIter))\n",
        "  currentIteration = 1\n",
        "  for ep in epochs:\n",
        "    for lr in lrs:\n",
        "      for drop in dropouts:\n",
        "        print(\"Iteration %d/%d\\n\\n\" %(currentIteration, totIter))\n",
        "        currentIteration += 1\n",
        "        net = ForwardNet(drop)\n",
        "        net = net.to(device)\n",
        "        loss_function = nn.CrossEntropyLoss()\n",
        "        optimizer = optim.Adam(net.parameters(), lr=lr)\n",
        "        print(\"Training with lr: %f epochs: %d dropout: %f\" %(lr, ep, drop))\n",
        "        train_accuracy_log, val_accuracy_log, train_loss_log, val_loss_log = train_model(net, loss_function, optimizer, ep, train_dataloader, val_dataloader, verbose)\n",
        "        if chooseByAccuracy:\n",
        "          meanAcc = np.mean(val_accuracy_log)\n",
        "          if bestRes == None or meanAcc > bestRes:\n",
        "            bestRes = meanAcc\n",
        "            bestEp = ep\n",
        "            bestLr = lr\n",
        "            bestDrop = drop\n",
        "            print(\"BEST VAL ACCURACY %f\\n\\n\" %(bestRes))\n",
        "        else:\n",
        "          meanLoss = np.mean(train_loss_log)\n",
        "          if bestRes == None or meanLoss < bestRes:\n",
        "            bestRes = meanLoss\n",
        "            bestEp = ep\n",
        "            bestLr = lr\n",
        "            bestDrop = drop\n",
        "            print(\"BEST VAL LOSS %f\\n\\n\" %(np.mean(val_accuracy_log)))\n",
        "  return bestLr, bestEp, bestDrop"
      ],
      "execution_count": 16,
      "outputs": []
    },
    {
      "cell_type": "code",
      "metadata": {
        "colab": {
          "base_uri": "https://localhost:8080/"
        },
        "id": "gHmYrvF9yJeV",
        "outputId": "8c32c9cf-3082-4dc8-ef11-3ea028c83d59"
      },
      "source": [
        "lrs = [0.001, 0.005]\n",
        "epochs = [20, 30]\n",
        "dropouts = [0.3, 0.5]\n",
        "bestLr, bestEp, bestDrop = gridSearch(lrs, epochs, dropouts, train_dataloader, val_dataloader, chooseByAccuracy = True, verbose=False)"
      ],
      "execution_count": 17,
      "outputs": [
        {
          "output_type": "stream",
          "text": [
            "\n",
            "\n",
            "TOTAL ITERATIONS: 8\n",
            "\n",
            "\n",
            "Iteration 1/8\n",
            "\n",
            "\n",
            "Network Initialized\n",
            "Training with lr: 0.001000 epochs: 20 dropout: 0.300000\n",
            "ForwardNet(\n",
            "  (fc1): Linear(in_features=784, out_features=256, bias=True)\n",
            "  (fc2): Linear(in_features=256, out_features=512, bias=True)\n",
            "  (fc3): Linear(in_features=512, out_features=256, bias=True)\n",
            "  (out): Linear(in_features=256, out_features=10, bias=True)\n",
            "  (act): ReLU()\n",
            "  (drop): Dropout(p=0.3, inplace=False)\n",
            ")\n",
            "Model's validation accuracy: 0.4841666666666667\n",
            "Model's validation loss: 1.2233121395111084\n",
            "[0.4755, 0.47925, 0.48041666666666666, 0.4810833333333333, 0.48141666666666666, 0.47925, 0.48141666666666666, 0.48141666666666666, 0.4811666666666667, 0.48383333333333334, 0.48325, 0.4826666666666667, 0.48325, 0.4831666666666667, 0.4826666666666667, 0.4831666666666667, 0.48133333333333334, 0.48133333333333334, 0.4836666666666667, 0.4841666666666667]\n",
            "BEST VAL ACCURACY 0.481671\n",
            "\n",
            "\n",
            "Iteration 2/8\n",
            "\n",
            "\n",
            "Network Initialized\n",
            "Training with lr: 0.001000 epochs: 20 dropout: 0.500000\n",
            "ForwardNet(\n",
            "  (fc1): Linear(in_features=784, out_features=256, bias=True)\n",
            "  (fc2): Linear(in_features=256, out_features=512, bias=True)\n",
            "  (fc3): Linear(in_features=512, out_features=256, bias=True)\n",
            "  (out): Linear(in_features=256, out_features=10, bias=True)\n",
            "  (act): ReLU()\n",
            "  (drop): Dropout(p=0.5, inplace=False)\n",
            ")\n",
            "Model's validation accuracy: 0.8769166666666667\n",
            "Model's validation loss: 0.30594420433044434\n",
            "[0.8610833333333333, 0.8696666666666667, 0.873, 0.8736666666666667, 0.8761666666666666, 0.8781666666666667, 0.8766666666666667, 0.8755, 0.8734166666666666, 0.8771666666666667, 0.878, 0.8765833333333334, 0.8679166666666667, 0.8724166666666666, 0.8765, 0.8685, 0.8718333333333333, 0.8704166666666666, 0.8725, 0.8769166666666667]\n",
            "BEST VAL ACCURACY 0.873304\n",
            "\n",
            "\n",
            "Iteration 3/8\n",
            "\n",
            "\n",
            "Network Initialized\n",
            "Training with lr: 0.005000 epochs: 20 dropout: 0.300000\n",
            "ForwardNet(\n",
            "  (fc1): Linear(in_features=784, out_features=256, bias=True)\n",
            "  (fc2): Linear(in_features=256, out_features=512, bias=True)\n",
            "  (fc3): Linear(in_features=512, out_features=256, bias=True)\n",
            "  (out): Linear(in_features=256, out_features=10, bias=True)\n",
            "  (act): ReLU()\n",
            "  (drop): Dropout(p=0.3, inplace=False)\n",
            ")\n",
            "Model's validation accuracy: 0.3005\n",
            "Model's validation loss: 1.660006046295166\n",
            "[0.3005, 0.2976666666666667, 0.29625, 0.301, 0.2995, 0.2995, 0.3015833333333333, 0.30033333333333334, 0.2990833333333333, 0.30183333333333334, 0.29883333333333334, 0.30083333333333334, 0.30125, 0.29941666666666666, 0.3006666666666667, 0.3010833333333333, 0.30175, 0.3015833333333333, 0.3005833333333333, 0.3005]\n",
            "Iteration 4/8\n",
            "\n",
            "\n",
            "Network Initialized\n",
            "Training with lr: 0.005000 epochs: 20 dropout: 0.500000\n",
            "ForwardNet(\n",
            "  (fc1): Linear(in_features=784, out_features=256, bias=True)\n",
            "  (fc2): Linear(in_features=256, out_features=512, bias=True)\n",
            "  (fc3): Linear(in_features=512, out_features=256, bias=True)\n",
            "  (out): Linear(in_features=256, out_features=10, bias=True)\n",
            "  (act): ReLU()\n",
            "  (drop): Dropout(p=0.5, inplace=False)\n",
            ")\n",
            "Model's validation accuracy: 0.9611666666666666\n",
            "Model's validation loss: 0.19793355464935303\n",
            "[0.9390833333333334, 0.9515833333333333, 0.95325, 0.9543333333333334, 0.9534166666666667, 0.95875, 0.9605833333333333, 0.9591666666666666, 0.9585, 0.95825, 0.9614166666666667, 0.96025, 0.9621666666666666, 0.9600833333333333, 0.96025, 0.9604166666666667, 0.9605833333333333, 0.9625, 0.9619166666666666, 0.9611666666666666]\n",
            "BEST VAL ACCURACY 0.957883\n",
            "\n",
            "\n",
            "Iteration 5/8\n",
            "\n",
            "\n",
            "Network Initialized\n",
            "Training with lr: 0.001000 epochs: 30 dropout: 0.300000\n",
            "ForwardNet(\n",
            "  (fc1): Linear(in_features=784, out_features=256, bias=True)\n",
            "  (fc2): Linear(in_features=256, out_features=512, bias=True)\n",
            "  (fc3): Linear(in_features=512, out_features=256, bias=True)\n",
            "  (out): Linear(in_features=256, out_features=10, bias=True)\n",
            "  (act): ReLU()\n",
            "  (drop): Dropout(p=0.3, inplace=False)\n",
            ")\n",
            "Model's validation accuracy: 0.9496666666666667\n",
            "Model's validation loss: 0.08335188776254654\n",
            "[0.86375, 0.96525, 0.973, 0.9759166666666667, 0.9731666666666666, 0.9756666666666667, 0.9765833333333334, 0.9755833333333334, 0.9784166666666667, 0.9781666666666666, 0.9760833333333333, 0.9770833333333333, 0.974, 0.9678333333333333, 0.9693333333333334, 0.976, 0.9676666666666667, 0.9596666666666667, 0.9756666666666667, 0.9624166666666667, 0.9621666666666666, 0.9591666666666666, 0.9570833333333333, 0.96325, 0.9771666666666666, 0.976, 0.97325, 0.9685, 0.9701666666666666, 0.9496666666666667]\n",
            "BEST VAL ACCURACY 0.966589\n",
            "\n",
            "\n",
            "Iteration 6/8\n",
            "\n",
            "\n",
            "Network Initialized\n",
            "Training with lr: 0.001000 epochs: 30 dropout: 0.500000\n",
            "ForwardNet(\n",
            "  (fc1): Linear(in_features=784, out_features=256, bias=True)\n",
            "  (fc2): Linear(in_features=256, out_features=512, bias=True)\n",
            "  (fc3): Linear(in_features=512, out_features=256, bias=True)\n",
            "  (out): Linear(in_features=256, out_features=10, bias=True)\n",
            "  (act): ReLU()\n",
            "  (drop): Dropout(p=0.5, inplace=False)\n",
            ")\n",
            "Model's validation accuracy: 0.9703333333333334\n",
            "Model's validation loss: 0.0780714899301529\n",
            "[0.94875, 0.9595833333333333, 0.9645, 0.9676666666666667, 0.971, 0.9738333333333333, 0.9731666666666666, 0.9741666666666666, 0.9751666666666666, 0.97825, 0.9743333333333334, 0.9743333333333334, 0.97325, 0.972, 0.9708333333333333, 0.9533333333333334, 0.9728333333333333, 0.977, 0.9745, 0.9750833333333333, 0.9761666666666666, 0.9755833333333334, 0.96875, 0.97725, 0.9770833333333333, 0.9756666666666667, 0.9591666666666666, 0.9571666666666667, 0.9763333333333334, 0.9703333333333334]\n",
            "BEST VAL ACCURACY 0.970569\n",
            "\n",
            "\n",
            "Iteration 7/8\n",
            "\n",
            "\n",
            "Network Initialized\n",
            "Training with lr: 0.005000 epochs: 30 dropout: 0.300000\n",
            "ForwardNet(\n",
            "  (fc1): Linear(in_features=784, out_features=256, bias=True)\n",
            "  (fc2): Linear(in_features=256, out_features=512, bias=True)\n",
            "  (fc3): Linear(in_features=512, out_features=256, bias=True)\n",
            "  (out): Linear(in_features=256, out_features=10, bias=True)\n",
            "  (act): ReLU()\n",
            "  (drop): Dropout(p=0.3, inplace=False)\n",
            ")\n",
            "Model's validation accuracy: 0.8705833333333334\n",
            "Model's validation loss: 0.4020031690597534\n",
            "[0.6814166666666667, 0.6888333333333333, 0.691, 0.6898333333333333, 0.69, 0.7835, 0.8629166666666667, 0.8481666666666666, 0.8616666666666667, 0.8715833333333334, 0.8734166666666666, 0.86825, 0.8695, 0.8710833333333333, 0.8715833333333334, 0.8725, 0.8733333333333333, 0.871, 0.8695833333333334, 0.8715833333333334, 0.8726666666666667, 0.87225, 0.8729166666666667, 0.8736666666666667, 0.8713333333333333, 0.8731666666666666, 0.8734166666666666, 0.8719166666666667, 0.8711666666666666, 0.8705833333333334]\n",
            "Iteration 8/8\n",
            "\n",
            "\n",
            "Network Initialized\n",
            "Training with lr: 0.005000 epochs: 30 dropout: 0.500000\n",
            "ForwardNet(\n",
            "  (fc1): Linear(in_features=784, out_features=256, bias=True)\n",
            "  (fc2): Linear(in_features=256, out_features=512, bias=True)\n",
            "  (fc3): Linear(in_features=512, out_features=256, bias=True)\n",
            "  (out): Linear(in_features=256, out_features=10, bias=True)\n",
            "  (act): ReLU()\n",
            "  (drop): Dropout(p=0.5, inplace=False)\n",
            ")\n",
            "Model's validation accuracy: 0.86675\n",
            "Model's validation loss: 0.413780152797699\n",
            "[0.8506666666666667, 0.8591666666666666, 0.8629166666666667, 0.8638333333333333, 0.8673333333333333, 0.86425, 0.86575, 0.86525, 0.8664166666666666, 0.8664166666666666, 0.86375, 0.868, 0.8655, 0.8686666666666667, 0.866, 0.8678333333333333, 0.8663333333333333, 0.8675, 0.867, 0.86825, 0.8686666666666667, 0.8685833333333334, 0.8675833333333334, 0.8634166666666667, 0.86375, 0.8640833333333333, 0.8690833333333333, 0.866, 0.8653333333333333, 0.86675]\n"
          ],
          "name": "stdout"
        }
      ]
    },
    {
      "cell_type": "code",
      "metadata": {
        "colab": {
          "base_uri": "https://localhost:8080/"
        },
        "id": "iokTbaLYzR4c",
        "outputId": "9d3a2060-5110-4450-a4b8-b6ebba94e909"
      },
      "source": [
        "print(\"Best parameter found lr: %f epochs: %d dropout: %f\" %(bestLr, bestEp, bestDrop))"
      ],
      "execution_count": 18,
      "outputs": [
        {
          "output_type": "stream",
          "text": [
            "Best parameter found lr: 0.001000 epochs: 30 dropout: 0.500000\n"
          ],
          "name": "stdout"
        }
      ]
    },
    {
      "cell_type": "markdown",
      "metadata": {
        "id": "nPfT9lkKowh7"
      },
      "source": [
        "**Model initialization**"
      ]
    },
    {
      "cell_type": "code",
      "metadata": {
        "colab": {
          "base_uri": "https://localhost:8080/"
        },
        "id": "5ybHhlsvowGp",
        "outputId": "457431ff-e556-4dad-9c22-5ec200e718c5"
      },
      "source": [
        "torch.manual_seed(0)\n",
        "net = ForwardNet(bestDrop)\n",
        "net = net.to(device)"
      ],
      "execution_count": 35,
      "outputs": [
        {
          "output_type": "stream",
          "text": [
            "Network Initialized\n"
          ],
          "name": "stdout"
        }
      ]
    },
    {
      "cell_type": "markdown",
      "metadata": {
        "id": "JpwApGEjo2U0"
      },
      "source": [
        "**Loss definition**"
      ]
    },
    {
      "cell_type": "code",
      "metadata": {
        "id": "nVgD3RDTo1la"
      },
      "source": [
        "loss_function = nn.CrossEntropyLoss()"
      ],
      "execution_count": 36,
      "outputs": []
    },
    {
      "cell_type": "markdown",
      "metadata": {
        "id": "NzHIDuHio8vK"
      },
      "source": [
        "**Optimizer definition**"
      ]
    },
    {
      "cell_type": "code",
      "metadata": {
        "id": "rUcJim-Oo_NC"
      },
      "source": [
        "optimizer = optim.Adam(net.parameters(), lr=bestLr)"
      ],
      "execution_count": 37,
      "outputs": []
    },
    {
      "cell_type": "markdown",
      "metadata": {
        "id": "xTH0dPsEpDaj"
      },
      "source": [
        "**Training Loop**"
      ]
    },
    {
      "cell_type": "code",
      "metadata": {
        "colab": {
          "base_uri": "https://localhost:8080/"
        },
        "id": "VLr84Wu_pGZi",
        "outputId": "c3015ec9-a557-43c4-8191-ef7fbdfa78f8"
      },
      "source": [
        "epochs = bestEp\n",
        "train_accuracy_log, val_accuracy_log, train_loss_log, val_loss_log = train_model(net, loss_function, optimizer, epochs, train_dataloader, val_dataloader, True)"
      ],
      "execution_count": 38,
      "outputs": [
        {
          "output_type": "stream",
          "text": [
            "ForwardNet(\n",
            "  (fc1): Linear(in_features=784, out_features=256, bias=True)\n",
            "  (fc2): Linear(in_features=256, out_features=512, bias=True)\n",
            "  (fc3): Linear(in_features=512, out_features=256, bias=True)\n",
            "  (out): Linear(in_features=256, out_features=10, bias=True)\n",
            "  (act): ReLU()\n",
            "  (drop): Dropout(p=0.5, inplace=False)\n",
            ")\n",
            "#################\n",
            "# EPOCH 0\n",
            "#################\n",
            "AVERAGE TRAIN ACCURACY: 73.46666666666667%\n",
            "AVERAGE TRAIN LOSS: 0.77044677734375\n",
            "AVERAGE VAL ACCURACY: 84.08333333333333%\n",
            "AVERAGE VAL LOSS: 0.4304423928260803\n",
            "#################\n",
            "# EPOCH 1\n",
            "#################\n",
            "AVERAGE TRAIN ACCURACY: 88.69375000000001%\n",
            "AVERAGE TRAIN LOSS: 0.34575164318084717\n",
            "AVERAGE VAL ACCURACY: 96.43333333333334%\n",
            "AVERAGE VAL LOSS: 0.12504272162914276\n",
            "#################\n",
            "# EPOCH 2\n",
            "#################\n",
            "AVERAGE TRAIN ACCURACY: 94.14791666666666%\n",
            "AVERAGE TRAIN LOSS: 0.20052233338356018\n",
            "AVERAGE VAL ACCURACY: 96.65%\n",
            "AVERAGE VAL LOSS: 0.11640538275241852\n",
            "#################\n",
            "# EPOCH 3\n",
            "#################\n",
            "AVERAGE TRAIN ACCURACY: 94.73333333333332%\n",
            "AVERAGE TRAIN LOSS: 0.17209021747112274\n",
            "AVERAGE VAL ACCURACY: 96.825%\n",
            "AVERAGE VAL LOSS: 0.1067049652338028\n",
            "#################\n",
            "# EPOCH 4\n",
            "#################\n",
            "AVERAGE TRAIN ACCURACY: 94.79583333333333%\n",
            "AVERAGE TRAIN LOSS: 0.15735140442848206\n",
            "AVERAGE VAL ACCURACY: 97.03333333333333%\n",
            "AVERAGE VAL LOSS: 0.10117276757955551\n",
            "#################\n",
            "# EPOCH 5\n",
            "#################\n",
            "AVERAGE TRAIN ACCURACY: 94.79166666666666%\n",
            "AVERAGE TRAIN LOSS: 0.14475947618484497\n",
            "AVERAGE VAL ACCURACY: 97.0%\n",
            "AVERAGE VAL LOSS: 0.10035872459411621\n",
            "#################\n",
            "# EPOCH 6\n",
            "#################\n",
            "AVERAGE TRAIN ACCURACY: 94.59791666666668%\n",
            "AVERAGE TRAIN LOSS: 0.13158752024173737\n",
            "AVERAGE VAL ACCURACY: 97.29166666666667%\n",
            "AVERAGE VAL LOSS: 0.09321775287389755\n",
            "#################\n",
            "# EPOCH 7\n",
            "#################\n",
            "AVERAGE TRAIN ACCURACY: 93.79791666666667%\n",
            "AVERAGE TRAIN LOSS: 0.12450989335775375\n",
            "AVERAGE VAL ACCURACY: 97.32499999999999%\n",
            "AVERAGE VAL LOSS: 0.09497126936912537\n",
            "#################\n",
            "# EPOCH 8\n",
            "#################\n",
            "AVERAGE TRAIN ACCURACY: 93.79374999999999%\n",
            "AVERAGE TRAIN LOSS: 0.11869914829730988\n",
            "AVERAGE VAL ACCURACY: 97.19166666666666%\n",
            "AVERAGE VAL LOSS: 0.08635753393173218\n",
            "#################\n",
            "# EPOCH 9\n",
            "#################\n",
            "AVERAGE TRAIN ACCURACY: 93.40416666666667%\n",
            "AVERAGE TRAIN LOSS: 0.11212627589702606\n",
            "AVERAGE VAL ACCURACY: 97.375%\n",
            "AVERAGE VAL LOSS: 0.0870482474565506\n",
            "#################\n",
            "# EPOCH 10\n",
            "#################\n",
            "AVERAGE TRAIN ACCURACY: 92.68333333333332%\n",
            "AVERAGE TRAIN LOSS: 0.11207820475101471\n",
            "AVERAGE VAL ACCURACY: 97.225%\n",
            "AVERAGE VAL LOSS: 0.09160516411066055\n",
            "#################\n",
            "# EPOCH 11\n",
            "#################\n",
            "AVERAGE TRAIN ACCURACY: 92.3%\n",
            "AVERAGE TRAIN LOSS: 0.10345573723316193\n",
            "AVERAGE VAL ACCURACY: 97.1%\n",
            "AVERAGE VAL LOSS: 0.08450312912464142\n",
            "#################\n",
            "# EPOCH 12\n",
            "#################\n",
            "AVERAGE TRAIN ACCURACY: 92.21458333333334%\n",
            "AVERAGE TRAIN LOSS: 0.10027956962585449\n",
            "AVERAGE VAL ACCURACY: 97.15833333333333%\n",
            "AVERAGE VAL LOSS: 0.08330106735229492\n",
            "#################\n",
            "# EPOCH 13\n",
            "#################\n",
            "AVERAGE TRAIN ACCURACY: 91.95%\n",
            "AVERAGE TRAIN LOSS: 0.10012733936309814\n",
            "AVERAGE VAL ACCURACY: 96.74166666666667%\n",
            "AVERAGE VAL LOSS: 0.07848607748746872\n",
            "#################\n",
            "# EPOCH 14\n",
            "#################\n",
            "AVERAGE TRAIN ACCURACY: 90.71458333333332%\n",
            "AVERAGE TRAIN LOSS: 0.09423898160457611\n",
            "AVERAGE VAL ACCURACY: 94.71666666666667%\n",
            "AVERAGE VAL LOSS: 0.08563157916069031\n",
            "#################\n",
            "# EPOCH 15\n",
            "#################\n",
            "AVERAGE TRAIN ACCURACY: 90.31458333333333%\n",
            "AVERAGE TRAIN LOSS: 0.09664514660835266\n",
            "AVERAGE VAL ACCURACY: 96.58333333333333%\n",
            "AVERAGE VAL LOSS: 0.08659975230693817\n",
            "#################\n",
            "# EPOCH 16\n",
            "#################\n",
            "AVERAGE TRAIN ACCURACY: 90.29791666666667%\n",
            "AVERAGE TRAIN LOSS: 0.0928121879696846\n",
            "AVERAGE VAL ACCURACY: 97.14166666666667%\n",
            "AVERAGE VAL LOSS: 0.07794613391160965\n",
            "#################\n",
            "# EPOCH 17\n",
            "#################\n",
            "AVERAGE TRAIN ACCURACY: 89.91666666666667%\n",
            "AVERAGE TRAIN LOSS: 0.0919547975063324\n",
            "AVERAGE VAL ACCURACY: 97.43333333333334%\n",
            "AVERAGE VAL LOSS: 0.07977417856454849\n",
            "#################\n",
            "# EPOCH 18\n",
            "#################\n",
            "AVERAGE TRAIN ACCURACY: 89.4625%\n",
            "AVERAGE TRAIN LOSS: 0.08303487300872803\n",
            "AVERAGE VAL ACCURACY: 95.66666666666667%\n",
            "AVERAGE VAL LOSS: 0.08132756501436234\n",
            "#################\n",
            "# EPOCH 19\n",
            "#################\n",
            "AVERAGE TRAIN ACCURACY: 87.975%\n",
            "AVERAGE TRAIN LOSS: 0.08439867943525314\n",
            "AVERAGE VAL ACCURACY: 96.46666666666667%\n",
            "AVERAGE VAL LOSS: 0.07988395541906357\n",
            "#################\n",
            "# EPOCH 20\n",
            "#################\n",
            "AVERAGE TRAIN ACCURACY: 89.61250000000001%\n",
            "AVERAGE TRAIN LOSS: 0.08149226009845734\n",
            "AVERAGE VAL ACCURACY: 97.33333333333334%\n",
            "AVERAGE VAL LOSS: 0.07735104113817215\n",
            "#################\n",
            "# EPOCH 21\n",
            "#################\n",
            "AVERAGE TRAIN ACCURACY: 89.20416666666668%\n",
            "AVERAGE TRAIN LOSS: 0.08285274356603622\n",
            "AVERAGE VAL ACCURACY: 96.41666666666666%\n",
            "AVERAGE VAL LOSS: 0.07799044996500015\n",
            "#################\n",
            "# EPOCH 22\n",
            "#################\n",
            "AVERAGE TRAIN ACCURACY: 88.26458333333333%\n",
            "AVERAGE TRAIN LOSS: 0.08158870786428452\n",
            "AVERAGE VAL ACCURACY: 95.15%\n",
            "AVERAGE VAL LOSS: 0.0800098329782486\n",
            "#################\n",
            "# EPOCH 23\n",
            "#################\n",
            "AVERAGE TRAIN ACCURACY: 88.325%\n",
            "AVERAGE TRAIN LOSS: 0.07966044545173645\n",
            "AVERAGE VAL ACCURACY: 96.04166666666667%\n",
            "AVERAGE VAL LOSS: 0.07950671017169952\n",
            "#################\n",
            "# EPOCH 24\n",
            "#################\n",
            "AVERAGE TRAIN ACCURACY: 87.45%\n",
            "AVERAGE TRAIN LOSS: 0.07911951094865799\n",
            "AVERAGE VAL ACCURACY: 96.61666666666666%\n",
            "AVERAGE VAL LOSS: 0.07997909188270569\n",
            "#################\n",
            "# EPOCH 25\n",
            "#################\n",
            "AVERAGE TRAIN ACCURACY: 88.46666666666665%\n",
            "AVERAGE TRAIN LOSS: 0.07857365161180496\n",
            "AVERAGE VAL ACCURACY: 97.23333333333333%\n",
            "AVERAGE VAL LOSS: 0.0811062753200531\n",
            "#################\n",
            "# EPOCH 26\n",
            "#################\n",
            "AVERAGE TRAIN ACCURACY: 88.58958333333334%\n",
            "AVERAGE TRAIN LOSS: 0.07439722120761871\n",
            "AVERAGE VAL ACCURACY: 96.89166666666667%\n",
            "AVERAGE VAL LOSS: 0.0815107598900795\n",
            "#################\n",
            "# EPOCH 27\n",
            "#################\n",
            "AVERAGE TRAIN ACCURACY: 87.61041666666665%\n",
            "AVERAGE TRAIN LOSS: 0.07096346467733383\n",
            "AVERAGE VAL ACCURACY: 95.61666666666667%\n",
            "AVERAGE VAL LOSS: 0.08004677295684814\n",
            "#################\n",
            "# EPOCH 28\n",
            "#################\n",
            "AVERAGE TRAIN ACCURACY: 87.41666666666667%\n",
            "AVERAGE TRAIN LOSS: 0.07629499584436417\n",
            "AVERAGE VAL ACCURACY: 95.59166666666667%\n",
            "AVERAGE VAL LOSS: 0.08317701518535614\n",
            "#################\n",
            "# EPOCH 29\n",
            "#################\n",
            "AVERAGE TRAIN ACCURACY: 87.84583333333332%\n",
            "AVERAGE TRAIN LOSS: 0.07168737798929214\n",
            "AVERAGE VAL ACCURACY: 96.125%\n",
            "AVERAGE VAL LOSS: 0.07630355656147003\n",
            "Model's validation accuracy: 0.96125\n",
            "Model's validation loss: 0.07630355656147003\n"
          ],
          "name": "stdout"
        }
      ]
    },
    {
      "cell_type": "markdown",
      "metadata": {
        "id": "sJ5OdMk7pOea"
      },
      "source": [
        "**ACCURACY PLOT**"
      ]
    },
    {
      "cell_type": "code",
      "metadata": {
        "id": "tv16gBYVpQFq",
        "colab": {
          "base_uri": "https://localhost:8080/",
          "height": 497
        },
        "outputId": "739f8858-a7f9-4085-8c76-949aec4af66b"
      },
      "source": [
        "plt.figure(figsize=(12,8))\n",
        "plt.semilogy(train_accuracy_log, label='Train accuracy')\n",
        "plt.semilogy(val_accuracy_log, label='Validation accuracy')\n",
        "plt.xlabel('Epoch')\n",
        "plt.ylabel('Accuracy')\n",
        "plt.grid()\n",
        "plt.legend()\n",
        "plt.show()"
      ],
      "execution_count": 39,
      "outputs": [
        {
          "output_type": "display_data",
          "data": {
            "image/png": "[encoded data removed]",
            "text/plain": [
              "<Figure size 864x576 with 1 Axes>"
            ]
          },
          "metadata": {
            "tags": [],
            "needs_background": "light"
          }
        }
      ]
    },
    {
      "cell_type": "markdown",
      "metadata": {
        "id": "TMYBSC1NpSP6"
      },
      "source": [
        "**LOSS PLOT**"
      ]
    },
    {
      "cell_type": "code",
      "metadata": {
        "id": "Uzd291TzpTmC",
        "colab": {
          "base_uri": "https://localhost:8080/",
          "height": 497
        },
        "outputId": "a8df2858-9f74-4fd7-84ac-014b96283ef9"
      },
      "source": [
        "plt.figure(figsize=(12,8))\n",
        "plt.semilogy(train_loss_log, label='Train loss')\n",
        "plt.semilogy(val_loss_log, label='Validation loss')\n",
        "plt.xlabel('Epoch')\n",
        "plt.ylabel('Loss')\n",
        "plt.grid()\n",
        "plt.legend()\n",
        "plt.show()"
      ],
      "execution_count": 40,
      "outputs": [
        {
          "output_type": "display_data",
          "data": {
            "image/png": "[encoded data removed]",
            "text/plain": [
              "<Figure size 864x576 with 1 Axes>"
            ]
          },
          "metadata": {
            "tags": [],
            "needs_background": "light"
          }
        }
      ]
    },
    {
      "cell_type": "markdown",
      "metadata": {
        "id": "mVkziO2e4NhT"
      },
      "source": [
        "**Final model training with the whole training dataset**"
      ]
    },
    {
      "cell_type": "markdown",
      "metadata": {
        "id": "gIgOpsbC39kN"
      },
      "source": [
        "The grid search chosen the best model. It's time to train this model found without the validation\n",
        "\n"
      ]
    },
    {
      "cell_type": "code",
      "metadata": {
        "id": "mj_GrWY438RL"
      },
      "source": [
        "#net = ForwardNet(bestDrop)\n",
        "#net = net.to(device)\n",
        "#loss_function = nn.CrossEntropyLoss()\n",
        "#optimizer = optim.Adam(net.parameters(), lr=bestLr)\n",
        "#train_accuracy_log, val_accuracy_log, train_loss_log, val_loss_log = train_model(net, loss_function, optimizer, epochs, full_dataloader, None, True)\n",
        "\n",
        "#print(\"FINAL MODEL TRAIN ACCURACY: %f\" %(np.mean(train_accuracy_log)))\n",
        "#print(\"FINAL MODEL TRAIN LOSS: %f\" %(np.mean(train_loss_log)))"
      ],
      "execution_count": 41,
      "outputs": []
    },
    {
      "cell_type": "markdown",
      "metadata": {
        "id": "ICiP1faapZ-i"
      },
      "source": [
        "**Generalization error estimation**"
      ]
    },
    {
      "cell_type": "code",
      "metadata": {
        "id": "Kh8SAZWwpcpL",
        "colab": {
          "base_uri": "https://localhost:8080/"
        },
        "outputId": "61b6c1e8-f6f8-4aa8-9dc7-bd09865455c6"
      },
      "source": [
        "test_predictions = []\n",
        "sig = nn.Sigmoid()\n",
        "net.eval()\n",
        "with torch.no_grad(): # Disable gradient tracking\n",
        "    for sample_batched in test_dataloader: \n",
        "      # Move data to device\n",
        "      x_test = sample_batched[0].to(device)\n",
        "     \n",
        "      #print(total_images)\n",
        "      labels_test = sample_batched[1].to(device)\n",
        "      \n",
        "      # Forward pass\n",
        "      output = net(x_test)\n",
        "    \n",
        "      # Compute prediction\n",
        "      prediction = get_prediction(output)\n",
        "      correct_predictions = calculate_accuracy(prediction, labels_test, x_test.shape[0])\n",
        "      \n",
        "      # Save val prediction for this batch\n",
        "      test_predictions.append(correct_predictions)\n",
        "      \n",
        "      \n",
        "    # Save average validation loss\n",
        "    test_predictions = np.mean(test_predictions)\n",
        "    print(f\"AVERAGE ACCURACY: {test_predictions * 100}%\")"
      ],
      "execution_count": 42,
      "outputs": [
        {
          "output_type": "stream",
          "text": [
            "AVERAGE ACCURACY: 96.39%\n"
          ],
          "name": "stdout"
        }
      ]
    },
    {
      "cell_type": "markdown",
      "metadata": {
        "id": "u1l1ubFA-EWL"
      },
      "source": [
        "**CONFUSION MATRIX**"
      ]
    },
    {
      "cell_type": "code",
      "metadata": {
        "id": "FiqZQvrfqiyD",
        "colab": {
          "base_uri": "https://localhost:8080/",
          "height": 467
        },
        "outputId": "c3d629ec-e40d-4fe0-b472-9d3d0b760ac4"
      },
      "source": [
        "plot_confusion_matrix(prediction.cpu().numpy(), labels_test.cpu().numpy(), target_names=range(10), normalize=False)"
      ],
      "execution_count": 43,
      "outputs": [
        {
          "output_type": "display_data",
          "data": {
            "image/png": "[encoded data removed]",
            "text/plain": [
              "<Figure size 576x432 with 2 Axes>"
            ]
          },
          "metadata": {
            "tags": [],
            "needs_background": "light"
          }
        }
      ]
    },
    {
      "cell_type": "code",
      "metadata": {
        "colab": {
          "base_uri": "https://localhost:8080/"
        },
        "id": "-q1DbWwrbf4V",
        "outputId": "662e1aea-3a5f-4be8-da3e-b55c68da882b"
      },
      "source": [
        "fc1 = net.fc1.weight.data.cpu().numpy()\n",
        "fc2 = net.fc2.weight.data.cpu().numpy()\n",
        "fc3 = net.fc3.weight.data.cpu().numpy()\n",
        "out = net.out.weight.data.cpu().numpy()\n",
        "print(fc1.shape)\n",
        "print(fc2.shape)\n",
        "print(fc3.shape)\n",
        "print(out.shape)"
      ],
      "execution_count": 44,
      "outputs": [
        {
          "output_type": "stream",
          "text": [
            "(256, 784)\n",
            "(512, 256)\n",
            "(256, 512)\n",
            "(10, 256)\n"
          ],
          "name": "stdout"
        }
      ]
    },
    {
      "cell_type": "code",
      "metadata": {
        "id": "9Unw5n18r1IT"
      },
      "source": [
        "# Weights histogram\n",
        "#fig, axs = plt.subplots(4, 1, figsize=(12,8))\n",
        "#axs[0].hist(fc1, 50)\n",
        "#axs[0].set_title('First hidden layer weights')\n",
        "#axs[1].hist(fc2, 50)\n",
        "#axs[1].set_title('Second hidden layer weights')\n",
        "#axs[2].hist(fc3, 50)\n",
        "#axs[2].set_title('Third layer weights')\n",
        "#axs[3].hist(out, 50)\n",
        "#axs[3].set_title('Output layer weights')\n",
        "#[ax.grid() for ax in axs]\n",
        "#plt.tight_layout()\n",
        "#plt.show()"
      ],
      "execution_count": 45,
      "outputs": []
    },
    {
      "cell_type": "code",
      "metadata": {
        "colab": {
          "base_uri": "https://localhost:8080/",
          "height": 441
        },
        "id": "Ea5uoNJ6qoer",
        "outputId": "0416d73b-bfbf-4528-ae53-00cdbd084035"
      },
      "source": [
        "def get_activation(layer, input, output):\n",
        "    global activation\n",
        "    activation = torch.relu(output)\n",
        "    \n",
        "\n",
        "### Register hook  \n",
        "#We want to inspect the neurons values of the second layer given a specific input in order to show which neuron will fire\n",
        "hook_handle = net.fc1.register_forward_hook(get_activation) #It's called whenever a forward step is done. \n",
        "#When forward phase is completed, hook is called, the activation function used is called and is stored in order to\n",
        "#vizualize the activated neurons of a specific layer\n",
        "\n",
        "### Analyze activations\n",
        "little_dataloader = DataLoader(test_dataset, batch_size=3, shuffle=True, num_workers=0)\n",
        "for batch in little_dataloader:\n",
        "  images = batch[0]\n",
        "  labels = batch[1]\n",
        "  x1 = images[0]\n",
        "  label1 = labels[0]\n",
        "  x1 = x1.unsqueeze(0).to(device)\n",
        "  x2 = images[1]\n",
        "  label2 = labels[1]\n",
        "  x2 = x2.unsqueeze(0).to(device)\n",
        "  x3 = images[2]\n",
        "  label3 = labels[2]\n",
        "  x3 = x3.unsqueeze(0).to(device)\n",
        "  break\n",
        "net = net.to(device)\n",
        "net.eval()\n",
        "with torch.no_grad():\n",
        "    \n",
        "    y1 = net(x1)\n",
        "    z1 = activation \n",
        "    \n",
        "    y2 = net(x2)\n",
        "    z2 = activation\n",
        "    \n",
        "    y3 = net(x3)\n",
        "    z3 = activation\n",
        "\n",
        "### Remove hook\n",
        "hook_handle.remove()\n",
        "\n",
        "### Plot activations\n",
        "fig, axs = plt.subplots(3, 1, figsize=(12,6))\n",
        "\n",
        "axs[0].stem(z1.cpu().numpy()[0], use_line_collection=True)\n",
        "axs[0].set_title('Layer activations for input x=%.2f' % label1)\n",
        "axs[1].stem(z2.cpu().numpy()[0], use_line_collection=True)\n",
        "axs[1].set_title('Layer activations for input x=%.2f' % label2)\n",
        "axs[2].stem(z3.cpu().numpy()[0], use_line_collection=True)\n",
        "axs[2].set_title('Layer activations for input x=%.2f' % label3)\n",
        "plt.tight_layout()\n",
        "plt.show()"
      ],
      "execution_count": 46,
      "outputs": [
        {
          "output_type": "display_data",
          "data": {
            "image/png": "[encoded data removed]",
            "text/plain": [
              "<Figure size 864x432 with 3 Axes>"
            ]
          },
          "metadata": {
            "tags": [],
            "needs_background": "light"
          }
        }
      ]
    },
    {
      "cell_type": "code",
      "metadata": {
        "id": "s638s64nn_1E"
      },
      "source": [
        "def relu(x):\n",
        "  return np.maximum(0, x)"
      ],
      "execution_count": 47,
      "outputs": []
    },
    {
      "cell_type": "code",
      "metadata": {
        "colab": {
          "base_uri": "https://localhost:8080/",
          "height": 282
        },
        "id": "HvuJzlvDfdgs",
        "outputId": "2b0316be-1fdd-4bc6-8fe5-1c1717381682"
      },
      "source": [
        "rec_field1 = fc1\n",
        "#rec_field1 = relu(rec_field1)\n",
        "image = rec_field1[0].reshape(28, 28)\n",
        "plt.imshow(image)"
      ],
      "execution_count": 48,
      "outputs": [
        {
          "output_type": "execute_result",
          "data": {
            "text/plain": [
              "<matplotlib.image.AxesImage at 0x7f66a0313b70>"
            ]
          },
          "metadata": {
            "tags": []
          },
          "execution_count": 48
        },
        {
          "output_type": "display_data",
          "data": {
            "image/png": "[encoded data removed]",
            "text/plain": [
              "<Figure size 432x288 with 1 Axes>"
            ]
          },
          "metadata": {
            "tags": [],
            "needs_background": "light"
          }
        }
      ]
    },
    {
      "cell_type": "code",
      "metadata": {
        "colab": {
          "base_uri": "https://localhost:8080/",
          "height": 299
        },
        "id": "Dz7Beio1hT6N",
        "outputId": "ee2bade3-e047-4ac0-f339-b8fda948b2f0"
      },
      "source": [
        "rec_field2 = np.matmul(fc2, rec_field1)\n",
        "#rec_field2 = relu(rec_field2)\n",
        "print(rec_field2.shape)\n",
        "image = rec_field2[72].reshape(28, 28)\n",
        "plt.imshow(image)"
      ],
      "execution_count": 49,
      "outputs": [
        {
          "output_type": "stream",
          "text": [
            "(512, 784)\n"
          ],
          "name": "stdout"
        },
        {
          "output_type": "execute_result",
          "data": {
            "text/plain": [
              "<matplotlib.image.AxesImage at 0x7f66a0447f28>"
            ]
          },
          "metadata": {
            "tags": []
          },
          "execution_count": 49
        },
        {
          "output_type": "display_data",
          "data": {
            "image/png": "[encoded data removed]",
            "text/plain": [
              "<Figure size 432x288 with 1 Axes>"
            ]
          },
          "metadata": {
            "tags": [],
            "needs_background": "light"
          }
        }
      ]
    },
    {
      "cell_type": "code",
      "metadata": {
        "colab": {
          "base_uri": "https://localhost:8080/",
          "height": 299
        },
        "id": "Lxz_T_oIh4r-",
        "outputId": "e9549767-f980-4a63-ef64-d362912170a9"
      },
      "source": [
        "rec_field3 = np.matmul(fc3, rec_field2)\n",
        "#rec_field3 = relu(rec_field3)\n",
        "print(rec_field3.shape)\n",
        "image = rec_field3[25].reshape(28, 28)\n",
        "plt.imshow(image)"
      ],
      "execution_count": 50,
      "outputs": [
        {
          "output_type": "stream",
          "text": [
            "(256, 784)\n"
          ],
          "name": "stdout"
        },
        {
          "output_type": "execute_result",
          "data": {
            "text/plain": [
              "<matplotlib.image.AxesImage at 0x7f6652eecfd0>"
            ]
          },
          "metadata": {
            "tags": []
          },
          "execution_count": 50
        },
        {
          "output_type": "display_data",
          "data": {
            "image/png": "[encoded data removed]",
            "text/plain": [
              "<Figure size 432x288 with 1 Axes>"
            ]
          },
          "metadata": {
            "tags": [],
            "needs_background": "light"
          }
        }
      ]
    },
    {
      "cell_type": "code",
      "metadata": {
        "colab": {
          "base_uri": "https://localhost:8080/",
          "height": 357
        },
        "id": "JCirkb3eiqg0",
        "outputId": "d83fc7c9-8f74-4848-ddd9-cc75c2b2b9e4"
      },
      "source": [
        "rec_field_out = np.matmul(out, rec_field3)\n",
        "#rec_field_out = relu(rec_field_out)\n",
        "fig, axs = plt.subplots(2, 5, figsize=(12,6))\n",
        "for i in range(5):\n",
        "  image = rec_field_out[i].reshape(28, 28)\n",
        "  axs[0][i].imshow(image)\n",
        "  axs[0][i].set_title(\"Label: \"+str(i))\n",
        "\n",
        "for i in range(5, 10):\n",
        "  image = rec_field_out[i].reshape(28, 28)\n",
        "  axs[1][i - 5].imshow(image)\n",
        "  axs[1][i - 5].set_title(\"Label: \"+str(i))\n",
        "#print(rec_field_out.shape)\n",
        "#for i in range(10):\n",
        "#  image = rec_field_out[i].reshape(28, 28)\n",
        "#  print(\"Label \" , i)\n",
        "#  plt.imshow(image)\n",
        "#  plt.show()"
      ],
      "execution_count": 51,
      "outputs": [
        {
          "output_type": "display_data",
          "data": {
            "image/png": "[encoded data removed]",
            "text/plain": [
              "<Figure size 864x432 with 10 Axes>"
            ]
          },
          "metadata": {
            "tags": [],
            "needs_background": "light"
          }
        }
      ]
    },
    {
      "cell_type": "markdown",
      "metadata": {
        "id": "RDeX1CmlQVWR"
      },
      "source": [
        "# Convolutional Network"
      ]
    },
    {
      "cell_type": "markdown",
      "metadata": {
        "id": "tIlJzDKyoSix"
      },
      "source": [
        "**Dataset Definition**"
      ]
    },
    {
      "cell_type": "code",
      "metadata": {
        "id": "MyBiJlskl2xC"
      },
      "source": [
        "torch.manual_seed(0)\n",
        "composed_transform = None#transforms.Compose([])\n",
        "\n",
        "train_size = int(len(train_data) * 0.8) #Train-validation 80-20 \n",
        "\n",
        "train_idxs = range(0, train_size)\n",
        "val_idxs = range(train_size, len(train_data))\n",
        "\n",
        "full_dataset = ImageDataset(train_data, transform=composed_transform) #Dataset withouth validation set extracted\n",
        "train_dataset = torch.utils.data.Subset(full_dataset, train_idxs) #Train dataset\n",
        "validation_dataset = torch.utils.data.Subset(full_dataset, val_idxs) #Validation Dataset\n",
        "test_dataset = ImageDataset(test_data, transform=composed_transform) #Test Dataset"
      ],
      "execution_count": 52,
      "outputs": []
    },
    {
      "cell_type": "code",
      "metadata": {
        "id": "O--sr8iBl4fh"
      },
      "source": [
        "batch_size = 100\n",
        "test_batch = len(test_dataset)\n",
        "train_dataloader = DataLoader(train_dataset, batch_size=batch_size, shuffle=True, num_workers=0)\n",
        "val_dataloader = DataLoader(validation_dataset, batch_size=len(validation_dataset), shuffle=True, num_workers=0)\n",
        "test_dataloader = DataLoader(test_dataset, batch_size=test_batch, shuffle=False, num_workers=0)"
      ],
      "execution_count": 53,
      "outputs": []
    },
    {
      "cell_type": "markdown",
      "metadata": {
        "id": "qNgtOfUcl5RP"
      },
      "source": [
        "**MODEL DEFINITION**\n",
        "\n",
        "Implemented LeNet5 a state of the art network for digit classification with addition of dropout layers\n",
        "\n"
      ]
    },
    {
      "cell_type": "code",
      "metadata": {
        "id": "iBxiB_lK6mmO"
      },
      "source": [
        "class DigitNet(nn.Module):\n",
        "    \n",
        "    def __init__(self, drop1 = 0.25, drop2 = 0.25, drop3 = 0.7):\n",
        "        super().__init__()\n",
        "        \n",
        "        self.c1 = nn.Conv2d(1, 6, kernel_size=(5, 5), stride=1, padding=2)\n",
        "        torch.nn.init.kaiming_uniform_(self.c1.weight, nonlinearity='relu')\n",
        "        self.s2 = nn.AvgPool2d(kernel_size=(2,2), stride = 2)\n",
        "        self.c3 = nn.Conv2d(6, 16, kernel_size=(5, 5), stride=1)\n",
        "        torch.nn.init.kaiming_uniform_(self.c3.weight, nonlinearity='relu')\n",
        "        self.s4 = nn.AvgPool2d(kernel_size=(2,2), stride = 2)\n",
        "        self.c5 = nn.Conv2d(16, 120, kernel_size=(5, 5), stride=1)\n",
        "        torch.nn.init.kaiming_uniform_(self.c5.weight, nonlinearity='relu')\n",
        "        self.f6 = nn.Linear(120, 84)\n",
        "        torch.nn.init.kaiming_uniform_(self.f6.weight, nonlinearity='relu')\n",
        "        self.out = nn.Linear(84, 10)\n",
        "        self.act = nn.ReLU()\n",
        "       \n",
        "        self.drop1 = nn.Dropout(p = drop1)\n",
        "        self.drop2 = nn.Dropout(p = drop2)\n",
        "        self.drop3 = nn.Dropout(p = drop3)\n",
        "        print('Network initialized')\n",
        "        \n",
        "    def forward(self, x):\n",
        "        x = self.act(self.c1(x)) #conv layer\n",
        "        x = self.drop1(x) #dropout\n",
        "        x = self.s2(x) #pooling\n",
        "        x = self.act(self.c3(x)) #conv\n",
        "        x = self.drop2(x) #dropout\n",
        "        x = self.s4(x) #pooling\n",
        "        x = self.act(self.c5(x)) #conv\n",
        "        x = x.reshape(x.shape[0], -1)\n",
        "        x = self.act(self.f6(x)) #flatten\n",
        "        x = self.drop3(x)\n",
        "        x = self.out(x) #output\n",
        "        return x"
      ],
      "execution_count": 54,
      "outputs": []
    },
    {
      "cell_type": "code",
      "metadata": {
        "id": "iECaHeQWxiGf"
      },
      "source": [
        "#loss_function = nn.CrossEntropyLoss()\n",
        "#hyperparameters = {'lr': [0.001, 0.02], 'weight_decay': [0.0001], 'epochs': [30, 40]}\n",
        "#grid_search(loss_function, device, 100, 3, full_dataset, hyperparameters)"
      ],
      "execution_count": 55,
      "outputs": []
    },
    {
      "cell_type": "markdown",
      "metadata": {
        "id": "0ZNrAURiQssI"
      },
      "source": [
        "**Model initialization**"
      ]
    },
    {
      "cell_type": "code",
      "metadata": {
        "colab": {
          "base_uri": "https://localhost:8080/"
        },
        "id": "TCF7kOkg6tE_",
        "outputId": "da19ca71-a83c-4222-a621-743cadb5eee2"
      },
      "source": [
        "torch.manual_seed(0)\n",
        "net = DigitNet()\n",
        "net = net.to(device)"
      ],
      "execution_count": 56,
      "outputs": [
        {
          "output_type": "stream",
          "text": [
            "Network initialized\n"
          ],
          "name": "stdout"
        }
      ]
    },
    {
      "cell_type": "markdown",
      "metadata": {
        "id": "qEOziMZxQwoY"
      },
      "source": [
        "**Loss Definition**"
      ]
    },
    {
      "cell_type": "code",
      "metadata": {
        "id": "8rfqKVmo6xWG"
      },
      "source": [
        "loss_function = nn.CrossEntropyLoss()"
      ],
      "execution_count": 57,
      "outputs": []
    },
    {
      "cell_type": "markdown",
      "metadata": {
        "id": "OvYySRB0QzN_"
      },
      "source": [
        "**Optimizer Definition**"
      ]
    },
    {
      "cell_type": "code",
      "metadata": {
        "id": "28knohlm6zhO"
      },
      "source": [
        "optimizer = optim.Adam(net.parameters(), lr=0.001)"
      ],
      "execution_count": 58,
      "outputs": []
    },
    {
      "cell_type": "markdown",
      "metadata": {
        "id": "ORkQPa7KQ2qn"
      },
      "source": [
        "**Training Loop**"
      ]
    },
    {
      "cell_type": "code",
      "metadata": {
        "id": "PkYP9VC562YG",
        "colab": {
          "base_uri": "https://localhost:8080/"
        },
        "outputId": "bf56a417-7c51-4c4d-b4a4-ee24c29ae456"
      },
      "source": [
        "train_accuracy_log, val_accuracy_log, train_loss_log, val_loss_log = train_model(net, loss_function, optimizer, 30, train_dataloader, val_dataloader, True)"
      ],
      "execution_count": 59,
      "outputs": [
        {
          "output_type": "stream",
          "text": [
            "DigitNet(\n",
            "  (c1): Conv2d(1, 6, kernel_size=(5, 5), stride=(1, 1), padding=(2, 2))\n",
            "  (s2): AvgPool2d(kernel_size=(2, 2), stride=2, padding=0)\n",
            "  (c3): Conv2d(6, 16, kernel_size=(5, 5), stride=(1, 1))\n",
            "  (s4): AvgPool2d(kernel_size=(2, 2), stride=2, padding=0)\n",
            "  (c5): Conv2d(16, 120, kernel_size=(5, 5), stride=(1, 1))\n",
            "  (f6): Linear(in_features=120, out_features=84, bias=True)\n",
            "  (out): Linear(in_features=84, out_features=10, bias=True)\n",
            "  (act): ReLU()\n",
            "  (drop1): Dropout(p=0.25, inplace=False)\n",
            "  (drop2): Dropout(p=0.25, inplace=False)\n",
            "  (drop3): Dropout(p=0.7, inplace=False)\n",
            ")\n",
            "#################\n",
            "# EPOCH 0\n",
            "#################\n",
            "AVERAGE TRAIN ACCURACY: 77.43541666666667%\n",
            "AVERAGE TRAIN LOSS: 0.705990731716156\n",
            "AVERAGE VAL ACCURACY: 96.21666666666667%\n",
            "AVERAGE VAL LOSS: 0.12420646101236343\n",
            "#################\n",
            "# EPOCH 1\n",
            "#################\n",
            "AVERAGE TRAIN ACCURACY: 93.15%\n",
            "AVERAGE TRAIN LOSS: 0.2455383688211441\n",
            "AVERAGE VAL ACCURACY: 97.34166666666667%\n",
            "AVERAGE VAL LOSS: 0.0900302454829216\n",
            "#################\n",
            "# EPOCH 2\n",
            "#################\n",
            "AVERAGE TRAIN ACCURACY: 95.25%\n",
            "AVERAGE TRAIN LOSS: 0.17848680913448334\n",
            "AVERAGE VAL ACCURACY: 97.95833333333334%\n",
            "AVERAGE VAL LOSS: 0.07016804814338684\n",
            "#################\n",
            "# EPOCH 3\n",
            "#################\n",
            "AVERAGE TRAIN ACCURACY: 95.99791666666665%\n",
            "AVERAGE TRAIN LOSS: 0.14688938856124878\n",
            "AVERAGE VAL ACCURACY: 98.25%\n",
            "AVERAGE VAL LOSS: 0.05813565477728844\n",
            "#################\n",
            "# EPOCH 4\n",
            "#################\n",
            "AVERAGE TRAIN ACCURACY: 96.67708333333334%\n",
            "AVERAGE TRAIN LOSS: 0.12277796119451523\n",
            "AVERAGE VAL ACCURACY: 98.45%\n",
            "AVERAGE VAL LOSS: 0.056393880397081375\n",
            "#################\n",
            "# EPOCH 5\n",
            "#################\n",
            "AVERAGE TRAIN ACCURACY: 97.06666666666668%\n",
            "AVERAGE TRAIN LOSS: 0.10944627225399017\n",
            "AVERAGE VAL ACCURACY: 98.4%\n",
            "AVERAGE VAL LOSS: 0.05570586770772934\n",
            "#################\n",
            "# EPOCH 6\n",
            "#################\n",
            "AVERAGE TRAIN ACCURACY: 97.34583333333336%\n",
            "AVERAGE TRAIN LOSS: 0.10162758827209473\n",
            "AVERAGE VAL ACCURACY: 98.79166666666667%\n",
            "AVERAGE VAL LOSS: 0.04767918959259987\n",
            "#################\n",
            "# EPOCH 7\n",
            "#################\n",
            "AVERAGE TRAIN ACCURACY: 97.61041666666668%\n",
            "AVERAGE TRAIN LOSS: 0.09152684360742569\n",
            "AVERAGE VAL ACCURACY: 98.725%\n",
            "AVERAGE VAL LOSS: 0.04507976770401001\n",
            "#################\n",
            "# EPOCH 8\n",
            "#################\n",
            "AVERAGE TRAIN ACCURACY: 97.79791666666668%\n",
            "AVERAGE TRAIN LOSS: 0.08549177646636963\n",
            "AVERAGE VAL ACCURACY: 98.81666666666666%\n",
            "AVERAGE VAL LOSS: 0.04670378193259239\n",
            "#################\n",
            "# EPOCH 9\n",
            "#################\n",
            "AVERAGE TRAIN ACCURACY: 97.92083333333335%\n",
            "AVERAGE TRAIN LOSS: 0.07716420292854309\n",
            "AVERAGE VAL ACCURACY: 98.83333333333333%\n",
            "AVERAGE VAL LOSS: 0.04624024033546448\n",
            "#################\n",
            "# EPOCH 10\n",
            "#################\n",
            "AVERAGE TRAIN ACCURACY: 98.07291666666667%\n",
            "AVERAGE TRAIN LOSS: 0.06982318311929703\n",
            "AVERAGE VAL ACCURACY: 98.85000000000001%\n",
            "AVERAGE VAL LOSS: 0.04627073556184769\n",
            "#################\n",
            "# EPOCH 11\n",
            "#################\n",
            "AVERAGE TRAIN ACCURACY: 98.12291666666668%\n",
            "AVERAGE TRAIN LOSS: 0.07007171213626862\n",
            "AVERAGE VAL ACCURACY: 98.925%\n",
            "AVERAGE VAL LOSS: 0.042743001133203506\n",
            "#################\n",
            "# EPOCH 12\n",
            "#################\n",
            "AVERAGE TRAIN ACCURACY: 98.21458333333335%\n",
            "AVERAGE TRAIN LOSS: 0.06775563210248947\n",
            "AVERAGE VAL ACCURACY: 99.01666666666667%\n",
            "AVERAGE VAL LOSS: 0.04044312611222267\n",
            "#################\n",
            "# EPOCH 13\n",
            "#################\n",
            "AVERAGE TRAIN ACCURACY: 98.30000000000001%\n",
            "AVERAGE TRAIN LOSS: 0.06290877610445023\n",
            "AVERAGE VAL ACCURACY: 99.00833333333333%\n",
            "AVERAGE VAL LOSS: 0.041488803923130035\n",
            "#################\n",
            "# EPOCH 14\n",
            "#################\n",
            "AVERAGE TRAIN ACCURACY: 98.47708333333335%\n",
            "AVERAGE TRAIN LOSS: 0.055655233561992645\n",
            "AVERAGE VAL ACCURACY: 99.06666666666666%\n",
            "AVERAGE VAL LOSS: 0.039282090961933136\n",
            "#################\n",
            "# EPOCH 15\n",
            "#################\n",
            "AVERAGE TRAIN ACCURACY: 98.50416666666668%\n",
            "AVERAGE TRAIN LOSS: 0.053805407136678696\n",
            "AVERAGE VAL ACCURACY: 99.125%\n",
            "AVERAGE VAL LOSS: 0.03982820734381676\n",
            "#################\n",
            "# EPOCH 16\n",
            "#################\n",
            "AVERAGE TRAIN ACCURACY: 98.48333333333336%\n",
            "AVERAGE TRAIN LOSS: 0.0545806847512722\n",
            "AVERAGE VAL ACCURACY: 98.99166666666666%\n",
            "AVERAGE VAL LOSS: 0.040113404393196106\n",
            "#################\n",
            "# EPOCH 17\n",
            "#################\n",
            "AVERAGE TRAIN ACCURACY: 98.61041666666668%\n",
            "AVERAGE TRAIN LOSS: 0.04903428629040718\n",
            "AVERAGE VAL ACCURACY: 98.90833333333333%\n",
            "AVERAGE VAL LOSS: 0.04857750982046127\n",
            "#################\n",
            "# EPOCH 18\n",
            "#################\n",
            "AVERAGE TRAIN ACCURACY: 98.59166666666668%\n",
            "AVERAGE TRAIN LOSS: 0.050927985459566116\n",
            "AVERAGE VAL ACCURACY: 98.95%\n",
            "AVERAGE VAL LOSS: 0.04423025622963905\n",
            "#################\n",
            "# EPOCH 19\n",
            "#################\n",
            "AVERAGE TRAIN ACCURACY: 98.76458333333335%\n",
            "AVERAGE TRAIN LOSS: 0.045098647475242615\n",
            "AVERAGE VAL ACCURACY: 99.08333333333333%\n",
            "AVERAGE VAL LOSS: 0.04089311882853508\n",
            "#################\n",
            "# EPOCH 20\n",
            "#################\n",
            "AVERAGE TRAIN ACCURACY: 98.70416666666668%\n",
            "AVERAGE TRAIN LOSS: 0.04528576880693436\n",
            "AVERAGE VAL ACCURACY: 99.04166666666666%\n",
            "AVERAGE VAL LOSS: 0.03936376795172691\n",
            "#################\n",
            "# EPOCH 21\n",
            "#################\n",
            "AVERAGE TRAIN ACCURACY: 98.775%\n",
            "AVERAGE TRAIN LOSS: 0.04002682492136955\n",
            "AVERAGE VAL ACCURACY: 99.01666666666667%\n",
            "AVERAGE VAL LOSS: 0.040380146354436874\n",
            "#################\n",
            "# EPOCH 22\n",
            "#################\n",
            "AVERAGE TRAIN ACCURACY: 98.78541666666668%\n",
            "AVERAGE TRAIN LOSS: 0.042366936802864075\n",
            "AVERAGE VAL ACCURACY: 98.93333333333332%\n",
            "AVERAGE VAL LOSS: 0.0458872988820076\n",
            "#################\n",
            "# EPOCH 23\n",
            "#################\n",
            "AVERAGE TRAIN ACCURACY: 98.90833333333335%\n",
            "AVERAGE TRAIN LOSS: 0.0378342866897583\n",
            "AVERAGE VAL ACCURACY: 99.1%\n",
            "AVERAGE VAL LOSS: 0.045378219336271286\n",
            "#################\n",
            "# EPOCH 24\n",
            "#################\n",
            "AVERAGE TRAIN ACCURACY: 98.84583333333335%\n",
            "AVERAGE TRAIN LOSS: 0.04063769057393074\n",
            "AVERAGE VAL ACCURACY: 99.075%\n",
            "AVERAGE VAL LOSS: 0.0376419760286808\n",
            "#################\n",
            "# EPOCH 25\n",
            "#################\n",
            "AVERAGE TRAIN ACCURACY: 98.87083333333334%\n",
            "AVERAGE TRAIN LOSS: 0.0380619540810585\n",
            "AVERAGE VAL ACCURACY: 99.11666666666666%\n",
            "AVERAGE VAL LOSS: 0.04461989179253578\n",
            "#################\n",
            "# EPOCH 26\n",
            "#################\n",
            "AVERAGE TRAIN ACCURACY: 99.00000000000001%\n",
            "AVERAGE TRAIN LOSS: 0.03602292388677597\n",
            "AVERAGE VAL ACCURACY: 99.125%\n",
            "AVERAGE VAL LOSS: 0.04278389364480972\n",
            "#################\n",
            "# EPOCH 27\n",
            "#################\n",
            "AVERAGE TRAIN ACCURACY: 98.97291666666668%\n",
            "AVERAGE TRAIN LOSS: 0.03511898219585419\n",
            "AVERAGE VAL ACCURACY: 99.09166666666667%\n",
            "AVERAGE VAL LOSS: 0.04018311947584152\n",
            "#################\n",
            "# EPOCH 28\n",
            "#################\n",
            "AVERAGE TRAIN ACCURACY: 98.99791666666667%\n",
            "AVERAGE TRAIN LOSS: 0.03463650867342949\n",
            "AVERAGE VAL ACCURACY: 99.08333333333333%\n",
            "AVERAGE VAL LOSS: 0.044294945895671844\n",
            "#################\n",
            "# EPOCH 29\n",
            "#################\n",
            "AVERAGE TRAIN ACCURACY: 99.06041666666667%\n",
            "AVERAGE TRAIN LOSS: 0.03273879736661911\n",
            "AVERAGE VAL ACCURACY: 99.18333333333334%\n",
            "AVERAGE VAL LOSS: 0.042001254856586456\n",
            "Model's validation accuracy: 0.9918333333333333\n",
            "Model's validation loss: 0.042001254856586456\n"
          ],
          "name": "stdout"
        }
      ]
    },
    {
      "cell_type": "markdown",
      "metadata": {
        "id": "dmg-nXTcOsKd"
      },
      "source": [
        "**ACCURACY PLOT**"
      ]
    },
    {
      "cell_type": "code",
      "metadata": {
        "id": "dOQtMqS465_O",
        "colab": {
          "base_uri": "https://localhost:8080/",
          "height": 497
        },
        "outputId": "05b44fbb-177a-4bbf-926f-af3b4eef9d46"
      },
      "source": [
        "plt.figure(figsize=(12,8))\n",
        "plt.semilogy(train_accuracy_log, label='Train accuracy')\n",
        "plt.semilogy(val_accuracy_log, label='Validation accuracy')\n",
        "plt.xlabel('Epoch')\n",
        "plt.ylabel('Loss')\n",
        "plt.grid()\n",
        "plt.legend()\n",
        "plt.show()"
      ],
      "execution_count": 60,
      "outputs": [
        {
          "output_type": "display_data",
          "data": {
            "image/png": "[encoded data removed]",
            "text/plain": [
              "<Figure size 864x576 with 1 Axes>"
            ]
          },
          "metadata": {
            "tags": [],
            "needs_background": "light"
          }
        }
      ]
    },
    {
      "cell_type": "markdown",
      "metadata": {
        "id": "SbL4fqKqOurU"
      },
      "source": [
        "**LOSS PLOT**"
      ]
    },
    {
      "cell_type": "code",
      "metadata": {
        "id": "hJsxfEgrOxdE",
        "colab": {
          "base_uri": "https://localhost:8080/",
          "height": 497
        },
        "outputId": "4dc4af3b-5fb8-4c53-92f2-fdc018745872"
      },
      "source": [
        "plt.figure(figsize=(12,8))\n",
        "plt.semilogy(train_loss_log, label='Train loss')\n",
        "plt.semilogy(val_loss_log, label='Validation loss')\n",
        "plt.xlabel('Epoch')\n",
        "plt.ylabel('Loss')\n",
        "plt.grid()\n",
        "plt.legend()\n",
        "plt.show()"
      ],
      "execution_count": 61,
      "outputs": [
        {
          "output_type": "display_data",
          "data": {
            "image/png": "[encoded data removed]",
            "text/plain": [
              "<Figure size 864x576 with 1 Axes>"
            ]
          },
          "metadata": {
            "tags": [],
            "needs_background": "light"
          }
        }
      ]
    },
    {
      "cell_type": "markdown",
      "metadata": {
        "id": "nNrQbIfdQ_oP"
      },
      "source": [
        "**Generalization error estimation**"
      ]
    },
    {
      "cell_type": "code",
      "metadata": {
        "id": "r20RhM567Au9",
        "colab": {
          "base_uri": "https://localhost:8080/"
        },
        "outputId": "a0f89103-8e4d-4918-8093-6615cd3ed119"
      },
      "source": [
        "test_predictions = []\n",
        "sig = nn.Sigmoid()\n",
        "net.eval()\n",
        "with torch.no_grad(): # Disable gradient tracking\n",
        "    for sample_batched in test_dataloader: \n",
        "      # Move data to device\n",
        "      x_test = sample_batched[0].to(device)\n",
        "     \n",
        "      #print(total_images)\n",
        "      labels_test = sample_batched[1].to(device)\n",
        "      \n",
        "      # Forward pass\n",
        "      output = net(x_test)\n",
        "    \n",
        "      # Compute prediction\n",
        "      prediction = get_prediction(output)\n",
        "      correct_predictions = calculate_accuracy(prediction, labels_test, x_test.shape[0])\n",
        "      \n",
        "      # Save val prediction for this batch\n",
        "      test_predictions.append(correct_predictions)\n",
        "      \n",
        "      \n",
        "    # Save average validation loss\n",
        "    test_predictions = np.mean(test_predictions)\n",
        "    print(f\"AVERAGE ACCURACY: {test_predictions * 100}%\")"
      ],
      "execution_count": 62,
      "outputs": [
        {
          "output_type": "stream",
          "text": [
            "AVERAGE ACCURACY: 99.16%\n"
          ],
          "name": "stdout"
        }
      ]
    },
    {
      "cell_type": "markdown",
      "metadata": {
        "id": "bs8wDMYFoD1C"
      },
      "source": [
        "**CONFUSION MATRIX**"
      ]
    },
    {
      "cell_type": "code",
      "metadata": {
        "id": "IJ5NUXP47D7V",
        "colab": {
          "base_uri": "https://localhost:8080/",
          "height": 467
        },
        "outputId": "37da36f2-2b46-470c-d128-89772dbac10e"
      },
      "source": [
        "plot_confusion_matrix(prediction.cpu().numpy(), labels_test.cpu().numpy(), target_names=range(10), normalize=False)"
      ],
      "execution_count": 63,
      "outputs": [
        {
          "output_type": "display_data",
          "data": {
            "image/png": "[encoded data removed]",
            "text/plain": [
              "<Figure size 576x432 with 2 Axes>"
            ]
          },
          "metadata": {
            "tags": [],
            "needs_background": "light"
          }
        }
      ]
    },
    {
      "cell_type": "markdown",
      "metadata": {
        "id": "UzL8vJx9oH1a"
      },
      "source": [
        "**WEIGHTS ANALYSIS**"
      ]
    },
    {
      "cell_type": "code",
      "metadata": {
        "id": "K1Fbm1HlVRfm",
        "colab": {
          "base_uri": "https://localhost:8080/"
        },
        "outputId": "d208443d-9abd-4654-d10e-e7125227468b"
      },
      "source": [
        "# First hidden layer\n",
        "c1_w = net.c1.weight.data.cpu().numpy()\n",
        "c1_b = net.c1.bias.data.cpu().numpy()\n",
        "print(c1_w.shape)\n",
        "# Second hidden layer\n",
        "c3_w = net.c3.weight.data.cpu().numpy()\n",
        "c3_b = net.c3.bias.data.cpu().numpy()\n",
        "print(c3_w.shape)\n",
        "\n",
        "c5_w = net.c5.weight.data.cpu().numpy()\n",
        "c5_b = net.c5.bias.data.cpu().numpy()\n",
        "print(c5_w.shape)\n",
        "\n",
        "f6_w = net.f6.weight.data.cpu().numpy()\n",
        "f6_b = net.f6.bias.data.cpu().numpy()\n",
        "print(f6_w.shape)\n",
        "\n",
        "# Output layer\n",
        "out_w = net.out.weight.data.cpu().numpy()\n",
        "out_b = net.out.bias.data.cpu().numpy()\n",
        "print(out_w.shape)"
      ],
      "execution_count": 64,
      "outputs": [
        {
          "output_type": "stream",
          "text": [
            "(6, 1, 5, 5)\n",
            "(16, 6, 5, 5)\n",
            "(120, 16, 5, 5)\n",
            "(84, 120)\n",
            "(10, 84)\n"
          ],
          "name": "stdout"
        }
      ]
    },
    {
      "cell_type": "code",
      "metadata": {
        "id": "dVdQjIn4VKHQ",
        "colab": {
          "base_uri": "https://localhost:8080/",
          "height": 585
        },
        "outputId": "744368eb-a1e3-4f38-e02f-924e4c62a533"
      },
      "source": [
        "# Weights histogram\n",
        "fig, axs = plt.subplots(5, 1, figsize=(12,8))\n",
        "axs[0].hist(c1_w.flatten(), 50)\n",
        "axs[0].set_title('First hidden layer weights')\n",
        "axs[1].hist(c3_w.flatten(), 50)\n",
        "axs[1].set_title('Second hidden layer weights')\n",
        "axs[2].hist(c5_w.flatten(), 50)\n",
        "axs[2].set_title('Third layer weights')\n",
        "axs[3].hist(f6_w.flatten(), 50)\n",
        "axs[3].set_title('Forth layer weights')\n",
        "axs[4].hist(out_w.flatten(), 50)\n",
        "axs[4].set_title('Output layer weights')\n",
        "[ax.grid() for ax in axs]\n",
        "plt.tight_layout()\n",
        "plt.show()"
      ],
      "execution_count": 65,
      "outputs": [
        {
          "output_type": "display_data",
          "data": {
            "image/png": "[encoded data removed]",
            "text/plain": [
              "<Figure size 864x576 with 5 Axes>"
            ]
          },
          "metadata": {
            "tags": [],
            "needs_background": "light"
          }
        }
      ]
    },
    {
      "cell_type": "code",
      "metadata": {
        "id": "VpGCP8IH7Gb2"
      },
      "source": [
        "net_state_dict = net.state_dict()\n",
        "# Save the state dict to a file\n",
        "#the best model is saved in net_parameters.torch\n",
        "torch.save(net_state_dict, 'net_parameters_test.torch')"
      ],
      "execution_count": 66,
      "outputs": []
    },
    {
      "cell_type": "code",
      "metadata": {
        "id": "4EDfPVHw7J49",
        "colab": {
          "base_uri": "https://localhost:8080/",
          "height": 441
        },
        "outputId": "e7e99453-094c-4727-d4c9-4a77496f4593"
      },
      "source": [
        "def get_activation(layer, input, output):\n",
        "    global activation\n",
        "    activation = torch.relu(output)\n",
        "    \n",
        "\n",
        "### Register hook  \n",
        "#We want to inspect the neurons values of the second layer given a specific input in order to show which neuron will fire\n",
        "hook_handle = net.f6.register_forward_hook(get_activation) #It's called whenever a forward step is done. \n",
        "#When forward phase is completed, hook is called, the activation function used is called and is stored in order to\n",
        "#vizualize the activated neurons of a specific layer\n",
        "\n",
        "### Analyze activations\n",
        "little_dataloader = DataLoader(test_dataset, batch_size=3, shuffle=True, num_workers=0)\n",
        "for batch in little_dataloader:\n",
        "  images = batch[0]\n",
        "  \n",
        "  labels = batch[1]\n",
        "  x1 = images[0]\n",
        "  label1 = labels[0]\n",
        "  x1 = x1.unsqueeze(0).to(device)\n",
        "  x2 = images[1]\n",
        "  label2 = labels[1]\n",
        "  x2 = x2.unsqueeze(0).to(device)\n",
        "  x3 = images[2]\n",
        "  label3 = labels[2]\n",
        "  x3 = x3.unsqueeze(0).to(device)\n",
        "  break\n",
        "net = net.to(device)\n",
        "net.eval()\n",
        "with torch.no_grad():\n",
        "    \n",
        "    y1 = net(x1)\n",
        "    z1 = activation \n",
        "    \n",
        "    y2 = net(x2)\n",
        "    z2 = activation\n",
        "    \n",
        "    y3 = net(x3)\n",
        "    z3 = activation\n",
        "\n",
        "### Remove hook\n",
        "hook_handle.remove()\n",
        "### Plot activations\n",
        "fig, axs = plt.subplots(3, 1, figsize=(12,6))\n",
        "\n",
        "axs[0].stem(z1.cpu().numpy()[0], use_line_collection=True)\n",
        "axs[0].set_title('Layer activations for input x=%.2f' % label1)\n",
        "axs[1].stem(z2.cpu().numpy()[0], use_line_collection=True)\n",
        "axs[1].set_title('Layer activations for input x=%.2f' % label2)\n",
        "axs[2].stem(z3.cpu().numpy()[0], use_line_collection=True)\n",
        "axs[2].set_title('Layer activations for input x=%.2f' % label3)\n",
        "plt.tight_layout()\n",
        "plt.show()"
      ],
      "execution_count": 67,
      "outputs": [
        {
          "output_type": "display_data",
          "data": {
            "image/png": "[encoded data removed]",
            "text/plain": [
              "<Figure size 864x432 with 3 Axes>"
            ]
          },
          "metadata": {
            "tags": [],
            "needs_background": "light"
          }
        }
      ]
    },
    {
      "cell_type": "markdown",
      "metadata": {
        "id": "XkbZz-O6774Q"
      },
      "source": [
        "**Kernels**"
      ]
    },
    {
      "cell_type": "code",
      "metadata": {
        "id": "XsQpLnOW7eBT",
        "colab": {
          "base_uri": "https://localhost:8080/",
          "height": 1000
        },
        "outputId": "dfa9baf6-9d71-410f-d676-31e0cfaf76cc"
      },
      "source": [
        "\n",
        "\n",
        "def visTensor(tensor, ch=0, allkernels=False, nrow=8, padding=1): \n",
        "        n,c,w,h = tensor.shape\n",
        "        #tensor *= 255\n",
        "        if allkernels: tensor = tensor.view(n*c, -1, w, h)\n",
        "        elif c != 3: tensor = tensor[:,ch,:,:].unsqueeze(dim=1)\n",
        "\n",
        "        rows = np.min((tensor.shape[0] // nrow + 1, 64))    \n",
        "        grid = torchvision.utils.make_grid(tensor, nrow=nrow, normalize=True, padding=padding)\n",
        "        plt.figure( figsize=(nrow,rows) )\n",
        "        plt.imshow(grid.numpy().transpose((1, 2, 0)))\n",
        "        plt.axis('off')\n",
        "        plt.ioff()\n",
        "        plt.show()\n",
        "\n",
        "\n",
        "#filter_img = torchvision.utils.make_grid(kernels)\n",
        "#print(filter_img.shape)\n",
        "\n",
        "#plt.imshow(filter_img.permute(1, 2, 0))\n",
        "\n",
        "visTensor(net.c1.weight.detach().cpu(), ch=0, allkernels=False)\n",
        "\n",
        "visTensor(net.c3.weight.detach().cpu(), ch=0, allkernels=False)\n",
        "\n",
        "visTensor(net.c5.weight.detach().cpu(), ch=0, allkernels=False)\n"
      ],
      "execution_count": 68,
      "outputs": [
        {
          "output_type": "display_data",
          "data": {
            "image/png": "[encoded data removed]",
            "text/plain": [
              "<Figure size 576x72 with 1 Axes>"
            ]
          },
          "metadata": {
            "tags": [],
            "needs_background": "light"
          }
        },
        {
          "output_type": "display_data",
          "data": {
            "image/png": "[encoded data removed]",
            "text/plain": [
              "<Figure size 576x216 with 1 Axes>"
            ]
          },
          "metadata": {
            "tags": [],
            "needs_background": "light"
          }
        },
        {
          "output_type": "display_data",
          "data": {
            "image/png": "[encoded data removed]",
            "text/plain": [
              "<Figure size 576x1152 with 1 Axes>"
            ]
          },
          "metadata": {
            "tags": [],
            "needs_background": "light"
          }
        }
      ]
    },
    {
      "cell_type": "markdown",
      "metadata": {
        "id": "yf9o1qrq72tA"
      },
      "source": [
        "**Feature maps**"
      ]
    },
    {
      "cell_type": "code",
      "metadata": {
        "id": "Tglwmz6CC7Ux",
        "colab": {
          "base_uri": "https://localhost:8080/",
          "height": 1000
        },
        "outputId": "09de7746-1a5b-4512-8b74-e130c726f54b"
      },
      "source": [
        "act = nn.ReLU()\n",
        "c1 = net.c1.to(device)\n",
        "images1 = c1(x1)\n",
        "images1 = act(images1)\n",
        "images1cpu = images1.detach().cpu()\n",
        "visTensor(images1cpu, ch=0, allkernels=True)\n",
        "\n",
        "s2 = net.s2.to(device)\n",
        "c3 = net.c3.to(device)\n",
        "images2 = s2(images1)\n",
        "images2 = c3(images2)\n",
        "images2 = act(images2)\n",
        "images2cpu = images2.detach().cpu()\n",
        "\n",
        "visTensor(images2cpu, ch=0, allkernels=True)\n",
        "\n",
        "\n",
        "s4 = net.s4.to(device)\n",
        "c5 = net.c5.to(device)\n",
        "images3 = c5(s4(images2))\n",
        "images3cpu = images3.detach().cpu()\n",
        "visTensor(images3cpu, ch=0, allkernels=True)\n",
        "print(images3.shape)\n",
        "\n"
      ],
      "execution_count": 69,
      "outputs": [
        {
          "output_type": "display_data",
          "data": {
            "image/png": "[encoded data removed]",
            "text/plain": [
              "<Figure size 576x72 with 1 Axes>"
            ]
          },
          "metadata": {
            "tags": [],
            "needs_background": "light"
          }
        },
        {
          "output_type": "display_data",
          "data": {
            "image/png": "[encoded data removed]",
            "text/plain": [
              "<Figure size 576x216 with 1 Axes>"
            ]
          },
          "metadata": {
            "tags": [],
            "needs_background": "light"
          }
        },
        {
          "output_type": "display_data",
          "data": {
            "image/png": "[encoded data removed]",
            "text/plain": [
              "<Figure size 576x1152 with 1 Axes>"
            ]
          },
          "metadata": {
            "tags": [],
            "needs_background": "light"
          }
        },
        {
          "output_type": "stream",
          "text": [
            "torch.Size([1, 120, 1, 1])\n"
          ],
          "name": "stdout"
        }
      ]
    },
    {
      "cell_type": "code",
      "metadata": {
        "id": "yAKWLq9lVAQf"
      },
      "source": [
        "def visualize_receptive_field(image):\n",
        "  input = torch.ones_like(image, requires_grad=True)\n",
        "  out = net(input)\n",
        "  sig = nn.Sigmoid()\n",
        "    \n",
        "  prediction = torch.argmax(sig(net(image)), dim=1) #prediction of the true image\n",
        "  #print(sig(out))\n",
        "\n",
        "  grad = torch.zeros_like(out, requires_grad=True)\n",
        "  grad[0][prediction] = 1\n",
        "  #print(grad)\n",
        "\n",
        "  out.backward(gradient=grad)\n",
        "  gradient_of_input = input.grad[0, 0].data.cpu().numpy()\n",
        "  gradient_of_input = gradient_of_input / np.amax(gradient_of_input)\n",
        "\n",
        "  def normalize(activations):\n",
        "      # transform activations so that all the values be in range [0, 1]\n",
        "      activations = activations - np.min(activations[:])\n",
        "      activations = activations / np.max(activations[:])\n",
        "      return activations\n",
        "\n",
        "\n",
        "  def visualize_activations(image, activations):\n",
        "      activations = normalize(activations)\n",
        "\n",
        "      # replicate the activations to go from 1 channel to 3\n",
        "      # as we have colorful input image\n",
        "      # we could use cvtColor with GRAY2BGR flag here, but it is not\n",
        "      # safe - our values are floats, but cvtColor expects 8-bit or\n",
        "      # 16-bit inttegers\n",
        "      masked_image = (image * activations)\n",
        "        \n",
        "      return masked_image\n",
        "\n",
        "\n",
        "  receptive_field_mask = visualize_activations(image.cpu().numpy(), gradient_of_input)\n",
        "  return receptive_field_mask[0][0]\n",
        "  #plt.imshow(receptive_field_mask[0][0], cmap='Greys')\n",
        "  #plt.show()\n",
        "    \n"
      ],
      "execution_count": 70,
      "outputs": []
    },
    {
      "cell_type": "code",
      "metadata": {
        "id": "owUIVB3mjE2u",
        "colab": {
          "base_uri": "https://localhost:8080/",
          "height": 761
        },
        "outputId": "e683e59b-1e40-41fc-8385-189333115614"
      },
      "source": [
        "rec1 = visualize_receptive_field(x1)\n",
        "plt.imshow(rec1, cmap='Greys')\n",
        "plt.show()\n",
        "\n",
        "rec2 = visualize_receptive_field(x2)\n",
        "plt.imshow(rec2, cmap='Greys')\n",
        "plt.show()\n",
        "\n",
        "rec3 = visualize_receptive_field(x3)\n",
        "plt.imshow(rec3, cmap='Greys')\n",
        "plt.show()"
      ],
      "execution_count": 71,
      "outputs": [
        {
          "output_type": "display_data",
          "data": {
            "image/png": "[encoded data removed]",
            "text/plain": [
              "<Figure size 432x288 with 1 Axes>"
            ]
          },
          "metadata": {
            "tags": [],
            "needs_background": "light"
          }
        },
        {
          "output_type": "display_data",
          "data": {
            "image/png": "[encoded data removed]",
            "text/plain": [
              "<Figure size 432x288 with 1 Axes>"
            ]
          },
          "metadata": {
            "tags": [],
            "needs_background": "light"
          }
        },
        {
          "output_type": "display_data",
          "data": {
            "image/png": "[encoded data removed]",
            "text/plain": [
              "<Figure size 432x288 with 1 Axes>"
            ]
          },
          "metadata": {
            "tags": [],
            "needs_background": "light"
          }
        }
      ]
    }
  ]
}